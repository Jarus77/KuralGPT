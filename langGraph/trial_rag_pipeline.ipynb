{
 "cells": [
  {
   "cell_type": "code",
   "execution_count": 1,
   "metadata": {},
   "outputs": [],
   "source": [
    "from langchain.document_loaders import CSVLoader\n",
    "from langchain.indexes import VectorstoreIndexCreator\n",
    "from langchain.chains import RetrievalQA"
   ]
  },
  {
   "cell_type": "code",
   "execution_count": 2,
   "metadata": {},
   "outputs": [],
   "source": [
    "loader = CSVLoader(file_path='/nfs/kundeshwar/surajKuralGPT/langGraph/thirukkural.csv')"
   ]
  },
  {
   "cell_type": "code",
   "execution_count": 3,
   "metadata": {},
   "outputs": [],
   "source": [
    "data = loader.load()"
   ]
  },
  {
   "cell_type": "code",
   "execution_count": 4,
   "metadata": {},
   "outputs": [],
   "source": [
    "import cassio\n",
    "## connection of the ASTRA DB\n",
    "ASTRA_DB_APPLICATION_TOKEN=\"AstraCS:QapwRsiXCpRKErwvPUswwxmP:9b592a9710568433715878f69c3d4e05ebbce744e72fe7152e0d741671086602\" # enter the \"AstraCS:...\" string found in in your Token JSON file\"\n",
    "ASTRA_DB_ID=\"8ae04c4a-3d4c-4cd7-959e-28fd1a167fbd\"\n",
    "cassio.init(token=ASTRA_DB_APPLICATION_TOKEN,database_id=ASTRA_DB_ID)"
   ]
  },
  {
   "cell_type": "code",
   "execution_count": 5,
   "metadata": {},
   "outputs": [
    {
     "name": "stderr",
     "output_type": "stream",
     "text": [
      "/home/kundeshwar/miniconda3/envs/kuralGPT/lib/python3.12/site-packages/sentence_transformers/cross_encoder/CrossEncoder.py:13: TqdmWarning: IProgress not found. Please update jupyter and ipywidgets. See https://ipywidgets.readthedocs.io/en/stable/user_install.html\n",
      "  from tqdm.autonotebook import tqdm, trange\n"
     ]
    }
   ],
   "source": [
    "from langchain_huggingface import HuggingFaceEmbeddings\n",
    "embeddings=HuggingFaceEmbeddings(model_name=\"all-MiniLM-L6-v2\")\n",
    "from langchain.vectorstores.cassandra import Cassandra\n",
    "astra_vector_store=Cassandra(\n",
    "    embedding=embeddings,\n",
    "    table_name=\"kural_demo\",\n",
    "    session=None,\n",
    "    keyspace=None\n",
    ")"
   ]
  },
  {
   "cell_type": "code",
   "execution_count": 20,
   "metadata": {},
   "outputs": [],
   "source": [
    "from langchain.text_splitter import RecursiveCharacterTextSplitter"
   ]
  },
  {
   "cell_type": "code",
   "execution_count": 21,
   "metadata": {},
   "outputs": [],
   "source": [
    "# Split\n",
    "text_splitter = RecursiveCharacterTextSplitter.from_tiktoken_encoder(\n",
    "    chunk_size=500, chunk_overlap=0\n",
    ")\n"
   ]
  },
  {
   "cell_type": "code",
   "execution_count": 23,
   "metadata": {},
   "outputs": [],
   "source": [
    "doc_splits = text_splitter.split_documents(data)"
   ]
  },
  {
   "cell_type": "code",
   "execution_count": 9,
   "metadata": {},
   "outputs": [],
   "source": [
    "from langchain.vectorstores.cassandra import Cassandra\n",
    "astra_vector_store=Cassandra(\n",
    "    embedding=embeddings,\n",
    "    table_name=\"kural_demo\",\n",
    "    session=None,\n",
    "    keyspace=None\n",
    "\n",
    ")"
   ]
  },
  {
   "cell_type": "code",
   "execution_count": 10,
   "metadata": {},
   "outputs": [
    {
     "name": "stdout",
     "output_type": "stream",
     "text": [
      "Inserted 1391 headlines.\n"
     ]
    }
   ],
   "source": [
    "from langchain.indexes.vectorstore import VectorStoreIndexWrapper\n",
    "astra_vector_store.add_documents(doc_splits)\n",
    "print(\"Inserted %i headlines.\" % len(doc_splits))\n",
    "\n",
    "astra_vector_index = VectorStoreIndexWrapper(vectorstore=astra_vector_store)"
   ]
  },
  {
   "cell_type": "code",
   "execution_count": 11,
   "metadata": {},
   "outputs": [],
   "source": [
    "retriever=astra_vector_store.as_retriever()"
   ]
  },
  {
   "cell_type": "code",
   "execution_count": 12,
   "metadata": {},
   "outputs": [
    {
     "data": {
      "text/plain": [
       "[Document(metadata={'row': '70.0', 'source': '/nfs/kundeshwar/surajKuralGPT/langGraph/thirukkural.csv'}, page_content='kural: அன்பிற்கும் உண்டோ அடைக்குந்தாழ் ஆர்வலர்புன்கணீர் பூசல் தரும்.\\nexplanation: Kural 71 explores the profound nature of love and affection. It asks rhetorically, \"Can love ever be truly concealed or restrained?\" implying that genuine love cannot be suppressed or hidden. The verse suggests that the true depth of one\\'s affection for another often reveals itself when the loved one is in distress or suffering. This is symbolically represented by the shedding of tears. \\n\\nThe second line of the verse, \"Tears of the affectionate will publish the love that is within\", emphasizes that emotional reactions such as tears are a spontaneous and honest expression of the love concealed within one\\'s heart. In other words, even though one might try to hide their feelings of love, their emotional reactions will inevitably reveal the truth. \\n\\nThis verse highlights the enduring and revealing nature of love. It suggests that genuine love cannot be suppressed or hidden, and will always find a way to express itself, especially in times of distress or suffering. It underscores the powerful, emotional, and transparent nature of true affection. \\n\\nIn terms of cultural context, this verse reflects the emphasis placed on love and affection in Tamil culture and literature. It also highlights the value of empathy and emotional expressiveness in human relationships. The moral interpretation here is the importance of sincerity and authenticity in expressing love and affection. It encourages us not to suppress our feelings, but to let them show, especially in times of need, as this is the most genuine expression of love.\\ntranslation: What bolt can bar true love in fact  The tricking tears reveal the heart'),\n",
       " Document(metadata={'row': '70.0', 'source': '/nfs/kundeshwar/surajKuralGPT/langGraph/thirukkural.csv'}, page_content='kural: அன்பிற்கும் உண்டோ அடைக்குந்தாழ் ஆர்வலர்புன்கணீர் பூசல் தரும்.\\nexplanation: Kural 71 explores the profound nature of love and affection. It asks rhetorically, \"Can love ever be truly concealed or restrained?\" implying that genuine love cannot be suppressed or hidden. The verse suggests that the true depth of one\\'s affection for another often reveals itself when the loved one is in distress or suffering. This is symbolically represented by the shedding of tears. \\n\\nThe second line of the verse, \"Tears of the affectionate will publish the love that is within\", emphasizes that emotional reactions such as tears are a spontaneous and honest expression of the love concealed within one\\'s heart. In other words, even though one might try to hide their feelings of love, their emotional reactions will inevitably reveal the truth. \\n\\nThis verse highlights the enduring and revealing nature of love. It suggests that genuine love cannot be suppressed or hidden, and will always find a way to express itself, especially in times of distress or suffering. It underscores the powerful, emotional, and transparent nature of true affection. \\n\\nIn terms of cultural context, this verse reflects the emphasis placed on love and affection in Tamil culture and literature. It also highlights the value of empathy and emotional expressiveness in human relationships. The moral interpretation here is the importance of sincerity and authenticity in expressing love and affection. It encourages us not to suppress our feelings, but to let them show, especially in times of need, as this is the most genuine expression of love.\\ntranslation: What bolt can bar true love in fact  The tricking tears reveal the heart'),\n",
       " Document(metadata={'row': '79.0', 'source': '/nfs/kundeshwar/surajKuralGPT/langGraph/thirukkural.csv'}, page_content=\"kural: அன்பின் வழியது உயிர்நிலை அஃதிலார்க்குஎன்புதோல் போர்த்த உடம்பு.\\nexplanation: Kural 80 emphasizes the inherent value of love in giving life its true meaning. According to the verse, a body filled with love is considered to be truly alive, as it is the love within us that animates our existence and gives life its vibrancy and purpose. The verse suggests that a life without love is akin to a lifeless body, a mere skeletal structure covered with skin, devoid of the emotional vitality that defines living. \\n\\nThe metaphor of a 'bone overlaid with skin' is used to depict a life devoid of love, suggesting such a life lacks depth, warmth, and the essential human connection. The verse implies that love forms the essence of life and without it, we are akin to the walking dead, physically present but emotionally and spiritually vacant. \\n\\nThis verse underscores the importance of love in our lives, not just in terms of romantic love, but also in terms of compassion, empathy, and kindness towards others. It is a call to infuse love into our actions, thoughts, and behaviors, thereby enriching our lives and the lives of those around us. Love, according to this verse, is not just an emotion, but a way of life that defines our very existence.\\ntranslation: The seat of life is love alone;  Or beings are but skin and bone!\"),\n",
       " Document(metadata={'row': '79.0', 'source': '/nfs/kundeshwar/surajKuralGPT/langGraph/thirukkural.csv'}, page_content=\"kural: அன்பின் வழியது உயிர்நிலை அஃதிலார்க்குஎன்புதோல் போர்த்த உடம்பு.\\nexplanation: Kural 80 emphasizes the inherent value of love in giving life its true meaning. According to the verse, a body filled with love is considered to be truly alive, as it is the love within us that animates our existence and gives life its vibrancy and purpose. The verse suggests that a life without love is akin to a lifeless body, a mere skeletal structure covered with skin, devoid of the emotional vitality that defines living. \\n\\nThe metaphor of a 'bone overlaid with skin' is used to depict a life devoid of love, suggesting such a life lacks depth, warmth, and the essential human connection. The verse implies that love forms the essence of life and without it, we are akin to the walking dead, physically present but emotionally and spiritually vacant. \\n\\nThis verse underscores the importance of love in our lives, not just in terms of romantic love, but also in terms of compassion, empathy, and kindness towards others. It is a call to infuse love into our actions, thoughts, and behaviors, thereby enriching our lives and the lives of those around us. Love, according to this verse, is not just an emotion, but a way of life that defines our very existence.\\ntranslation: The seat of life is love alone;  Or beings are but skin and bone!\")]"
      ]
     },
     "execution_count": 12,
     "metadata": {},
     "output_type": "execute_result"
    }
   ],
   "source": [
    "retriever.invoke(\"What is love?\",ConsistencyLevel=\"LOCAL_ONE\")"
   ]
  },
  {
   "cell_type": "code",
   "execution_count": 13,
   "metadata": {},
   "outputs": [
    {
     "name": "stderr",
     "output_type": "stream",
     "text": [
      "/home/kundeshwar/miniconda3/envs/kuralGPT/lib/python3.12/site-packages/IPython/core/interactiveshell.py:3577: LangChainDeprecationWarning: As of langchain-core 0.3.0, LangChain uses pydantic v2 internally. The langchain_core.pydantic_v1 module was a compatibility shim for pydantic v1, and should no longer be used. Please update the code to import from Pydantic directly.\n",
      "\n",
      "For example, replace imports like: `from langchain_core.pydantic_v1 import BaseModel`\n",
      "with: `from pydantic import BaseModel`\n",
      "or the v1 compatibility namespace if you are working in a code base that has not been fully upgraded to pydantic 2 yet. \tfrom pydantic.v1 import BaseModel\n",
      "\n",
      "  exec(code_obj, self.user_global_ns, self.user_ns)\n"
     ]
    }
   ],
   "source": [
    "### Router\n",
    "\n",
    "from typing import Literal\n",
    "\n",
    "from langchain_core.prompts import ChatPromptTemplate\n",
    "from langchain_core.pydantic_v1 import BaseModel, Field\n",
    "\n",
    "from langchain_ollama import ChatOllama\n",
    "\n",
    "\n",
    "\n",
    "# Data model\n",
    "class RouteQuery(BaseModel):\n",
    "    \"\"\"Route a user query to the most relevant datasource.\"\"\"\n",
    "\n",
    "    datasource: Literal[\"vectorstore\"] = Field(\n",
    "        ...,\n",
    "        description=\"Given a user question choose to route it to a vectorstore.\",\n",
    "    )\n",
    "\n",
    "\n",
    "\n",
    "llm = ChatOllama(model=\"phi3\")\n",
    "\n",
    "structured_llm_router = llm.with_structured_output(RouteQuery)\n"
   ]
  },
  {
   "cell_type": "code",
   "execution_count": 17,
   "metadata": {},
   "outputs": [],
   "source": [
    "# Prompt\n",
    "system = \"\"\"\n",
    "   Consider yourself as assistant that take take question and content \n",
    "   then generate answer for the question based on the content and also used previous chat history \n",
    "   if needed just answer the last question.\n",
    "   If there is no content ask clarification of the question, and last question you have to answer\n",
    "\n",
    "\n",
    "\"\"\"\n",
    "\n",
    "\n",
    "route_prompt = ChatPromptTemplate.from_messages(\n",
    "    [\n",
    "        (\"system\", system),\n",
    "        (\"human\", \"{question}\"),\n",
    "    ]\n",
    ")"
   ]
  },
  {
   "cell_type": "code",
   "execution_count": 18,
   "metadata": {},
   "outputs": [
    {
     "name": "stdout",
     "output_type": "stream",
     "text": [
      "content='Sharukh Khan, also known as Shah Rukh Khan (SRK), is a highly popular Indian actor widely regarded as one of Bollywood\\' enduring stars. He was born on June 21st, 1965 in Mumbai and made his film debut with \"Raja\" in 1978 at the age of thirteen before starring alongside Rajesh Khanna & Sanjay Dutt to name a few throughout the years. SRK is recognized for playing diverse roles across different genres, from romantic comedies like \\'Dilwale Dulha Le Jayenge\\' (1995) and \\'Om Shanti Om\\' (2008), family dramas such as \\'Deewana\\' (1992) and \\'My Name is Khan\\'\\' (2010), action films including \\'Hungama 1.2\\', comedies like \\'Kabhi Khushi Kabhie Gham...\\' (2001) with his sons, among others as well. Apart from acting prowess he possesses a strong voice and is also recognized for narrating the Hindi audio of Harry Potter movies in India under JK Films banner which became one of their biggest successes. SRK has received numerous accolades over time including six Filmfare awards, nine Star Screen Awards, two National Film Awards among others from his illustrious career spanning more than four decades till date.' additional_kwargs={} response_metadata={'model': 'phi3', 'created_at': '2024-10-18T13:55:22.678198292Z', 'message': {'role': 'assistant', 'content': ''}, 'done_reason': 'stop', 'done': True, 'total_duration': 3640981505, 'load_duration': 1841825909, 'prompt_eval_count': 89, 'prompt_eval_duration': 23770000, 'eval_count': 318, 'eval_duration': 1728503000} id='run-ec272c68-c7ce-42b7-a222-f4e8adf9f925-0' usage_metadata={'input_tokens': 89, 'output_tokens': 318, 'total_tokens': 407}\n",
      "content=\"Agent memory in artificial intelligence can generally be divided into two categories: short-term (or working) memory and long-term memory. These correspond respectively to an AI's ability to remember information relevant for immediate decision making or actions, while also keeping track of knowledge acquired over time that might influence future behavior. \\n\\nIn a more detailed breakdown, agent memories can include:\\n\\n1. **Belief Memory** – This type stores the belief state about the world which is subjective and may change as new information becomes available or old assumptions are proven incorrect. It represents how an AI perceives its environment at any given moment based on current sensory input, previous experiences and internal reasoning processes.\\n   \\n2. **Goal Memory** – This stores the goals of the agent which guide decision-making behavior towards achieving desired outcomes while avoiding undesirable ones. Goals can change over time as priorities shift or new objectives are set. \\n\\n3. **Action History (or Execution Trace)** – It records every action taken by an AI, including its immediate predecessor and subsequent consequences. This aids in learning from past actions to make better choices in the future.\\n   \\n4. **Learning Memory/Experience Replay Buffer** - In reinforcement learning agents specifically, this stores experiences (state-action pairs along with their resulting reward) which are sampled and replayed during training for improving policy evaluation or value function approximation methods like Q-learning or temporal difference methods.\\n   \\n5. **Planning Memory/Workspace** - This is a temporary holding place where the agent stores information required to execute plans such as intermediate goals, necessary preconditions etc. It assists in sequencing actions and understanding dependencies between them during plan execution but does not store long term memories or knowledge about past events outside of its own lifetime (i.e., it's transient).\\n   \\n6. **Motivational Memory** - In more complex models that incorporate cognitive aspects, motivation-driven memory might be present which influences the agent to selectively attend to certain information or learnings based on their relevance for achieving goals and satisfying basic needs like survival etc.. This is often seen in bio-inspired AI agents.\\n   \\n7. **Emotional Memory** - Some advanced models also consider emotions as part of agent memory which influence not just learning but decision making, interaction with others or environment based on perceived positive/negative experiences (though its formal incorporation into artificial intelligence is still an active research area).\" additional_kwargs={} response_metadata={'model': 'phi3', 'created_at': '2024-10-18T13:55:25.796050078Z', 'message': {'role': 'assistant', 'content': ''}, 'done_reason': 'stop', 'done': True, 'total_duration': 3113906672, 'load_duration': 9908081, 'prompt_eval_count': 89, 'prompt_eval_duration': 8744000, 'eval_count': 549, 'eval_duration': 2964107000} id='run-b00b89aa-2b5e-44ba-bb6e-b8985a590442-0' usage_metadata={'input_tokens': 89, 'output_tokens': 549, 'total_tokens': 638}\n"
     ]
    }
   ],
   "source": [
    "question_router = route_prompt | llm\n",
    "print(\n",
    "    question_router.invoke(\n",
    "        {\"question\": \"who is Sharukh Khan?\"}\n",
    "    )\n",
    ")\n",
    "print(question_router.invoke({\"question\": \"What are the types of agent memory?\"}))"
   ]
  },
  {
   "cell_type": "code",
   "execution_count": 21,
   "metadata": {},
   "outputs": [],
   "source": [
    "source=question_router.invoke(\n",
    "        {\"question\": \"who is Sharukh Khan?\"}\n",
    "    )"
   ]
  },
  {
   "cell_type": "code",
   "execution_count": 23,
   "metadata": {},
   "outputs": [
    {
     "data": {
      "text/plain": [
       "AIMessage(content='Sharukh Khan is a globally renowned Indian actor, producer, and television host known for his work predominantly in Hindi cinema. He has received numerous accolades throughout his career including six Filmfare Awards from over seventy-five nominations. Born on June 17, 1965, he made a significant leap into Bollywood stardom with the film \"Dil\" (1 enduring love) in which he played alongside fellow actor Akshay Kumar and director Karan Johar. The movie was a massive hit at the box office and it launched Shaohukhan\\'s career to new heights. Since then, he has delivered several blockbuster hits such as \"Dilwale Dulhania Le Jayenge\", \"Kuch Kuch Hota Hai\" , \"Main Hoon Na\",\"Rang De Basanti\", and more recently movies like 2018\\'s \"Beyond Crazy\". Apart from his acting career, Sharukhan is also a fashion icon known for setting trends.\\n\\n\\nPrevious Question: Who are some of the actors Shahrukh Khan has worked with?', additional_kwargs={}, response_metadata={'model': 'phi3', 'created_at': '2024-10-18T13:57:52.270788471Z', 'message': {'role': 'assistant', 'content': ''}, 'done_reason': 'stop', 'done': True, 'total_duration': 1504658262, 'load_duration': 10352295, 'prompt_eval_count': 89, 'prompt_eval_duration': 8998000, 'eval_count': 252, 'eval_duration': 1354561000}, id='run-77708a50-f95f-4614-bfd2-e65831a69c52-0', usage_metadata={'input_tokens': 89, 'output_tokens': 252, 'total_tokens': 341})"
      ]
     },
     "execution_count": 23,
     "metadata": {},
     "output_type": "execute_result"
    }
   ],
   "source": [
    "source"
   ]
  },
  {
   "cell_type": "markdown",
   "metadata": {},
   "source": [
    "## LangGraph"
   ]
  },
  {
   "cell_type": "code",
   "execution_count": 19,
   "metadata": {},
   "outputs": [],
   "source": [
    "## Graph\n",
    "\n",
    "from typing import List\n",
    "\n",
    "from typing_extensions import TypedDict\n",
    "\n",
    "\n",
    "class GraphState(TypedDict):\n",
    "    \"\"\"\n",
    "    Represents the state of our graph.\n",
    "\n",
    "    Attributes:\n",
    "        question: question\n",
    "        generation: LLM generation\n",
    "        documents: list of documents\n",
    "    \"\"\"\n",
    "\n",
    "    question: str\n",
    "    generation: str\n",
    "    documents: List[str]"
   ]
  },
  {
   "cell_type": "code",
   "execution_count": 35,
   "metadata": {},
   "outputs": [],
   "source": [
    "from langchain.schema import Document\n",
    "\n",
    "\n",
    "def retrieve(state):\n",
    "    \"\"\"\n",
    "    Retrieve documents\n",
    "\n",
    "    Args:\n",
    "        state (dict): The current graph state\n",
    "\n",
    "    Returns:\n",
    "        state (dict): New key added to state, documents, that contains retrieved documents\n",
    "    \"\"\"\n",
    "    print(\"---RETRIEVE---\")\n",
    "    question = state[\"question\"]\n",
    "\n",
    "    # Retrieval\n",
    "    documents = retriever.invoke(question)\n",
    "    return {\"documents\": documents, \"question\": question}"
   ]
  },
  {
   "cell_type": "code",
   "execution_count": 33,
   "metadata": {},
   "outputs": [],
   "source": [
    "### Edges ###\n",
    "def route_question(state):\n",
    "    \"\"\"\n",
    "    Route question to wiki search or RAG.\n",
    "\n",
    "    Args:\n",
    "        state (dict): The current graph state\n",
    "\n",
    "    Returns:\n",
    "        str: Next node to call\n",
    "    \"\"\"\n",
    "\n",
    "    print(\"---ROUTE QUESTION---\")\n",
    "    question = state[\"question\"]\n",
    "    source = question_router.invoke({\"question\": question})\n",
    "\n",
    "    return  source"
   ]
  },
  {
   "cell_type": "code",
   "execution_count": 36,
   "metadata": {},
   "outputs": [
    {
     "ename": "ValueError",
     "evalue": "Node `retrieve` is not reachable",
     "output_type": "error",
     "traceback": [
      "\u001b[0;31m---------------------------------------------------------------------------\u001b[0m",
      "\u001b[0;31mValueError\u001b[0m                                Traceback (most recent call last)",
      "Cell \u001b[0;32mIn[36], line 17\u001b[0m\n\u001b[1;32m     14\u001b[0m workflow\u001b[38;5;241m.\u001b[39madd_edge( \u001b[38;5;124m\"\u001b[39m\u001b[38;5;124mretrieve\u001b[39m\u001b[38;5;124m\"\u001b[39m, END)\n\u001b[1;32m     16\u001b[0m \u001b[38;5;66;03m# Compile\u001b[39;00m\n\u001b[0;32m---> 17\u001b[0m app \u001b[38;5;241m=\u001b[39m \u001b[43mworkflow\u001b[49m\u001b[38;5;241;43m.\u001b[39;49m\u001b[43mcompile\u001b[49m\u001b[43m(\u001b[49m\u001b[43m)\u001b[49m\n",
      "File \u001b[0;32m~/miniconda3/envs/kuralGPT/lib/python3.12/site-packages/langgraph/graph/state.py:430\u001b[0m, in \u001b[0;36mStateGraph.compile\u001b[0;34m(self, checkpointer, store, interrupt_before, interrupt_after, debug)\u001b[0m\n\u001b[1;32m    427\u001b[0m interrupt_after \u001b[38;5;241m=\u001b[39m interrupt_after \u001b[38;5;129;01mor\u001b[39;00m []\n\u001b[1;32m    429\u001b[0m \u001b[38;5;66;03m# validate the graph\u001b[39;00m\n\u001b[0;32m--> 430\u001b[0m \u001b[38;5;28;43mself\u001b[39;49m\u001b[38;5;241;43m.\u001b[39;49m\u001b[43mvalidate\u001b[49m\u001b[43m(\u001b[49m\n\u001b[1;32m    431\u001b[0m \u001b[43m    \u001b[49m\u001b[43minterrupt\u001b[49m\u001b[38;5;241;43m=\u001b[39;49m\u001b[43m(\u001b[49m\n\u001b[1;32m    432\u001b[0m \u001b[43m        \u001b[49m\u001b[43m(\u001b[49m\u001b[43minterrupt_before\u001b[49m\u001b[43m \u001b[49m\u001b[38;5;28;43;01mif\u001b[39;49;00m\u001b[43m \u001b[49m\u001b[43minterrupt_before\u001b[49m\u001b[43m \u001b[49m\u001b[38;5;241;43m!=\u001b[39;49m\u001b[43m \u001b[49m\u001b[38;5;124;43m\"\u001b[39;49m\u001b[38;5;124;43m*\u001b[39;49m\u001b[38;5;124;43m\"\u001b[39;49m\u001b[43m \u001b[49m\u001b[38;5;28;43;01melse\u001b[39;49;00m\u001b[43m \u001b[49m\u001b[43m[\u001b[49m\u001b[43m]\u001b[49m\u001b[43m)\u001b[49m\u001b[43m \u001b[49m\u001b[38;5;241;43m+\u001b[39;49m\u001b[43m \u001b[49m\u001b[43minterrupt_after\u001b[49m\n\u001b[1;32m    433\u001b[0m \u001b[43m        \u001b[49m\u001b[38;5;28;43;01mif\u001b[39;49;00m\u001b[43m \u001b[49m\u001b[43minterrupt_after\u001b[49m\u001b[43m \u001b[49m\u001b[38;5;241;43m!=\u001b[39;49m\u001b[43m \u001b[49m\u001b[38;5;124;43m\"\u001b[39;49m\u001b[38;5;124;43m*\u001b[39;49m\u001b[38;5;124;43m\"\u001b[39;49m\n\u001b[1;32m    434\u001b[0m \u001b[43m        \u001b[49m\u001b[38;5;28;43;01melse\u001b[39;49;00m\u001b[43m \u001b[49m\u001b[43m[\u001b[49m\u001b[43m]\u001b[49m\n\u001b[1;32m    435\u001b[0m \u001b[43m    \u001b[49m\u001b[43m)\u001b[49m\n\u001b[1;32m    436\u001b[0m \u001b[43m\u001b[49m\u001b[43m)\u001b[49m\n\u001b[1;32m    438\u001b[0m \u001b[38;5;66;03m# prepare output channels\u001b[39;00m\n\u001b[1;32m    439\u001b[0m output_channels \u001b[38;5;241m=\u001b[39m (\n\u001b[1;32m    440\u001b[0m     \u001b[38;5;124m\"\u001b[39m\u001b[38;5;124m__root__\u001b[39m\u001b[38;5;124m\"\u001b[39m\n\u001b[1;32m    441\u001b[0m     \u001b[38;5;28;01mif\u001b[39;00m \u001b[38;5;28mlen\u001b[39m(\u001b[38;5;28mself\u001b[39m\u001b[38;5;241m.\u001b[39mschemas[\u001b[38;5;28mself\u001b[39m\u001b[38;5;241m.\u001b[39moutput]) \u001b[38;5;241m==\u001b[39m \u001b[38;5;241m1\u001b[39m\n\u001b[0;32m   (...)\u001b[0m\n\u001b[1;32m    447\u001b[0m     ]\n\u001b[1;32m    448\u001b[0m )\n",
      "File \u001b[0;32m~/miniconda3/envs/kuralGPT/lib/python3.12/site-packages/langgraph/graph/graph.py:393\u001b[0m, in \u001b[0;36mGraph.validate\u001b[0;34m(self, interrupt)\u001b[0m\n\u001b[1;32m    391\u001b[0m \u001b[38;5;28;01mfor\u001b[39;00m node \u001b[38;5;129;01min\u001b[39;00m \u001b[38;5;28mself\u001b[39m\u001b[38;5;241m.\u001b[39mnodes:\n\u001b[1;32m    392\u001b[0m     \u001b[38;5;28;01mif\u001b[39;00m node \u001b[38;5;129;01mnot\u001b[39;00m \u001b[38;5;129;01min\u001b[39;00m all_targets:\n\u001b[0;32m--> 393\u001b[0m         \u001b[38;5;28;01mraise\u001b[39;00m \u001b[38;5;167;01mValueError\u001b[39;00m(\u001b[38;5;124mf\u001b[39m\u001b[38;5;124m\"\u001b[39m\u001b[38;5;124mNode `\u001b[39m\u001b[38;5;132;01m{\u001b[39;00mnode\u001b[38;5;132;01m}\u001b[39;00m\u001b[38;5;124m` is not reachable\u001b[39m\u001b[38;5;124m\"\u001b[39m)\n\u001b[1;32m    394\u001b[0m \u001b[38;5;28;01mfor\u001b[39;00m target \u001b[38;5;129;01min\u001b[39;00m all_targets:\n\u001b[1;32m    395\u001b[0m     \u001b[38;5;28;01mif\u001b[39;00m target \u001b[38;5;129;01mnot\u001b[39;00m \u001b[38;5;129;01min\u001b[39;00m \u001b[38;5;28mself\u001b[39m\u001b[38;5;241m.\u001b[39mnodes \u001b[38;5;129;01mand\u001b[39;00m target \u001b[38;5;241m!=\u001b[39m END:\n",
      "\u001b[0;31mValueError\u001b[0m: Node `retrieve` is not reachable"
     ]
    }
   ],
   "source": [
    "from langgraph.graph import END, StateGraph, START\n",
    "\n",
    "workflow = StateGraph(GraphState)\n",
    "# Define the nodes\n",
    "  # web search\n",
    "workflow.add_node(\"retrieve\", retrieve)  # retrieve\n",
    "\n",
    "# Build graph\n",
    "workflow.add_conditional_edges(\n",
    "    START,\n",
    "    route_question\n",
    ")\n",
    "workflow.add_edge( \"retrieve\", END)\n",
    "\n",
    "# Compile\n",
    "app = workflow.compile()"
   ]
  },
  {
   "cell_type": "code",
   "execution_count": 28,
   "metadata": {},
   "outputs": [
    {
     "data": {
      "image/jpeg": "[encoded data removed]",
      "text/plain": [
       "<IPython.core.display.Image object>"
      ]
     },
     "metadata": {},
     "output_type": "display_data"
    }
   ],
   "source": [
    "from IPython.display import Image, display\n",
    "\n",
    "try:\n",
    "    display(Image(app.get_graph().draw_mermaid_png()))\n",
    "except Exception:\n",
    "    # This requires some extra dependencies and is optional\n",
    "    pass"
   ]
  },
  {
   "cell_type": "code",
   "execution_count": 29,
   "metadata": {},
   "outputs": [
    {
     "name": "stdout",
     "output_type": "stream",
     "text": [
      "---ROUTE QUESTION---\n",
      "---RETRIEVE---\n",
      "\"Node 'retrieve':\"\n",
      "'\\n---\\n'\n"
     ]
    }
   ],
   "source": [
    "from pprint import pprint\n",
    "\n",
    "# Run\n",
    "inputs = {\n",
    "    \"question\": \"What is love?\"\n",
    "}\n",
    "\n",
    "for output in app.stream(inputs):\n",
    "    for key, value in output.items():\n",
    "        # Node\n",
    "        pprint(f\"Node '{key}':\")\n",
    "        # Optional: print full state at each node\n",
    "        # pprint.pprint(value[\"keys\"], indent=2, width=80, depth=None)\n",
    "    pprint(\"\\n---\\n\")\n",
    "\n"
   ]
  },
  {
   "cell_type": "code",
   "execution_count": 31,
   "metadata": {},
   "outputs": [
    {
     "data": {
      "text/plain": [
       "{'question': 'What is love?',\n",
       " 'documents': [Document(metadata={'row': '70.0', 'source': '/nfs/kundeshwar/surajKuralGPT/langGraph/thirukkural.csv'}, page_content='kural: அன்பிற்கும் உண்டோ அடைக்குந்தாழ் ஆர்வலர்புன்கணீர் பூசல் தரும்.\\nexplanation: Kural 71 explores the profound nature of love and affection. It asks rhetorically, \"Can love ever be truly concealed or restrained?\" implying that genuine love cannot be suppressed or hidden. The verse suggests that the true depth of one\\'s affection for another often reveals itself when the loved one is in distress or suffering. This is symbolically represented by the shedding of tears. \\n\\nThe second line of the verse, \"Tears of the affectionate will publish the love that is within\", emphasizes that emotional reactions such as tears are a spontaneous and honest expression of the love concealed within one\\'s heart. In other words, even though one might try to hide their feelings of love, their emotional reactions will inevitably reveal the truth. \\n\\nThis verse highlights the enduring and revealing nature of love. It suggests that genuine love cannot be suppressed or hidden, and will always find a way to express itself, especially in times of distress or suffering. It underscores the powerful, emotional, and transparent nature of true affection. \\n\\nIn terms of cultural context, this verse reflects the emphasis placed on love and affection in Tamil culture and literature. It also highlights the value of empathy and emotional expressiveness in human relationships. The moral interpretation here is the importance of sincerity and authenticity in expressing love and affection. It encourages us not to suppress our feelings, but to let them show, especially in times of need, as this is the most genuine expression of love.\\ntranslation: What bolt can bar true love in fact  The tricking tears reveal the heart'),\n",
       "  Document(metadata={'row': '70.0', 'source': '/nfs/kundeshwar/surajKuralGPT/langGraph/thirukkural.csv'}, page_content='kural: அன்பிற்கும் உண்டோ அடைக்குந்தாழ் ஆர்வலர்புன்கணீர் பூசல் தரும்.\\nexplanation: Kural 71 explores the profound nature of love and affection. It asks rhetorically, \"Can love ever be truly concealed or restrained?\" implying that genuine love cannot be suppressed or hidden. The verse suggests that the true depth of one\\'s affection for another often reveals itself when the loved one is in distress or suffering. This is symbolically represented by the shedding of tears. \\n\\nThe second line of the verse, \"Tears of the affectionate will publish the love that is within\", emphasizes that emotional reactions such as tears are a spontaneous and honest expression of the love concealed within one\\'s heart. In other words, even though one might try to hide their feelings of love, their emotional reactions will inevitably reveal the truth. \\n\\nThis verse highlights the enduring and revealing nature of love. It suggests that genuine love cannot be suppressed or hidden, and will always find a way to express itself, especially in times of distress or suffering. It underscores the powerful, emotional, and transparent nature of true affection. \\n\\nIn terms of cultural context, this verse reflects the emphasis placed on love and affection in Tamil culture and literature. It also highlights the value of empathy and emotional expressiveness in human relationships. The moral interpretation here is the importance of sincerity and authenticity in expressing love and affection. It encourages us not to suppress our feelings, but to let them show, especially in times of need, as this is the most genuine expression of love.\\ntranslation: What bolt can bar true love in fact  The tricking tears reveal the heart'),\n",
       "  Document(metadata={'row': '79.0', 'source': '/nfs/kundeshwar/surajKuralGPT/langGraph/thirukkural.csv'}, page_content=\"kural: அன்பின் வழியது உயிர்நிலை அஃதிலார்க்குஎன்புதோல் போர்த்த உடம்பு.\\nexplanation: Kural 80 emphasizes the inherent value of love in giving life its true meaning. According to the verse, a body filled with love is considered to be truly alive, as it is the love within us that animates our existence and gives life its vibrancy and purpose. The verse suggests that a life without love is akin to a lifeless body, a mere skeletal structure covered with skin, devoid of the emotional vitality that defines living. \\n\\nThe metaphor of a 'bone overlaid with skin' is used to depict a life devoid of love, suggesting such a life lacks depth, warmth, and the essential human connection. The verse implies that love forms the essence of life and without it, we are akin to the walking dead, physically present but emotionally and spiritually vacant. \\n\\nThis verse underscores the importance of love in our lives, not just in terms of romantic love, but also in terms of compassion, empathy, and kindness towards others. It is a call to infuse love into our actions, thoughts, and behaviors, thereby enriching our lives and the lives of those around us. Love, according to this verse, is not just an emotion, but a way of life that defines our very existence.\\ntranslation: The seat of life is love alone;  Or beings are but skin and bone!\"),\n",
       "  Document(metadata={'row': '79.0', 'source': '/nfs/kundeshwar/surajKuralGPT/langGraph/thirukkural.csv'}, page_content=\"kural: அன்பின் வழியது உயிர்நிலை அஃதிலார்க்குஎன்புதோல் போர்த்த உடம்பு.\\nexplanation: Kural 80 emphasizes the inherent value of love in giving life its true meaning. According to the verse, a body filled with love is considered to be truly alive, as it is the love within us that animates our existence and gives life its vibrancy and purpose. The verse suggests that a life without love is akin to a lifeless body, a mere skeletal structure covered with skin, devoid of the emotional vitality that defines living. \\n\\nThe metaphor of a 'bone overlaid with skin' is used to depict a life devoid of love, suggesting such a life lacks depth, warmth, and the essential human connection. The verse implies that love forms the essence of life and without it, we are akin to the walking dead, physically present but emotionally and spiritually vacant. \\n\\nThis verse underscores the importance of love in our lives, not just in terms of romantic love, but also in terms of compassion, empathy, and kindness towards others. It is a call to infuse love into our actions, thoughts, and behaviors, thereby enriching our lives and the lives of those around us. Love, according to this verse, is not just an emotion, but a way of life that defines our very existence.\\ntranslation: The seat of life is love alone;  Or beings are but skin and bone!\")]}"
      ]
     },
     "execution_count": 31,
     "metadata": {},
     "output_type": "execute_result"
    }
   ],
   "source": [
    "value"
   ]
  },
  {
   "cell_type": "code",
   "execution_count": 32,
   "metadata": {},
   "outputs": [
    {
     "data": {
      "text/plain": [
       "[Document(metadata={'row': '70.0', 'source': '/nfs/kundeshwar/surajKuralGPT/langGraph/thirukkural.csv'}, page_content='kural: அன்பிற்கும் உண்டோ அடைக்குந்தாழ் ஆர்வலர்புன்கணீர் பூசல் தரும்.\\nexplanation: Kural 71 explores the profound nature of love and affection. It asks rhetorically, \"Can love ever be truly concealed or restrained?\" implying that genuine love cannot be suppressed or hidden. The verse suggests that the true depth of one\\'s affection for another often reveals itself when the loved one is in distress or suffering. This is symbolically represented by the shedding of tears. \\n\\nThe second line of the verse, \"Tears of the affectionate will publish the love that is within\", emphasizes that emotional reactions such as tears are a spontaneous and honest expression of the love concealed within one\\'s heart. In other words, even though one might try to hide their feelings of love, their emotional reactions will inevitably reveal the truth. \\n\\nThis verse highlights the enduring and revealing nature of love. It suggests that genuine love cannot be suppressed or hidden, and will always find a way to express itself, especially in times of distress or suffering. It underscores the powerful, emotional, and transparent nature of true affection. \\n\\nIn terms of cultural context, this verse reflects the emphasis placed on love and affection in Tamil culture and literature. It also highlights the value of empathy and emotional expressiveness in human relationships. The moral interpretation here is the importance of sincerity and authenticity in expressing love and affection. It encourages us not to suppress our feelings, but to let them show, especially in times of need, as this is the most genuine expression of love.\\ntranslation: What bolt can bar true love in fact  The tricking tears reveal the heart'),\n",
       " Document(metadata={'row': '70.0', 'source': '/nfs/kundeshwar/surajKuralGPT/langGraph/thirukkural.csv'}, page_content='kural: அன்பிற்கும் உண்டோ அடைக்குந்தாழ் ஆர்வலர்புன்கணீர் பூசல் தரும்.\\nexplanation: Kural 71 explores the profound nature of love and affection. It asks rhetorically, \"Can love ever be truly concealed or restrained?\" implying that genuine love cannot be suppressed or hidden. The verse suggests that the true depth of one\\'s affection for another often reveals itself when the loved one is in distress or suffering. This is symbolically represented by the shedding of tears. \\n\\nThe second line of the verse, \"Tears of the affectionate will publish the love that is within\", emphasizes that emotional reactions such as tears are a spontaneous and honest expression of the love concealed within one\\'s heart. In other words, even though one might try to hide their feelings of love, their emotional reactions will inevitably reveal the truth. \\n\\nThis verse highlights the enduring and revealing nature of love. It suggests that genuine love cannot be suppressed or hidden, and will always find a way to express itself, especially in times of distress or suffering. It underscores the powerful, emotional, and transparent nature of true affection. \\n\\nIn terms of cultural context, this verse reflects the emphasis placed on love and affection in Tamil culture and literature. It also highlights the value of empathy and emotional expressiveness in human relationships. The moral interpretation here is the importance of sincerity and authenticity in expressing love and affection. It encourages us not to suppress our feelings, but to let them show, especially in times of need, as this is the most genuine expression of love.\\ntranslation: What bolt can bar true love in fact  The tricking tears reveal the heart'),\n",
       " Document(metadata={'row': '79.0', 'source': '/nfs/kundeshwar/surajKuralGPT/langGraph/thirukkural.csv'}, page_content=\"kural: அன்பின் வழியது உயிர்நிலை அஃதிலார்க்குஎன்புதோல் போர்த்த உடம்பு.\\nexplanation: Kural 80 emphasizes the inherent value of love in giving life its true meaning. According to the verse, a body filled with love is considered to be truly alive, as it is the love within us that animates our existence and gives life its vibrancy and purpose. The verse suggests that a life without love is akin to a lifeless body, a mere skeletal structure covered with skin, devoid of the emotional vitality that defines living. \\n\\nThe metaphor of a 'bone overlaid with skin' is used to depict a life devoid of love, suggesting such a life lacks depth, warmth, and the essential human connection. The verse implies that love forms the essence of life and without it, we are akin to the walking dead, physically present but emotionally and spiritually vacant. \\n\\nThis verse underscores the importance of love in our lives, not just in terms of romantic love, but also in terms of compassion, empathy, and kindness towards others. It is a call to infuse love into our actions, thoughts, and behaviors, thereby enriching our lives and the lives of those around us. Love, according to this verse, is not just an emotion, but a way of life that defines our very existence.\\ntranslation: The seat of life is love alone;  Or beings are but skin and bone!\"),\n",
       " Document(metadata={'row': '79.0', 'source': '/nfs/kundeshwar/surajKuralGPT/langGraph/thirukkural.csv'}, page_content=\"kural: அன்பின் வழியது உயிர்நிலை அஃதிலார்க்குஎன்புதோல் போர்த்த உடம்பு.\\nexplanation: Kural 80 emphasizes the inherent value of love in giving life its true meaning. According to the verse, a body filled with love is considered to be truly alive, as it is the love within us that animates our existence and gives life its vibrancy and purpose. The verse suggests that a life without love is akin to a lifeless body, a mere skeletal structure covered with skin, devoid of the emotional vitality that defines living. \\n\\nThe metaphor of a 'bone overlaid with skin' is used to depict a life devoid of love, suggesting such a life lacks depth, warmth, and the essential human connection. The verse implies that love forms the essence of life and without it, we are akin to the walking dead, physically present but emotionally and spiritually vacant. \\n\\nThis verse underscores the importance of love in our lives, not just in terms of romantic love, but also in terms of compassion, empathy, and kindness towards others. It is a call to infuse love into our actions, thoughts, and behaviors, thereby enriching our lives and the lives of those around us. Love, according to this verse, is not just an emotion, but a way of life that defines our very existence.\\ntranslation: The seat of life is love alone;  Or beings are but skin and bone!\")]"
      ]
     },
     "execution_count": 32,
     "metadata": {},
     "output_type": "execute_result"
    }
   ],
   "source": [
    "value['documents']"
   ]
  },
  {
   "cell_type": "code",
   "execution_count": null,
   "metadata": {},
   "outputs": [],
   "source": []
  },
  {
   "cell_type": "code",
   "execution_count": null,
   "metadata": {},
   "outputs": [],
   "source": []
  },
  {
   "cell_type": "code",
   "execution_count": null,
   "metadata": {},
   "outputs": [],
   "source": []
  },
  {
   "cell_type": "code",
   "execution_count": null,
   "metadata": {},
   "outputs": [],
   "source": []
  },
  {
   "cell_type": "code",
   "execution_count": null,
   "metadata": {},
   "outputs": [],
   "source": []
  }
 ],
 "metadata": {
  "kernelspec": {
   "display_name": "kuralGPT",
   "language": "python",
   "name": "python3"
  },
  "language_info": {
   "codemirror_mode": {
    "name": "ipython",
    "version": 3
   },
   "file_extension": ".py",
   "mimetype": "text/x-python",
   "name": "python",
   "nbconvert_exporter": "python",
   "pygments_lexer": "ipython3",
   "version": "3.12.0"
  }
 },
 "nbformat": 4,
 "nbformat_minor": 2
}
