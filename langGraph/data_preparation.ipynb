{
 "cells": [
  {
   "cell_type": "code",
   "execution_count": 1,
   "metadata": {},
   "outputs": [
    {
     "name": "stderr",
     "output_type": "stream",
     "text": [
      "/home/kundeshwar/miniconda3/envs/kuralGPT/lib/python3.12/site-packages/sentence_transformers/cross_encoder/CrossEncoder.py:13: TqdmWarning: IProgress not found. Please update jupyter and ipywidgets. See https://ipywidgets.readthedocs.io/en/stable/user_install.html\n",
      "  from tqdm.autonotebook import tqdm, trange\n"
     ]
    }
   ],
   "source": [
    "from thirukuraldb import VectorDBManager\n",
    "\n"
   ]
  },
  {
   "cell_type": "code",
   "execution_count": 4,
   "metadata": {},
   "outputs": [],
   "source": [
    "db_manager = VectorDBManager()\n"
   ]
  },
  {
   "cell_type": "code",
   "execution_count": 5,
   "metadata": {},
   "outputs": [
    {
     "ename": "AttributeError",
     "evalue": "'VectorDBManager' object has no attribute 'client'",
     "output_type": "error",
     "traceback": [
      "\u001b[0;31m---------------------------------------------------------------------------\u001b[0m",
      "\u001b[0;31mAttributeError\u001b[0m                            Traceback (most recent call last)",
      "Cell \u001b[0;32mIn[5], line 1\u001b[0m\n\u001b[0;32m----> 1\u001b[0m \u001b[43mdb_manager\u001b[49m\u001b[38;5;241;43m.\u001b[39;49m\u001b[43mcreate_schema\u001b[49m\u001b[43m(\u001b[49m\u001b[43m)\u001b[49m\n",
      "File \u001b[0;32m/nfs/kundeshwar/surajKuralGPT/langGraph/thirukuraldb.py:29\u001b[0m, in \u001b[0;36mVectorDBManager.create_schema\u001b[0;34m(self)\u001b[0m\n\u001b[1;32m     14\u001b[0m schema \u001b[38;5;241m=\u001b[39m {\n\u001b[1;32m     15\u001b[0m     \u001b[38;5;124m\"\u001b[39m\u001b[38;5;124mclasses\u001b[39m\u001b[38;5;124m\"\u001b[39m: [\n\u001b[1;32m     16\u001b[0m         {\n\u001b[0;32m   (...)\u001b[0m\n\u001b[1;32m     25\u001b[0m     ]\n\u001b[1;32m     26\u001b[0m }\n\u001b[1;32m     28\u001b[0m \u001b[38;5;66;03m# Create schema in Weaviate\u001b[39;00m\n\u001b[0;32m---> 29\u001b[0m \u001b[38;5;28;43mself\u001b[39;49m\u001b[38;5;241;43m.\u001b[39;49m\u001b[43mclient\u001b[49m\u001b[38;5;241m.\u001b[39mschema\u001b[38;5;241m.\u001b[39mcreate(schema)\n\u001b[1;32m     30\u001b[0m \u001b[38;5;28mprint\u001b[39m(\u001b[38;5;124m\"\u001b[39m\u001b[38;5;124mSchema created successfully!\u001b[39m\u001b[38;5;124m\"\u001b[39m)\n",
      "\u001b[0;31mAttributeError\u001b[0m: 'VectorDBManager' object has no attribute 'client'"
     ]
    }
   ],
   "source": [
    "db_manager.create_schema()"
   ]
  },
  {
   "cell_type": "code",
   "execution_count": 1,
   "metadata": {},
   "outputs": [],
   "source": [
    "import pandas as pd"
   ]
  },
  {
   "cell_type": "code",
   "execution_count": 2,
   "metadata": {},
   "outputs": [],
   "source": [
    "df=pd.read_csv('/nfs/kundeshwar/surajKuralGPT/langGraph/thirukkural.csv')"
   ]
  },
  {
   "cell_type": "code",
   "execution_count": 3,
   "metadata": {},
   "outputs": [
    {
     "data": {
      "text/html": [
       "<div>\n",
       "<style scoped>\n",
       "    .dataframe tbody tr th:only-of-type {\n",
       "        vertical-align: middle;\n",
       "    }\n",
       "\n",
       "    .dataframe tbody tr th {\n",
       "        vertical-align: top;\n",
       "    }\n",
       "\n",
       "    .dataframe thead th {\n",
       "        text-align: right;\n",
       "    }\n",
       "</style>\n",
       "<table border=\"1\" class=\"dataframe\">\n",
       "  <thead>\n",
       "    <tr style=\"text-align: right;\">\n",
       "      <th></th>\n",
       "      <th>kural</th>\n",
       "      <th>explanation</th>\n",
       "      <th>translation</th>\n",
       "    </tr>\n",
       "  </thead>\n",
       "  <tbody>\n",
       "    <tr>\n",
       "      <th>0</th>\n",
       "      <td>அகர முதல எழுத்தெல்லாம் ஆதிபகவன் முதற்றே உலகு.</td>\n",
       "      <td>The first verse of Thiru Kural begins by drawi...</td>\n",
       "      <td>'A' leads letters; the Ancient Lord Leads and ...</td>\n",
       "    </tr>\n",
       "    <tr>\n",
       "      <th>1</th>\n",
       "      <td>கற்றதனால் ஆய பயனென்கொல் வாலறிவன்நற்றாள் தொழாஅர...</td>\n",
       "      <td>Kural 2 emphasizes the importance of humility ...</td>\n",
       "      <td>That lore is vain which does not fall  At His ...</td>\n",
       "    </tr>\n",
       "    <tr>\n",
       "      <th>2</th>\n",
       "      <td>மலர்மிசை ஏகினான் மாணடி சேர்ந்தார்நிலமிசை நீடுவ...</td>\n",
       "      <td>Kural 3 can be interpreted as a spiritual vers...</td>\n",
       "      <td>Long they live on earth who gain The feet of G...</td>\n",
       "    </tr>\n",
       "    <tr>\n",
       "      <th>3</th>\n",
       "      <td>வேண்டுதல் வேண்டாமை இலானடி சேர்ந்தார்க்குயாண்டு...</td>\n",
       "      <td>Kural 4 emphasizes the importance of devotion ...</td>\n",
       "      <td>Who hold His feet who likes nor loathes Are fr...</td>\n",
       "    </tr>\n",
       "    <tr>\n",
       "      <th>4</th>\n",
       "      <td>இருள்சேர் இருவினையும் சேரா இறைவன்பொருள்சேர் பு...</td>\n",
       "      <td>Kural 5 delves into the concept of spiritual e...</td>\n",
       "      <td>God's praise who tell, are free from right  An...</td>\n",
       "    </tr>\n",
       "    <tr>\n",
       "      <th>...</th>\n",
       "      <td>...</td>\n",
       "      <td>...</td>\n",
       "      <td>...</td>\n",
       "    </tr>\n",
       "    <tr>\n",
       "      <th>1325</th>\n",
       "      <td>உணலினும் உண்டது அறல்இனிது காமம்புணர்தலின் ஊடல்...</td>\n",
       "      <td>Kural 1326 is a profound observation on the na...</td>\n",
       "      <td>Sweeter than meal is digestion And sulk in lov...</td>\n",
       "    </tr>\n",
       "    <tr>\n",
       "      <th>1326</th>\n",
       "      <td>ஊடலில் தோற்றவர் வென்றார் அதுமன்னும்கூடலிற் காண...</td>\n",
       "      <td>Kural 1327 speaks about the complexities of lo...</td>\n",
       "      <td>The yielder wins in lover's pout Reunited joy ...</td>\n",
       "    </tr>\n",
       "    <tr>\n",
       "      <th>1327</th>\n",
       "      <td>ஊடிப் பெறுகுவம் கொல்லோ நுதல்வெயர்ப்பக்கூடலில் ...</td>\n",
       "      <td>Kural 1328 ponders on the sweet torment of lov...</td>\n",
       "      <td>Shall not our pouting again give The dew-browe...</td>\n",
       "    </tr>\n",
       "    <tr>\n",
       "      <th>1328</th>\n",
       "      <td>ஊடுக மன்னோ ஒளியிழை யாமிரப்பநீடுக மன்னோ இரா.</td>\n",
       "      <td>Kural 1329 is a romantic verse that speaks abo...</td>\n",
       "      <td>Sulk on O belle of shining jewels! Prolong O n...</td>\n",
       "    </tr>\n",
       "    <tr>\n",
       "      <th>1329</th>\n",
       "      <td>ஊடுதல் காமத்திற்கு இன்பம் அதற்கின்பம்கூடி முயங...</td>\n",
       "      <td>Kural 1330 discusses the dynamics of love and ...</td>\n",
       "      <td>Bouderie is lovers' delight Its delight grows ...</td>\n",
       "    </tr>\n",
       "  </tbody>\n",
       "</table>\n",
       "<p>1330 rows × 3 columns</p>\n",
       "</div>"
      ],
      "text/plain": [
       "                                                  kural  \\\n",
       "0        அகர முதல எழுத்தெல்லாம் ஆதிபகவன் முதற்றே உலகு.    \n",
       "1     கற்றதனால் ஆய பயனென்கொல் வாலறிவன்நற்றாள் தொழாஅர...   \n",
       "2     மலர்மிசை ஏகினான் மாணடி சேர்ந்தார்நிலமிசை நீடுவ...   \n",
       "3     வேண்டுதல் வேண்டாமை இலானடி சேர்ந்தார்க்குயாண்டு...   \n",
       "4     இருள்சேர் இருவினையும் சேரா இறைவன்பொருள்சேர் பு...   \n",
       "...                                                 ...   \n",
       "1325  உணலினும் உண்டது அறல்இனிது காமம்புணர்தலின் ஊடல்...   \n",
       "1326  ஊடலில் தோற்றவர் வென்றார் அதுமன்னும்கூடலிற் காண...   \n",
       "1327  ஊடிப் பெறுகுவம் கொல்லோ நுதல்வெயர்ப்பக்கூடலில் ...   \n",
       "1328       ஊடுக மன்னோ ஒளியிழை யாமிரப்பநீடுக மன்னோ இரா.    \n",
       "1329  ஊடுதல் காமத்திற்கு இன்பம் அதற்கின்பம்கூடி முயங...   \n",
       "\n",
       "                                            explanation  \\\n",
       "0     The first verse of Thiru Kural begins by drawi...   \n",
       "1     Kural 2 emphasizes the importance of humility ...   \n",
       "2     Kural 3 can be interpreted as a spiritual vers...   \n",
       "3     Kural 4 emphasizes the importance of devotion ...   \n",
       "4     Kural 5 delves into the concept of spiritual e...   \n",
       "...                                                 ...   \n",
       "1325  Kural 1326 is a profound observation on the na...   \n",
       "1326  Kural 1327 speaks about the complexities of lo...   \n",
       "1327  Kural 1328 ponders on the sweet torment of lov...   \n",
       "1328  Kural 1329 is a romantic verse that speaks abo...   \n",
       "1329  Kural 1330 discusses the dynamics of love and ...   \n",
       "\n",
       "                                            translation  \n",
       "0     'A' leads letters; the Ancient Lord Leads and ...  \n",
       "1     That lore is vain which does not fall  At His ...  \n",
       "2     Long they live on earth who gain The feet of G...  \n",
       "3     Who hold His feet who likes nor loathes Are fr...  \n",
       "4     God's praise who tell, are free from right  An...  \n",
       "...                                                 ...  \n",
       "1325  Sweeter than meal is digestion And sulk in lov...  \n",
       "1326  The yielder wins in lover's pout Reunited joy ...  \n",
       "1327  Shall not our pouting again give The dew-browe...  \n",
       "1328  Sulk on O belle of shining jewels! Prolong O n...  \n",
       "1329  Bouderie is lovers' delight Its delight grows ...  \n",
       "\n",
       "[1330 rows x 3 columns]"
      ]
     },
     "execution_count": 3,
     "metadata": {},
     "output_type": "execute_result"
    }
   ],
   "source": [
    "df"
   ]
  },
  {
   "cell_type": "code",
   "execution_count": 5,
   "metadata": {},
   "outputs": [
    {
     "data": {
      "text/html": [
       "<div>\n",
       "<style scoped>\n",
       "    .dataframe tbody tr th:only-of-type {\n",
       "        vertical-align: middle;\n",
       "    }\n",
       "\n",
       "    .dataframe tbody tr th {\n",
       "        vertical-align: top;\n",
       "    }\n",
       "\n",
       "    .dataframe thead th {\n",
       "        text-align: right;\n",
       "    }\n",
       "</style>\n",
       "<table border=\"1\" class=\"dataframe\">\n",
       "  <thead>\n",
       "    <tr style=\"text-align: right;\">\n",
       "      <th></th>\n",
       "      <th>kural</th>\n",
       "      <th>explanation</th>\n",
       "      <th>translation</th>\n",
       "    </tr>\n",
       "  </thead>\n",
       "  <tbody>\n",
       "    <tr>\n",
       "      <th>0</th>\n",
       "      <td>அகர முதல எழுத்தெல்லாம் ஆதிபகவன் முதற்றே உலகு.</td>\n",
       "      <td>The first verse of Thiru Kural begins by drawi...</td>\n",
       "      <td>'A' leads letters; the Ancient Lord Leads and ...</td>\n",
       "    </tr>\n",
       "    <tr>\n",
       "      <th>1</th>\n",
       "      <td>கற்றதனால் ஆய பயனென்கொல் வாலறிவன்நற்றாள் தொழாஅர...</td>\n",
       "      <td>Kural 2 emphasizes the importance of humility ...</td>\n",
       "      <td>That lore is vain which does not fall  At His ...</td>\n",
       "    </tr>\n",
       "    <tr>\n",
       "      <th>2</th>\n",
       "      <td>மலர்மிசை ஏகினான் மாணடி சேர்ந்தார்நிலமிசை நீடுவ...</td>\n",
       "      <td>Kural 3 can be interpreted as a spiritual vers...</td>\n",
       "      <td>Long they live on earth who gain The feet of G...</td>\n",
       "    </tr>\n",
       "    <tr>\n",
       "      <th>3</th>\n",
       "      <td>வேண்டுதல் வேண்டாமை இலானடி சேர்ந்தார்க்குயாண்டு...</td>\n",
       "      <td>Kural 4 emphasizes the importance of devotion ...</td>\n",
       "      <td>Who hold His feet who likes nor loathes Are fr...</td>\n",
       "    </tr>\n",
       "    <tr>\n",
       "      <th>4</th>\n",
       "      <td>இருள்சேர் இருவினையும் சேரா இறைவன்பொருள்சேர் பு...</td>\n",
       "      <td>Kural 5 delves into the concept of spiritual e...</td>\n",
       "      <td>God's praise who tell, are free from right  An...</td>\n",
       "    </tr>\n",
       "  </tbody>\n",
       "</table>\n",
       "</div>"
      ],
      "text/plain": [
       "                                               kural  \\\n",
       "0     அகர முதல எழுத்தெல்லாம் ஆதிபகவன் முதற்றே உலகு.    \n",
       "1  கற்றதனால் ஆய பயனென்கொல் வாலறிவன்நற்றாள் தொழாஅர...   \n",
       "2  மலர்மிசை ஏகினான் மாணடி சேர்ந்தார்நிலமிசை நீடுவ...   \n",
       "3  வேண்டுதல் வேண்டாமை இலானடி சேர்ந்தார்க்குயாண்டு...   \n",
       "4  இருள்சேர் இருவினையும் சேரா இறைவன்பொருள்சேர் பு...   \n",
       "\n",
       "                                         explanation  \\\n",
       "0  The first verse of Thiru Kural begins by drawi...   \n",
       "1  Kural 2 emphasizes the importance of humility ...   \n",
       "2  Kural 3 can be interpreted as a spiritual vers...   \n",
       "3  Kural 4 emphasizes the importance of devotion ...   \n",
       "4  Kural 5 delves into the concept of spiritual e...   \n",
       "\n",
       "                                         translation  \n",
       "0  'A' leads letters; the Ancient Lord Leads and ...  \n",
       "1  That lore is vain which does not fall  At His ...  \n",
       "2  Long they live on earth who gain The feet of G...  \n",
       "3  Who hold His feet who likes nor loathes Are fr...  \n",
       "4  God's praise who tell, are free from right  An...  "
      ]
     },
     "execution_count": 5,
     "metadata": {},
     "output_type": "execute_result"
    }
   ],
   "source": [
    "df.head()"
   ]
  },
  {
   "cell_type": "code",
   "execution_count": 6,
   "metadata": {},
   "outputs": [],
   "source": [
    "\n",
    "l=[]\n",
    "\n",
    "for i,j,k in zip(df['kural'],df['translation'],df['explanation']): \n",
    "    l.append(f\"The kural verse:{i},translates to :{j},and it's explantion is :{k}.\")\n",
    "\n",
    "    \n"
   ]
  },
  {
   "cell_type": "code",
   "execution_count": 7,
   "metadata": {},
   "outputs": [
    {
     "name": "stdout",
     "output_type": "stream",
     "text": [
      "1330\n"
     ]
    }
   ],
   "source": [
    "print(len(l))"
   ]
  },
  {
   "cell_type": "code",
   "execution_count": 8,
   "metadata": {},
   "outputs": [
    {
     "data": {
      "text/plain": [
       "\"The kural verse:அகர முதல எழுத்தெல்லாம் ஆதிபகவன் முதற்றே உலகு. ,translates to :'A' leads letters; the Ancient Lord Leads and lords the entire world,and it's explantion is :The first verse of Thiru Kural begins by drawing a parallel between the primacy of the letter 'A', as the first letter in the Tamil alphabet (and many others), and the Supreme God, who is considered the primal cause and the origin of the universe. \\n\\nJust as all written language and communication originate from the basic unit of a letter, with 'A' often being the first, all of creation and life as we know it have their roots in the divine entity, referred to here as the 'eternal God'. \\n\\nThis verse emphasizes the concept that God is the beginning of all existence, the ultimate source of all life, and the cornerstone of the world, just as the letter 'A' is the first building block of language. \\n\\nIt also subtly underscores the importance of recognizing and acknowledging the divine force as central to our understanding of life and the world around us. The verse, thus, sets a spiritual tone at the outset, highlighting the universal and timeless nature of the wisdom contained in the Thiru Kural..\""
      ]
     },
     "execution_count": 8,
     "metadata": {},
     "output_type": "execute_result"
    }
   ],
   "source": [
    "l[0]"
   ]
  },
  {
   "cell_type": "code",
   "execution_count": 9,
   "metadata": {},
   "outputs": [],
   "source": [
    "df['combined_text']=l"
   ]
  },
  {
   "cell_type": "code",
   "execution_count": 10,
   "metadata": {},
   "outputs": [
    {
     "data": {
      "text/plain": [
       "\"The kural verse:அகர முதல எழுத்தெல்லாம் ஆதிபகவன் முதற்றே உலகு. ,translates to :'A' leads letters; the Ancient Lord Leads and lords the entire world,and it's explantion is :The first verse of Thiru Kural begins by drawing a parallel between the primacy of the letter 'A', as the first letter in the Tamil alphabet (and many others), and the Supreme God, who is considered the primal cause and the origin of the universe. \\n\\nJust as all written language and communication originate from the basic unit of a letter, with 'A' often being the first, all of creation and life as we know it have their roots in the divine entity, referred to here as the 'eternal God'. \\n\\nThis verse emphasizes the concept that God is the beginning of all existence, the ultimate source of all life, and the cornerstone of the world, just as the letter 'A' is the first building block of language. \\n\\nIt also subtly underscores the importance of recognizing and acknowledging the divine force as central to our understanding of life and the world around us. The verse, thus, sets a spiritual tone at the outset, highlighting the universal and timeless nature of the wisdom contained in the Thiru Kural..\""
      ]
     },
     "execution_count": 10,
     "metadata": {},
     "output_type": "execute_result"
    }
   ],
   "source": [
    "df['combined_text'][0]"
   ]
  },
  {
   "cell_type": "code",
   "execution_count": 11,
   "metadata": {},
   "outputs": [],
   "source": [
    "text=\"\"\n",
    "for row in df['combined_text']:\n",
    "    text+=row\n",
    "    "
   ]
  },
  {
   "cell_type": "code",
   "execution_count": 12,
   "metadata": {},
   "outputs": [],
   "source": [
    "with open('thirukural.txt','w') as f:\n",
    "    f.write(text)"
   ]
  },
  {
   "cell_type": "code",
   "execution_count": null,
   "metadata": {},
   "outputs": [],
   "source": []
  },
  {
   "cell_type": "code",
   "execution_count": null,
   "metadata": {},
   "outputs": [],
   "source": []
  },
  {
   "cell_type": "code",
   "execution_count": null,
   "metadata": {},
   "outputs": [],
   "source": []
  },
  {
   "cell_type": "code",
   "execution_count": null,
   "metadata": {},
   "outputs": [],
   "source": []
  }
 ],
 "metadata": {
  "kernelspec": {
   "display_name": "kuralGPT",
   "language": "python",
   "name": "python3"
  },
  "language_info": {
   "codemirror_mode": {
    "name": "ipython",
    "version": 3
   },
   "file_extension": ".py",
   "mimetype": "text/x-python",
   "name": "python",
   "nbconvert_exporter": "python",
   "pygments_lexer": "ipython3",
   "version": "3.12.0"
  }
 },
 "nbformat": 4,
 "nbformat_minor": 2
}
