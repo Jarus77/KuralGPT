{
 "cells": [
  {
   "cell_type": "code",
   "execution_count": null,
   "metadata": {},
   "outputs": [],
   "source": [
    "from langchain.document_loaders import CSVLoader\n",
    "from langchain.indexes import VectorstoreIndexCreator\n",
    "from langchain.chains import RetrievalQA"
   ]
  },
  {
   "cell_type": "code",
   "execution_count": 2,
   "metadata": {},
   "outputs": [],
   "source": [
    "loader = CSVLoader(file_path='/nfs/kundeshwar/surajKuralGPT/langGraph/thirukkural.csv')"
   ]
  },
  {
   "cell_type": "code",
   "execution_count": 3,
   "metadata": {},
   "outputs": [],
   "source": [
    "data = loader.load()"
   ]
  },
  {
   "cell_type": "code",
   "execution_count": 4,
   "metadata": {},
   "outputs": [],
   "source": [
    "import cassio\n",
    "## connection of the ASTRA DB\n",
    "ASTRA_DB_APPLICATION_TOKEN=\"AstraCS:QapwRsiXCpRKErwvPUswwxmP:9b592a9710568433715878f69c3d4e05ebbce744e72fe7152e0d741671086602\" # enter the \"AstraCS:...\" string found in in your Token JSON file\"\n",
    "ASTRA_DB_ID=\"8ae04c4a-3d4c-4cd7-959e-28fd1a167fbd\"\n",
    "cassio.init(token=ASTRA_DB_APPLICATION_TOKEN,database_id=ASTRA_DB_ID)"
   ]
  },
  {
   "cell_type": "code",
   "execution_count": 6,
   "metadata": {},
   "outputs": [
    {
     "name": "stderr",
     "output_type": "stream",
     "text": [
      "/home/kundeshwar/miniconda3/envs/kuralGPT/lib/python3.12/site-packages/sentence_transformers/cross_encoder/CrossEncoder.py:13: TqdmWarning: IProgress not found. Please update jupyter and ipywidgets. See https://ipywidgets.readthedocs.io/en/stable/user_install.html\n",
      "  from tqdm.autonotebook import tqdm, trange\n"
     ]
    }
   ],
   "source": [
    "from langchain_huggingface import HuggingFaceEmbeddings\n",
    "embeddings=HuggingFaceEmbeddings(model_name=\"all-MiniLM-L6-v2\")\n",
    "from langchain.vectorstores.cassandra import Cassandra\n",
    "astra_vector_store=Cassandra(\n",
    "    embedding=embeddings,\n",
    "    table_name=\"kural_demo\",\n",
    "    session=None,\n",
    "    keyspace=None\n",
    ")"
   ]
  },
  {
   "cell_type": "code",
   "execution_count": 5,
   "metadata": {},
   "outputs": [],
   "source": [
    "from langchain.text_splitter import RecursiveCharacterTextSplitter\n",
    "# Split\n",
    "text_splitter = RecursiveCharacterTextSplitter.from_tiktoken_encoder(\n",
    "    chunk_size=500, chunk_overlap=0\n",
    ")"
   ]
  },
  {
   "cell_type": "code",
   "execution_count": 7,
   "metadata": {},
   "outputs": [],
   "source": [
    "doc_splits = text_splitter.split_documents(data)"
   ]
  },
  {
   "cell_type": "code",
   "execution_count": 8,
   "metadata": {},
   "outputs": [],
   "source": [
    "from langchain.vectorstores.cassandra import Cassandra\n",
    "astra_vector_store=Cassandra(\n",
    "    embedding=embeddings,\n",
    "    table_name=\"kural_demo\",\n",
    "    session=None,\n",
    "    keyspace=None\n",
    "\n",
    ")"
   ]
  },
  {
   "cell_type": "code",
   "execution_count": 9,
   "metadata": {},
   "outputs": [
    {
     "name": "stdout",
     "output_type": "stream",
     "text": [
      "Inserted 1391 headlines.\n"
     ]
    }
   ],
   "source": [
    "from langchain.indexes.vectorstore import VectorStoreIndexWrapper\n",
    "astra_vector_store.add_documents(doc_splits)\n",
    "print(\"Inserted %i headlines.\" % len(doc_splits))\n",
    "\n",
    "astra_vector_index = VectorStoreIndexWrapper(vectorstore=astra_vector_store)"
   ]
  },
  {
   "cell_type": "code",
   "execution_count": 11,
   "metadata": {},
   "outputs": [
    {
     "data": {
      "text/plain": [
       "[Document(metadata={'row': '70.0', 'source': '/nfs/kundeshwar/surajKuralGPT/langGraph/thirukkural.csv'}, page_content='kural: அன்பிற்கும் உண்டோ அடைக்குந்தாழ் ஆர்வலர்புன்கணீர் பூசல் தரும்.\\nexplanation: Kural 71 explores the profound nature of love and affection. It asks rhetorically, \"Can love ever be truly concealed or restrained?\" implying that genuine love cannot be suppressed or hidden. The verse suggests that the true depth of one\\'s affection for another often reveals itself when the loved one is in distress or suffering. This is symbolically represented by the shedding of tears. \\n\\nThe second line of the verse, \"Tears of the affectionate will publish the love that is within\", emphasizes that emotional reactions such as tears are a spontaneous and honest expression of the love concealed within one\\'s heart. In other words, even though one might try to hide their feelings of love, their emotional reactions will inevitably reveal the truth. \\n\\nThis verse highlights the enduring and revealing nature of love. It suggests that genuine love cannot be suppressed or hidden, and will always find a way to express itself, especially in times of distress or suffering. It underscores the powerful, emotional, and transparent nature of true affection. \\n\\nIn terms of cultural context, this verse reflects the emphasis placed on love and affection in Tamil culture and literature. It also highlights the value of empathy and emotional expressiveness in human relationships. The moral interpretation here is the importance of sincerity and authenticity in expressing love and affection. It encourages us not to suppress our feelings, but to let them show, especially in times of need, as this is the most genuine expression of love.\\ntranslation: What bolt can bar true love in fact  The tricking tears reveal the heart'),\n",
       " Document(metadata={'row': '70.0', 'source': '/nfs/kundeshwar/surajKuralGPT/langGraph/thirukkural.csv'}, page_content='kural: அன்பிற்கும் உண்டோ அடைக்குந்தாழ் ஆர்வலர்புன்கணீர் பூசல் தரும்.\\nexplanation: Kural 71 explores the profound nature of love and affection. It asks rhetorically, \"Can love ever be truly concealed or restrained?\" implying that genuine love cannot be suppressed or hidden. The verse suggests that the true depth of one\\'s affection for another often reveals itself when the loved one is in distress or suffering. This is symbolically represented by the shedding of tears. \\n\\nThe second line of the verse, \"Tears of the affectionate will publish the love that is within\", emphasizes that emotional reactions such as tears are a spontaneous and honest expression of the love concealed within one\\'s heart. In other words, even though one might try to hide their feelings of love, their emotional reactions will inevitably reveal the truth. \\n\\nThis verse highlights the enduring and revealing nature of love. It suggests that genuine love cannot be suppressed or hidden, and will always find a way to express itself, especially in times of distress or suffering. It underscores the powerful, emotional, and transparent nature of true affection. \\n\\nIn terms of cultural context, this verse reflects the emphasis placed on love and affection in Tamil culture and literature. It also highlights the value of empathy and emotional expressiveness in human relationships. The moral interpretation here is the importance of sincerity and authenticity in expressing love and affection. It encourages us not to suppress our feelings, but to let them show, especially in times of need, as this is the most genuine expression of love.\\ntranslation: What bolt can bar true love in fact  The tricking tears reveal the heart'),\n",
       " Document(metadata={'row': '70.0', 'source': '/nfs/kundeshwar/surajKuralGPT/langGraph/thirukkural.csv'}, page_content='kural: அன்பிற்கும் உண்டோ அடைக்குந்தாழ் ஆர்வலர்புன்கணீர் பூசல் தரும்.\\nexplanation: Kural 71 explores the profound nature of love and affection. It asks rhetorically, \"Can love ever be truly concealed or restrained?\" implying that genuine love cannot be suppressed or hidden. The verse suggests that the true depth of one\\'s affection for another often reveals itself when the loved one is in distress or suffering. This is symbolically represented by the shedding of tears. \\n\\nThe second line of the verse, \"Tears of the affectionate will publish the love that is within\", emphasizes that emotional reactions such as tears are a spontaneous and honest expression of the love concealed within one\\'s heart. In other words, even though one might try to hide their feelings of love, their emotional reactions will inevitably reveal the truth. \\n\\nThis verse highlights the enduring and revealing nature of love. It suggests that genuine love cannot be suppressed or hidden, and will always find a way to express itself, especially in times of distress or suffering. It underscores the powerful, emotional, and transparent nature of true affection. \\n\\nIn terms of cultural context, this verse reflects the emphasis placed on love and affection in Tamil culture and literature. It also highlights the value of empathy and emotional expressiveness in human relationships. The moral interpretation here is the importance of sincerity and authenticity in expressing love and affection. It encourages us not to suppress our feelings, but to let them show, especially in times of need, as this is the most genuine expression of love.\\ntranslation: What bolt can bar true love in fact  The tricking tears reveal the heart'),\n",
       " Document(metadata={'row': '70.0', 'source': '/nfs/kundeshwar/surajKuralGPT/langGraph/thirukkural.csv'}, page_content='kural: அன்பிற்கும் உண்டோ அடைக்குந்தாழ் ஆர்வலர்புன்கணீர் பூசல் தரும்.\\nexplanation: Kural 71 explores the profound nature of love and affection. It asks rhetorically, \"Can love ever be truly concealed or restrained?\" implying that genuine love cannot be suppressed or hidden. The verse suggests that the true depth of one\\'s affection for another often reveals itself when the loved one is in distress or suffering. This is symbolically represented by the shedding of tears. \\n\\nThe second line of the verse, \"Tears of the affectionate will publish the love that is within\", emphasizes that emotional reactions such as tears are a spontaneous and honest expression of the love concealed within one\\'s heart. In other words, even though one might try to hide their feelings of love, their emotional reactions will inevitably reveal the truth. \\n\\nThis verse highlights the enduring and revealing nature of love. It suggests that genuine love cannot be suppressed or hidden, and will always find a way to express itself, especially in times of distress or suffering. It underscores the powerful, emotional, and transparent nature of true affection. \\n\\nIn terms of cultural context, this verse reflects the emphasis placed on love and affection in Tamil culture and literature. It also highlights the value of empathy and emotional expressiveness in human relationships. The moral interpretation here is the importance of sincerity and authenticity in expressing love and affection. It encourages us not to suppress our feelings, but to let them show, especially in times of need, as this is the most genuine expression of love.\\ntranslation: What bolt can bar true love in fact  The tricking tears reveal the heart')]"
      ]
     },
     "execution_count": 11,
     "metadata": {},
     "output_type": "execute_result"
    }
   ],
   "source": [
    "retriever=astra_vector_store.as_retriever()\n",
    "retriever.invoke(\"What is love?\",ConsistencyLevel=\"LOCAL_ONE\")"
   ]
  },
  {
   "cell_type": "code",
   "execution_count": 14,
   "metadata": {},
   "outputs": [],
   "source": [
    "documents=retriever.invoke(\"What is attachement?\",ConsistencyLevel=\"LOCAL_ONE\")\n"
   ]
  },
  {
   "cell_type": "code",
   "execution_count": 15,
   "metadata": {},
   "outputs": [
    {
     "data": {
      "text/plain": [
       "[Document(metadata={'row': '1104.0', 'source': '/nfs/kundeshwar/surajKuralGPT/langGraph/thirukkural.csv'}, page_content=\"Putting these together, the Kural essentially means that the sight of the beloved's flower-adorned arms brings as much joy and pleasure as fulfilling one's desires or wishes. It is a metaphorical expression of the intense pleasure one derives from the beauty and companionship of their beloved.\\n\\nTherefore, this verse is a beautiful expression of love and admiration, highlighting how the poet's beloved's beauty brings him immense joy and satisfaction, equating it to the joy of achieving one's desires.\\ntranslation: The arms of my flower-tressed maid Whatever I wish that that accord\"),\n",
       " Document(metadata={'row': '1104.0', 'source': '/nfs/kundeshwar/surajKuralGPT/langGraph/thirukkural.csv'}, page_content=\"Putting these together, the Kural essentially means that the sight of the beloved's flower-adorned arms brings as much joy and pleasure as fulfilling one's desires or wishes. It is a metaphorical expression of the intense pleasure one derives from the beauty and companionship of their beloved.\\n\\nTherefore, this verse is a beautiful expression of love and admiration, highlighting how the poet's beloved's beauty brings him immense joy and satisfaction, equating it to the joy of achieving one's desires.\\ntranslation: The arms of my flower-tressed maid Whatever I wish that that accord\"),\n",
       " Document(metadata={'row': '1104.0', 'source': '/nfs/kundeshwar/surajKuralGPT/langGraph/thirukkural.csv'}, page_content=\"Putting these together, the Kural essentially means that the sight of the beloved's flower-adorned arms brings as much joy and pleasure as fulfilling one's desires or wishes. It is a metaphorical expression of the intense pleasure one derives from the beauty and companionship of their beloved.\\n\\nTherefore, this verse is a beautiful expression of love and admiration, highlighting how the poet's beloved's beauty brings him immense joy and satisfaction, equating it to the joy of achieving one's desires.\\ntranslation: The arms of my flower-tressed maid Whatever I wish that that accord\"),\n",
       " Document(metadata={'row': '1104.0', 'source': '/nfs/kundeshwar/surajKuralGPT/langGraph/thirukkural.csv'}, page_content=\"Putting these together, the Kural essentially means that the sight of the beloved's flower-adorned arms brings as much joy and pleasure as fulfilling one's desires or wishes. It is a metaphorical expression of the intense pleasure one derives from the beauty and companionship of their beloved.\\n\\nTherefore, this verse is a beautiful expression of love and admiration, highlighting how the poet's beloved's beauty brings him immense joy and satisfaction, equating it to the joy of achieving one's desires.\\ntranslation: The arms of my flower-tressed maid Whatever I wish that that accord\")]"
      ]
     },
     "execution_count": 15,
     "metadata": {},
     "output_type": "execute_result"
    }
   ],
   "source": [
    "documents"
   ]
  },
  {
   "cell_type": "code",
   "execution_count": 16,
   "metadata": {},
   "outputs": [
    {
     "name": "stderr",
     "output_type": "stream",
     "text": [
      "/home/kundeshwar/miniconda3/envs/kuralGPT/lib/python3.12/site-packages/IPython/core/interactiveshell.py:3577: LangChainDeprecationWarning: As of langchain-core 0.3.0, LangChain uses pydantic v2 internally. The langchain_core.pydantic_v1 module was a compatibility shim for pydantic v1, and should no longer be used. Please update the code to import from Pydantic directly.\n",
      "\n",
      "For example, replace imports like: `from langchain_core.pydantic_v1 import BaseModel`\n",
      "with: `from pydantic import BaseModel`\n",
      "or the v1 compatibility namespace if you are working in a code base that has not been fully upgraded to pydantic 2 yet. \tfrom pydantic.v1 import BaseModel\n",
      "\n",
      "  exec(code_obj, self.user_global_ns, self.user_ns)\n"
     ]
    },
    {
     "name": "stdout",
     "output_type": "stream",
     "text": [
      "datasource='wiki_search'\n",
      "datasource='wiki_search'\n"
     ]
    }
   ],
   "source": [
    "### Router\n",
    "\n",
    "from typing import Literal\n",
    "\n",
    "from langchain_core.prompts import ChatPromptTemplate\n",
    "from langchain_core.pydantic_v1 import BaseModel, Field\n",
    "\n",
    "\n",
    "\n",
    "# Data model\n",
    "class RouteQuery(BaseModel):\n",
    "    \"\"\"Route a user query to the most relevant datasource.\"\"\"\n",
    "\n",
    "    datasource: Literal[\"vectorstore\", \"wiki_search\"] = Field(\n",
    "        ...,\n",
    "        description=\"Given a user question choose to route it to wikipedia or a vectorstore.\",\n",
    "    )\n",
    "    \n",
    "    \n",
    "\n",
    "\n",
    "from langchain_ollama import ChatOllama\n",
    "\n",
    "\n",
    "llm = ChatOllama(model=\"llama3.1\")\n",
    "\n",
    "structured_llm_router = llm.with_structured_output(RouteQuery)\n",
    "\n",
    "\n",
    "\n",
    "\n",
    "# Prompt\n",
    "system = \"\"\"\n",
    "\n",
    "\n",
    "   Consider yourself as assistant that take take question and content \n",
    "   then generate answer for the question based on the content and also used previous chat history \n",
    "   if needed just answer the last question.\n",
    "   If there is no content ask clearification of the question, and last question you have to answer.\n",
    "\n",
    "\n",
    "\"\"\"\n",
    "\n",
    "\n",
    "route_prompt = ChatPromptTemplate.from_messages(\n",
    "    [\n",
    "        (\"system\", system),\n",
    "        (\"human\", \"{question}\"),\n",
    "    ]\n",
    ")\n",
    "\n",
    "question_router = route_prompt | structured_llm_router\n",
    "print(\n",
    "    question_router.invoke(\n",
    "        {\"question\": \"what is attachement?\"}\n",
    "    )\n",
    ")\n",
    "print(question_router.invoke({\"question\": \"What are the types of agent memory?\"}))"
   ]
  },
  {
   "cell_type": "code",
   "execution_count": 17,
   "metadata": {},
   "outputs": [],
   "source": [
    "### Working With Tools\n",
    "from langchain_community.utilities import ArxivAPIWrapper,WikipediaAPIWrapper\n",
    "from langchain_community.tools import ArxivQueryRun,WikipediaQueryRun\n",
    "\n",
    "## Arxiv and wikipedia Tools\n",
    "arxiv_wrapper=ArxivAPIWrapper(top_k_results=1, doc_content_chars_max=200)\n",
    "arxiv=ArxivQueryRun(api_wrapper=arxiv_wrapper)\n",
    "\n",
    "\n",
    "\n",
    "\n",
    "api_wrapper=WikipediaAPIWrapper(top_k_results=1,doc_content_chars_max=200)\n",
    "wiki=WikipediaQueryRun(api_wrapper=api_wrapper)"
   ]
  },
  {
   "cell_type": "code",
   "execution_count": 18,
   "metadata": {},
   "outputs": [],
   "source": [
    "## Graph\n",
    "\n",
    "from typing import List\n",
    "from typing_extensions import TypedDict\n",
    "\n",
    "\n",
    "class GraphState(TypedDict):\n",
    "    \"\"\"\n",
    "    Represents the state of our graph.\n",
    "\n",
    "    Attributes:\n",
    "        question: question\n",
    "        generation: LLM generation\n",
    "        documents: list of documents\n",
    "    \"\"\"\n",
    "\n",
    "    question: str\n",
    "    generation: str\n",
    "    documents: List[str]"
   ]
  },
  {
   "cell_type": "code",
   "execution_count": 29,
   "metadata": {},
   "outputs": [],
   "source": [
    "\n",
    "\n",
    "from langchain.schema import Document\n",
    "\n",
    "\n",
    "def retrieve(state):\n",
    "    \"\"\"\n",
    "    Retrieve documents\n",
    "\n",
    "    Args:\n",
    "        state (dict): The current graph state\n",
    "\n",
    "    Returns:\n",
    "        state (dict): New key added to state, documents, that contains retrieved documents\n",
    "    \"\"\"\n",
    "    print(\"---RETRIEVE---\")\n",
    "    question = state[\"question\"]\n",
    "\n",
    "    # Retrieval\n",
    "    documents = retriever.invoke(question)\n",
    "    \n",
    "    \n",
    "    \n",
    "    answer=question_router.invoke({\"question\":question,\n",
    "                            \"context\":documents\n",
    "                            })\n",
    "    print(answer)\n",
    "    \n",
    "    return {\"documents\": documents, \"answer\": answer}"
   ]
  },
  {
   "cell_type": "code",
   "execution_count": 46,
   "metadata": {},
   "outputs": [
    {
     "data": {
      "text/plain": [
       "\"Putting these together, the Kural essentially means that the sight of the beloved's flower-adorned arms brings as much joy and pleasure as fulfilling one's desires or wishes. It is a metaphorical expression of the intense pleasure one derives from the beauty and companionship of their beloved.\\n\\nTherefore, this verse is a beautiful expression of love and admiration, highlighting how the poet's beloved's beauty brings him immense joy and satisfaction, equating it to the joy of achieving one's desires.\\ntranslation: The arms of my flower-tressed maid Whatever I wish that that accord\""
      ]
     },
     "execution_count": 46,
     "metadata": {},
     "output_type": "execute_result"
    }
   ],
   "source": [
    "documents[0].page_content "
   ]
  },
  {
   "cell_type": "code",
   "execution_count": 48,
   "metadata": {},
   "outputs": [
    {
     "data": {
      "text/plain": [
       "AIMessage(content='What a lovely context!\\n\\nBased on this context, love is described as an intense pleasure derived from the beauty and companionship of one\\'s beloved. It is a feeling of immense joy and satisfaction that brings happiness comparable to fulfilling one\\'s desires or wishes.\\n\\nIn this poetic expression, love is not just a romantic emotion but also a source of delight, comfort, and contentment that surpasses other forms of pleasure. The sight of the beloved\\'s beauty, as metaphorically represented by the \"flower-adorned arms\", has the power to bring as much joy as achieving one\\'s deepest desires.\\n\\nThis definition highlights the all-encompassing nature of love, which can encompass not just romantic feelings but also a deep appreciation and admiration for the person loved.', additional_kwargs={}, response_metadata={'model': 'llama3.1', 'created_at': '2024-10-18T15:12:54.414292023Z', 'message': {'role': 'assistant', 'content': ''}, 'done_reason': 'stop', 'done': True, 'total_duration': 3884328183, 'load_duration': 2486484367, 'prompt_eval_count': 136, 'prompt_eval_duration': 31606000, 'eval_count': 150, 'eval_duration': 1323433000}, id='run-1b18a3db-d161-420a-afec-622095987024-0', usage_metadata={'input_tokens': 136, 'output_tokens': 150, 'total_tokens': 286})"
      ]
     },
     "execution_count": 48,
     "metadata": {},
     "output_type": "execute_result"
    }
   ],
   "source": [
    "# question =f\"What is love? Anser this question based on this context:{documents[0].page_content }\"\n",
    "\n",
    "# llm.invoke(\n",
    "    \n",
    "#     question\n",
    "    \n",
    "# )"
   ]
  },
  {
   "cell_type": "code",
   "execution_count": 20,
   "metadata": {},
   "outputs": [],
   "source": [
    "def wiki_search(state):\n",
    "    \"\"\"\n",
    "    wiki search based on the re-phrased question.\n",
    "\n",
    "    Args:\n",
    "        state (dict): The current graph state\n",
    "\n",
    "    Returns:\n",
    "        state (dict): Updates documents key with appended web results\n",
    "    \"\"\"\n",
    "\n",
    "    print(\"---wikipedia---\")\n",
    "    print(\"---HELLO--\")\n",
    "    question = state[\"question\"]\n",
    "    print(question)\n",
    "\n",
    "    # Wiki search\n",
    "    docs = wiki.invoke({\"query\": question})\n",
    "    #print(docs[\"summary\"])\n",
    "    wiki_results = docs\n",
    "    wiki_results = Document(page_content=wiki_results)\n",
    "\n",
    "    return {\"documents\": wiki_results, \"question\": question}"
   ]
  },
  {
   "cell_type": "code",
   "execution_count": 21,
   "metadata": {},
   "outputs": [],
   "source": [
    "### Edges ###\n",
    "\n",
    "def route_question(state):\n",
    "    \"\"\"\n",
    "    Route question to wiki search or RAG.\n",
    "\n",
    "    Args:\n",
    "        state (dict): The current graph state\n",
    "\n",
    "    Returns:\n",
    "        str: Next node to call\n",
    "    \"\"\"\n",
    "\n",
    "    print(\"---ROUTE QUESTION---\")\n",
    "    question = state[\"question\"]\n",
    "    source = question_router.invoke({\"question\": question})\n",
    "    print(source)\n",
    "    return \"vectorstore\"\n",
    "    \n",
    "    if source.datasource == \"wiki_search\":\n",
    "        print(\"---ROUTE QUESTION TO Wiki SEARCH---\")\n",
    "        return \"wiki_search\"\n",
    "    elif source.datasource == \"vectorstore\":\n",
    "        print(\"---ROUTE QUESTION TO RAG---\")\n",
    "        return \"vectorstore\""
   ]
  },
  {
   "cell_type": "code",
   "execution_count": 22,
   "metadata": {},
   "outputs": [],
   "source": [
    "### Edges ###\n",
    "\n",
    "\n",
    "def route_question(state):\n",
    "    \"\"\"\n",
    "    Route question to wiki search or RAG.\n",
    "\n",
    "    Args:\n",
    "        state (dict): The current graph state\n",
    "\n",
    "    Returns:\n",
    "        str: Next node to call\n",
    "    \"\"\"\n",
    "\n",
    "    print(\"---ROUTE QUESTION---\")\n",
    "    question = state[\"question\"]\n",
    "    source = question_router.invoke({\"question\": question})\n",
    "    print(source)\n",
    "    return \"vectorstore\"\n",
    "    if source.datasource == \"wiki_search\":\n",
    "        print(\"---ROUTE QUESTION TO Wiki SEARCH---\")\n",
    "        return \"wiki_search\"\n",
    "    elif source.datasource == \"vectorstore\":\n",
    "        print(\"---ROUTE QUESTION TO RAG---\")\n",
    "        return \"vectorstore\""
   ]
  },
  {
   "cell_type": "code",
   "execution_count": 30,
   "metadata": {},
   "outputs": [],
   "source": [
    "\n",
    "from langgraph.graph import END, StateGraph, START\n",
    "\n",
    "workflow = StateGraph(GraphState)\n",
    "# Define the nodes\n",
    "\n",
    "workflow.add_node(\"retrieve\", retrieve)  # retrieve\n",
    "# workflow.add_node(\"wiki_search\", wiki_search)  # web search\n",
    "\n",
    "# Build graph\n",
    "workflow.add_edge(\n",
    "    \n",
    "    START,\"retrieve\"\n",
    ")\n",
    "\n",
    "# workflow.add_conditional_edges(\n",
    "#     START,\n",
    "#     route_question,\n",
    "#     {\n",
    "#         \"vectorstore\": \"retrieve\",\n",
    "#         \"wiki_search\": \"wiki_search\"\n",
    "        \n",
    "#     },\n",
    "# )\n",
    "workflow.add_edge( \"retrieve\", END)\n",
    "# workflow.add_edge( \"wiki_search\", END)\n",
    "# Compile\n",
    "app = workflow.compile()"
   ]
  },
  {
   "cell_type": "code",
   "execution_count": 31,
   "metadata": {},
   "outputs": [
    {
     "data": {
      "image/jpeg": "[encoded data removed]",
      "text/plain": [
       "<IPython.core.display.Image object>"
      ]
     },
     "metadata": {},
     "output_type": "display_data"
    }
   ],
   "source": [
    "from IPython.display import Image, display\n",
    "\n",
    "try:\n",
    "    display(Image(app.get_graph().draw_mermaid_png()))\n",
    "except Exception:\n",
    "    # This requires some extra dependencies and is optional\n",
    "    pass"
   ]
  },
  {
   "cell_type": "code",
   "execution_count": 32,
   "metadata": {},
   "outputs": [
    {
     "name": "stdout",
     "output_type": "stream",
     "text": [
      "---RETRIEVE---\n",
      "datasource='wiki_search'\n",
      "\"Node 'retrieve':\"\n",
      "'\\n---\\n'\n"
     ]
    }
   ],
   "source": [
    "from pprint import pprint\n",
    "\n",
    "# Run\n",
    "inputs = {\n",
    "    \"question\": \"What is love?\"\n",
    "}\n",
    "for output in app.stream(inputs):\n",
    "    for key, value in output.items():\n",
    "        # Node\n",
    "        pprint(f\"Node '{key}':\")\n",
    "        # Optional: print full state at each node\n",
    "        # pprint.pprint(value[\"keys\"], indent=2, width=80, depth=None)\n",
    "    pprint(\"\\n---\\n\")\n",
    "\n"
   ]
  },
  {
   "cell_type": "code",
   "execution_count": 33,
   "metadata": {},
   "outputs": [
    {
     "data": {
      "text/plain": [
       "{'documents': [Document(metadata={'row': '70.0', 'source': '/nfs/kundeshwar/surajKuralGPT/langGraph/thirukkural.csv'}, page_content='kural: அன்பிற்கும் உண்டோ அடைக்குந்தாழ் ஆர்வலர்புன்கணீர் பூசல் தரும்.\\nexplanation: Kural 71 explores the profound nature of love and affection. It asks rhetorically, \"Can love ever be truly concealed or restrained?\" implying that genuine love cannot be suppressed or hidden. The verse suggests that the true depth of one\\'s affection for another often reveals itself when the loved one is in distress or suffering. This is symbolically represented by the shedding of tears. \\n\\nThe second line of the verse, \"Tears of the affectionate will publish the love that is within\", emphasizes that emotional reactions such as tears are a spontaneous and honest expression of the love concealed within one\\'s heart. In other words, even though one might try to hide their feelings of love, their emotional reactions will inevitably reveal the truth. \\n\\nThis verse highlights the enduring and revealing nature of love. It suggests that genuine love cannot be suppressed or hidden, and will always find a way to express itself, especially in times of distress or suffering. It underscores the powerful, emotional, and transparent nature of true affection. \\n\\nIn terms of cultural context, this verse reflects the emphasis placed on love and affection in Tamil culture and literature. It also highlights the value of empathy and emotional expressiveness in human relationships. The moral interpretation here is the importance of sincerity and authenticity in expressing love and affection. It encourages us not to suppress our feelings, but to let them show, especially in times of need, as this is the most genuine expression of love.\\ntranslation: What bolt can bar true love in fact  The tricking tears reveal the heart'),\n",
       "  Document(metadata={'row': '70.0', 'source': '/nfs/kundeshwar/surajKuralGPT/langGraph/thirukkural.csv'}, page_content='kural: அன்பிற்கும் உண்டோ அடைக்குந்தாழ் ஆர்வலர்புன்கணீர் பூசல் தரும்.\\nexplanation: Kural 71 explores the profound nature of love and affection. It asks rhetorically, \"Can love ever be truly concealed or restrained?\" implying that genuine love cannot be suppressed or hidden. The verse suggests that the true depth of one\\'s affection for another often reveals itself when the loved one is in distress or suffering. This is symbolically represented by the shedding of tears. \\n\\nThe second line of the verse, \"Tears of the affectionate will publish the love that is within\", emphasizes that emotional reactions such as tears are a spontaneous and honest expression of the love concealed within one\\'s heart. In other words, even though one might try to hide their feelings of love, their emotional reactions will inevitably reveal the truth. \\n\\nThis verse highlights the enduring and revealing nature of love. It suggests that genuine love cannot be suppressed or hidden, and will always find a way to express itself, especially in times of distress or suffering. It underscores the powerful, emotional, and transparent nature of true affection. \\n\\nIn terms of cultural context, this verse reflects the emphasis placed on love and affection in Tamil culture and literature. It also highlights the value of empathy and emotional expressiveness in human relationships. The moral interpretation here is the importance of sincerity and authenticity in expressing love and affection. It encourages us not to suppress our feelings, but to let them show, especially in times of need, as this is the most genuine expression of love.\\ntranslation: What bolt can bar true love in fact  The tricking tears reveal the heart'),\n",
       "  Document(metadata={'row': '70.0', 'source': '/nfs/kundeshwar/surajKuralGPT/langGraph/thirukkural.csv'}, page_content='kural: அன்பிற்கும் உண்டோ அடைக்குந்தாழ் ஆர்வலர்புன்கணீர் பூசல் தரும்.\\nexplanation: Kural 71 explores the profound nature of love and affection. It asks rhetorically, \"Can love ever be truly concealed or restrained?\" implying that genuine love cannot be suppressed or hidden. The verse suggests that the true depth of one\\'s affection for another often reveals itself when the loved one is in distress or suffering. This is symbolically represented by the shedding of tears. \\n\\nThe second line of the verse, \"Tears of the affectionate will publish the love that is within\", emphasizes that emotional reactions such as tears are a spontaneous and honest expression of the love concealed within one\\'s heart. In other words, even though one might try to hide their feelings of love, their emotional reactions will inevitably reveal the truth. \\n\\nThis verse highlights the enduring and revealing nature of love. It suggests that genuine love cannot be suppressed or hidden, and will always find a way to express itself, especially in times of distress or suffering. It underscores the powerful, emotional, and transparent nature of true affection. \\n\\nIn terms of cultural context, this verse reflects the emphasis placed on love and affection in Tamil culture and literature. It also highlights the value of empathy and emotional expressiveness in human relationships. The moral interpretation here is the importance of sincerity and authenticity in expressing love and affection. It encourages us not to suppress our feelings, but to let them show, especially in times of need, as this is the most genuine expression of love.\\ntranslation: What bolt can bar true love in fact  The tricking tears reveal the heart'),\n",
       "  Document(metadata={'row': '70.0', 'source': '/nfs/kundeshwar/surajKuralGPT/langGraph/thirukkural.csv'}, page_content='kural: அன்பிற்கும் உண்டோ அடைக்குந்தாழ் ஆர்வலர்புன்கணீர் பூசல் தரும்.\\nexplanation: Kural 71 explores the profound nature of love and affection. It asks rhetorically, \"Can love ever be truly concealed or restrained?\" implying that genuine love cannot be suppressed or hidden. The verse suggests that the true depth of one\\'s affection for another often reveals itself when the loved one is in distress or suffering. This is symbolically represented by the shedding of tears. \\n\\nThe second line of the verse, \"Tears of the affectionate will publish the love that is within\", emphasizes that emotional reactions such as tears are a spontaneous and honest expression of the love concealed within one\\'s heart. In other words, even though one might try to hide their feelings of love, their emotional reactions will inevitably reveal the truth. \\n\\nThis verse highlights the enduring and revealing nature of love. It suggests that genuine love cannot be suppressed or hidden, and will always find a way to express itself, especially in times of distress or suffering. It underscores the powerful, emotional, and transparent nature of true affection. \\n\\nIn terms of cultural context, this verse reflects the emphasis placed on love and affection in Tamil culture and literature. It also highlights the value of empathy and emotional expressiveness in human relationships. The moral interpretation here is the importance of sincerity and authenticity in expressing love and affection. It encourages us not to suppress our feelings, but to let them show, especially in times of need, as this is the most genuine expression of love.\\ntranslation: What bolt can bar true love in fact  The tricking tears reveal the heart')]}"
      ]
     },
     "execution_count": 33,
     "metadata": {},
     "output_type": "execute_result"
    }
   ],
   "source": [
    "value"
   ]
  },
  {
   "cell_type": "code",
   "execution_count": 34,
   "metadata": {},
   "outputs": [
    {
     "name": "stdout",
     "output_type": "stream",
     "text": [
      "---RETRIEVE---\n",
      "datasource='wiki_search'\n"
     ]
    },
    {
     "data": {
      "text/plain": [
       "{'question': 'What is Love?',\n",
       " 'documents': [Document(metadata={'row': '70.0', 'source': '/nfs/kundeshwar/surajKuralGPT/langGraph/thirukkural.csv'}, page_content='kural: அன்பிற்கும் உண்டோ அடைக்குந்தாழ் ஆர்வலர்புன்கணீர் பூசல் தரும்.\\nexplanation: Kural 71 explores the profound nature of love and affection. It asks rhetorically, \"Can love ever be truly concealed or restrained?\" implying that genuine love cannot be suppressed or hidden. The verse suggests that the true depth of one\\'s affection for another often reveals itself when the loved one is in distress or suffering. This is symbolically represented by the shedding of tears. \\n\\nThe second line of the verse, \"Tears of the affectionate will publish the love that is within\", emphasizes that emotional reactions such as tears are a spontaneous and honest expression of the love concealed within one\\'s heart. In other words, even though one might try to hide their feelings of love, their emotional reactions will inevitably reveal the truth. \\n\\nThis verse highlights the enduring and revealing nature of love. It suggests that genuine love cannot be suppressed or hidden, and will always find a way to express itself, especially in times of distress or suffering. It underscores the powerful, emotional, and transparent nature of true affection. \\n\\nIn terms of cultural context, this verse reflects the emphasis placed on love and affection in Tamil culture and literature. It also highlights the value of empathy and emotional expressiveness in human relationships. The moral interpretation here is the importance of sincerity and authenticity in expressing love and affection. It encourages us not to suppress our feelings, but to let them show, especially in times of need, as this is the most genuine expression of love.\\ntranslation: What bolt can bar true love in fact  The tricking tears reveal the heart'),\n",
       "  Document(metadata={'row': '70.0', 'source': '/nfs/kundeshwar/surajKuralGPT/langGraph/thirukkural.csv'}, page_content='kural: அன்பிற்கும் உண்டோ அடைக்குந்தாழ் ஆர்வலர்புன்கணீர் பூசல் தரும்.\\nexplanation: Kural 71 explores the profound nature of love and affection. It asks rhetorically, \"Can love ever be truly concealed or restrained?\" implying that genuine love cannot be suppressed or hidden. The verse suggests that the true depth of one\\'s affection for another often reveals itself when the loved one is in distress or suffering. This is symbolically represented by the shedding of tears. \\n\\nThe second line of the verse, \"Tears of the affectionate will publish the love that is within\", emphasizes that emotional reactions such as tears are a spontaneous and honest expression of the love concealed within one\\'s heart. In other words, even though one might try to hide their feelings of love, their emotional reactions will inevitably reveal the truth. \\n\\nThis verse highlights the enduring and revealing nature of love. It suggests that genuine love cannot be suppressed or hidden, and will always find a way to express itself, especially in times of distress or suffering. It underscores the powerful, emotional, and transparent nature of true affection. \\n\\nIn terms of cultural context, this verse reflects the emphasis placed on love and affection in Tamil culture and literature. It also highlights the value of empathy and emotional expressiveness in human relationships. The moral interpretation here is the importance of sincerity and authenticity in expressing love and affection. It encourages us not to suppress our feelings, but to let them show, especially in times of need, as this is the most genuine expression of love.\\ntranslation: What bolt can bar true love in fact  The tricking tears reveal the heart'),\n",
       "  Document(metadata={'row': '70.0', 'source': '/nfs/kundeshwar/surajKuralGPT/langGraph/thirukkural.csv'}, page_content='kural: அன்பிற்கும் உண்டோ அடைக்குந்தாழ் ஆர்வலர்புன்கணீர் பூசல் தரும்.\\nexplanation: Kural 71 explores the profound nature of love and affection. It asks rhetorically, \"Can love ever be truly concealed or restrained?\" implying that genuine love cannot be suppressed or hidden. The verse suggests that the true depth of one\\'s affection for another often reveals itself when the loved one is in distress or suffering. This is symbolically represented by the shedding of tears. \\n\\nThe second line of the verse, \"Tears of the affectionate will publish the love that is within\", emphasizes that emotional reactions such as tears are a spontaneous and honest expression of the love concealed within one\\'s heart. In other words, even though one might try to hide their feelings of love, their emotional reactions will inevitably reveal the truth. \\n\\nThis verse highlights the enduring and revealing nature of love. It suggests that genuine love cannot be suppressed or hidden, and will always find a way to express itself, especially in times of distress or suffering. It underscores the powerful, emotional, and transparent nature of true affection. \\n\\nIn terms of cultural context, this verse reflects the emphasis placed on love and affection in Tamil culture and literature. It also highlights the value of empathy and emotional expressiveness in human relationships. The moral interpretation here is the importance of sincerity and authenticity in expressing love and affection. It encourages us not to suppress our feelings, but to let them show, especially in times of need, as this is the most genuine expression of love.\\ntranslation: What bolt can bar true love in fact  The tricking tears reveal the heart'),\n",
       "  Document(metadata={'row': '70.0', 'source': '/nfs/kundeshwar/surajKuralGPT/langGraph/thirukkural.csv'}, page_content='kural: அன்பிற்கும் உண்டோ அடைக்குந்தாழ் ஆர்வலர்புன்கணீர் பூசல் தரும்.\\nexplanation: Kural 71 explores the profound nature of love and affection. It asks rhetorically, \"Can love ever be truly concealed or restrained?\" implying that genuine love cannot be suppressed or hidden. The verse suggests that the true depth of one\\'s affection for another often reveals itself when the loved one is in distress or suffering. This is symbolically represented by the shedding of tears. \\n\\nThe second line of the verse, \"Tears of the affectionate will publish the love that is within\", emphasizes that emotional reactions such as tears are a spontaneous and honest expression of the love concealed within one\\'s heart. In other words, even though one might try to hide their feelings of love, their emotional reactions will inevitably reveal the truth. \\n\\nThis verse highlights the enduring and revealing nature of love. It suggests that genuine love cannot be suppressed or hidden, and will always find a way to express itself, especially in times of distress or suffering. It underscores the powerful, emotional, and transparent nature of true affection. \\n\\nIn terms of cultural context, this verse reflects the emphasis placed on love and affection in Tamil culture and literature. It also highlights the value of empathy and emotional expressiveness in human relationships. The moral interpretation here is the importance of sincerity and authenticity in expressing love and affection. It encourages us not to suppress our feelings, but to let them show, especially in times of need, as this is the most genuine expression of love.\\ntranslation: What bolt can bar true love in fact  The tricking tears reveal the heart')]}"
      ]
     },
     "execution_count": 34,
     "metadata": {},
     "output_type": "execute_result"
    }
   ],
   "source": [
    "app.invoke({\"question\":\"What is Love?\"})"
   ]
  },
  {
   "cell_type": "code",
   "execution_count": 34,
   "metadata": {},
   "outputs": [
    {
     "name": "stdout",
     "output_type": "stream",
     "text": [
      "---ROUTE QUESTION---\n",
      "---RETRIEVE---\n",
      "\"Node 'retrieve':\"\n",
      "'\\n---\\n'\n",
      "[Document(metadata={'row': '70.0', 'source': '/nfs/kundeshwar/surajKuralGPT/langGraph/thirukkural.csv'}, page_content='kural: அன்பிற்கும் உண்டோ அடைக்குந்தாழ் ஆர்வலர்புன்கணீர் பூசல் தரும்.\\nexplanation: Kural 71 explores the profound nature of love and affection. It asks rhetorically, \"Can love ever be truly concealed or restrained?\" implying that genuine love cannot be suppressed or hidden. The verse suggests that the true depth of one\\'s affection for another often reveals itself when the loved one is in distress or suffering. This is symbolically represented by the shedding of tears. \\n\\nThe second line of the verse, \"Tears of the affectionate will publish the love that is within\", emphasizes that emotional reactions such as tears are a spontaneous and honest expression of the love concealed within one\\'s heart. In other words, even though one might try to hide their feelings of love, their emotional reactions will inevitably reveal the truth. \\n\\nThis verse highlights the enduring and revealing nature of love. It suggests that genuine love cannot be suppressed or hidden, and will always find a way to express itself, especially in times of distress or suffering. It underscores the powerful, emotional, and transparent nature of true affection. \\n\\nIn terms of cultural context, this verse reflects the emphasis placed on love and affection in Tamil culture and literature. It also highlights the value of empathy and emotional expressiveness in human relationships. The moral interpretation here is the importance of sincerity and authenticity in expressing love and affection. It encourages us not to suppress our feelings, but to let them show, especially in times of need, as this is the most genuine expression of love.\\ntranslation: What bolt can bar true love in fact  The tricking tears reveal the heart'),\n",
      " Document(metadata={'row': '70.0', 'source': '/nfs/kundeshwar/surajKuralGPT/langGraph/thirukkural.csv'}, page_content='kural: அன்பிற்கும் உண்டோ அடைக்குந்தாழ் ஆர்வலர்புன்கணீர் பூசல் தரும்.\\nexplanation: Kural 71 explores the profound nature of love and affection. It asks rhetorically, \"Can love ever be truly concealed or restrained?\" implying that genuine love cannot be suppressed or hidden. The verse suggests that the true depth of one\\'s affection for another often reveals itself when the loved one is in distress or suffering. This is symbolically represented by the shedding of tears. \\n\\nThe second line of the verse, \"Tears of the affectionate will publish the love that is within\", emphasizes that emotional reactions such as tears are a spontaneous and honest expression of the love concealed within one\\'s heart. In other words, even though one might try to hide their feelings of love, their emotional reactions will inevitably reveal the truth. \\n\\nThis verse highlights the enduring and revealing nature of love. It suggests that genuine love cannot be suppressed or hidden, and will always find a way to express itself, especially in times of distress or suffering. It underscores the powerful, emotional, and transparent nature of true affection. \\n\\nIn terms of cultural context, this verse reflects the emphasis placed on love and affection in Tamil culture and literature. It also highlights the value of empathy and emotional expressiveness in human relationships. The moral interpretation here is the importance of sincerity and authenticity in expressing love and affection. It encourages us not to suppress our feelings, but to let them show, especially in times of need, as this is the most genuine expression of love.\\ntranslation: What bolt can bar true love in fact  The tricking tears reveal the heart'),\n",
      " Document(metadata={'row': '70.0', 'source': '/nfs/kundeshwar/surajKuralGPT/langGraph/thirukkural.csv'}, page_content='kural: அன்பிற்கும் உண்டோ அடைக்குந்தாழ் ஆர்வலர்புன்கணீர் பூசல் தரும்.\\nexplanation: Kural 71 explores the profound nature of love and affection. It asks rhetorically, \"Can love ever be truly concealed or restrained?\" implying that genuine love cannot be suppressed or hidden. The verse suggests that the true depth of one\\'s affection for another often reveals itself when the loved one is in distress or suffering. This is symbolically represented by the shedding of tears. \\n\\nThe second line of the verse, \"Tears of the affectionate will publish the love that is within\", emphasizes that emotional reactions such as tears are a spontaneous and honest expression of the love concealed within one\\'s heart. In other words, even though one might try to hide their feelings of love, their emotional reactions will inevitably reveal the truth. \\n\\nThis verse highlights the enduring and revealing nature of love. It suggests that genuine love cannot be suppressed or hidden, and will always find a way to express itself, especially in times of distress or suffering. It underscores the powerful, emotional, and transparent nature of true affection. \\n\\nIn terms of cultural context, this verse reflects the emphasis placed on love and affection in Tamil culture and literature. It also highlights the value of empathy and emotional expressiveness in human relationships. The moral interpretation here is the importance of sincerity and authenticity in expressing love and affection. It encourages us not to suppress our feelings, but to let them show, especially in times of need, as this is the most genuine expression of love.\\ntranslation: What bolt can bar true love in fact  The tricking tears reveal the heart'),\n",
      " Document(metadata={'row': '79.0', 'source': '/nfs/kundeshwar/surajKuralGPT/langGraph/thirukkural.csv'}, page_content=\"kural: அன்பின் வழியது உயிர்நிலை அஃதிலார்க்குஎன்புதோல் போர்த்த உடம்பு.\\nexplanation: Kural 80 emphasizes the inherent value of love in giving life its true meaning. According to the verse, a body filled with love is considered to be truly alive, as it is the love within us that animates our existence and gives life its vibrancy and purpose. The verse suggests that a life without love is akin to a lifeless body, a mere skeletal structure covered with skin, devoid of the emotional vitality that defines living. \\n\\nThe metaphor of a 'bone overlaid with skin' is used to depict a life devoid of love, suggesting such a life lacks depth, warmth, and the essential human connection. The verse implies that love forms the essence of life and without it, we are akin to the walking dead, physically present but emotionally and spiritually vacant. \\n\\nThis verse underscores the importance of love in our lives, not just in terms of romantic love, but also in terms of compassion, empathy, and kindness towards others. It is a call to infuse love into our actions, thoughts, and behaviors, thereby enriching our lives and the lives of those around us. Love, according to this verse, is not just an emotion, but a way of life that defines our very existence.\\ntranslation: The seat of life is love alone;  Or beings are but skin and bone!\")]\n"
     ]
    }
   ],
   "source": [
    "from pprint import pprint\n",
    "\n",
    "# Run\n",
    "inputs = {\n",
    "    \"question\": \"What is love?\"\n",
    "}\n",
    "for output in app.stream(inputs):\n",
    "    for key, value in output.items():\n",
    "        # Node\n",
    "        pprint(f\"Node '{key}':\")\n",
    "        # Optional: print full state at each node\n",
    "        # pprint.pprint(value[\"keys\"], indent=2, width=80, depth=None)\n",
    "    pprint(\"\\n---\\n\")\n",
    "\n",
    "# Final generation\n",
    "pprint(value['documents'])"
   ]
  },
  {
   "cell_type": "code",
   "execution_count": null,
   "metadata": {},
   "outputs": [],
   "source": []
  },
  {
   "cell_type": "code",
   "execution_count": null,
   "metadata": {},
   "outputs": [],
   "source": []
  },
  {
   "cell_type": "code",
   "execution_count": null,
   "metadata": {},
   "outputs": [],
   "source": []
  },
  {
   "cell_type": "code",
   "execution_count": null,
   "metadata": {},
   "outputs": [],
   "source": []
  },
  {
   "cell_type": "code",
   "execution_count": null,
   "metadata": {},
   "outputs": [],
   "source": []
  },
  {
   "cell_type": "code",
   "execution_count": null,
   "metadata": {},
   "outputs": [],
   "source": []
  },
  {
   "cell_type": "code",
   "execution_count": null,
   "metadata": {},
   "outputs": [],
   "source": []
  },
  {
   "cell_type": "code",
   "execution_count": null,
   "metadata": {},
   "outputs": [],
   "source": []
  }
 ],
 "metadata": {
  "kernelspec": {
   "display_name": "kuralGPT",
   "language": "python",
   "name": "python3"
  },
  "language_info": {
   "codemirror_mode": {
    "name": "ipython",
    "version": 3
   },
   "file_extension": ".py",
   "mimetype": "text/x-python",
   "name": "python",
   "nbconvert_exporter": "python",
   "pygments_lexer": "ipython3",
   "version": "3.12.0"
  }
 },
 "nbformat": 4,
 "nbformat_minor": 2
}
