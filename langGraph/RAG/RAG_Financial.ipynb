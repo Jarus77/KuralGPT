{
 "cells": [
  {
   "cell_type": "markdown",
   "metadata": {},
   "source": [
    "## Vector Database"
   ]
  },
  {
   "cell_type": "code",
   "execution_count": 1,
   "metadata": {},
   "outputs": [],
   "source": [
    "\n",
    "from langchain_community.document_loaders import PyPDFLoader\n",
    "\n",
    "file_path='/nfs/kundeshwar/surajKuralGPT/infosys-ar-23.pdf'\n",
    "loader = PyPDFLoader(file_path)\n",
    "pages = []\n",
    "\n",
    "cnt=0\n",
    "\n",
    "async for page in loader.alazy_load():\n",
    "    cnt=cnt+1\n",
    "    if cnt==15:\n",
    "        break\n",
    "    pages.append(page)"
   ]
  },
  {
   "cell_type": "code",
   "execution_count": 4,
   "metadata": {},
   "outputs": [],
   "source": [
    "### Build Index\n",
    "# from langchain.document_loaders import CSVLoader\n",
    "from langchain_ollama import ChatOllama\n",
    "from langchain_huggingface import HuggingFaceEmbeddings\n",
    "from langchain.text_splitter import RecursiveCharacterTextSplitter\n",
    "from langchain_community.document_loaders import WebBaseLoader\n",
    "from langchain_community.vectorstores import Chroma\n",
    "\n",
    "\n",
    "\n",
    "# Set embeddings\n",
    "embd = HuggingFaceEmbeddings(model_name=\"all-MiniLM-L6-v2\")\n",
    "\n",
    "\n",
    "# Docs to index\n",
    "# urls = [\n",
    "\n",
    "#     \"https://s2.q4cdn.com/661678649/files/doc_financials/2023/q3/fd2a8c99-afc6-4472-ae18-4f1ee024a274.pdf\"\n",
    "\n",
    "# ]\n",
    "\n",
    "\n",
    "# loader = CSVLoader(file_path='/nfs/kundeshwar/surajKuralGPT/langGraph/thirukkural.csv')\n",
    "# data = loader.load()\n",
    "\n",
    "\n",
    "# #Load\n",
    "# docs = [WebBaseLoader(url).load() for url in urls]\n",
    "\n",
    "\n",
    "\n",
    "# docs_list = [item for sublist in docs for item in sublist]\n",
    "\n",
    "\n",
    "\n",
    "# Split\n",
    "text_splitter = RecursiveCharacterTextSplitter.from_tiktoken_encoder(\n",
    "    chunk_size=512, chunk_overlap=0\n",
    ")\n",
    "\n",
    "doc_splits = text_splitter.split_documents(pages)\n",
    "\n",
    "# Add to vectorstore\n",
    "vectorstore = Chroma.from_documents(\n",
    "    documents=doc_splits,\n",
    "    embedding=embd,\n",
    ")\n",
    "\n",
    "\n",
    "retriever = vectorstore.as_retriever()"
   ]
  },
  {
   "cell_type": "code",
   "execution_count": 3,
   "metadata": {},
   "outputs": [],
   "source": [
    "docs=retriever.invoke(\"Financial Statements\")"
   ]
  },
  {
   "cell_type": "code",
   "execution_count": 4,
   "metadata": {},
   "outputs": [
    {
     "data": {
      "text/plain": [
       "[Document(metadata={'page': 195, 'source': '/nfs/kundeshwar/surajKuralGPT/infosys-ar-23.pdf'}, page_content='Note 2.12)  1 – – –  10 – – – – – – –  11 Standalone Financial Statements'),\n",
       " Document(metadata={'page': 269, 'source': '/nfs/kundeshwar/surajKuralGPT/infosys-ar-23.pdf'}, page_content=\"Infosys Integrated Annual Report 2022-23298Meaning of Internal Financial Controls with reference to Consolidated Financial Statements\\nA company's internal financial control with reference to Consolidated Financial Statements is a process designed to provide reasonable \\nassurance regarding the reliability of financial reporting and the preparation of financial statements for external purposes in accordance \\nwith generally accepted accounting principles. A company's internal financial control with reference to Consolidated Financial \\nStatements includes those policies and procedures that (1) pertain to the maintenance of records that, in reasonable detail, accurately \\nand fairly reflect the transactions and dispositions of the assets of the company; (2) provide reasonable assurance that transactions are \\nrecorded as necessary to permit preparation of financial statements in accordance with generally accepted accounting principles, and \\nthat receipts and expenditures of the company are being made only in accordance with authorisations of management and directors \\nof the company; and (3) provide reasonable assurance regarding prevention or timely detection of unauthorised acquisition, use, or \\ndisposition of the company's assets that could have a material effect on the financial statements.\\nInherent Limitations of Internal Financial Controls with reference to Consolidated Financial Statements \\nBecause of the inherent limitations of internal financial controls with reference to Consolidated Financial Statements, including the \\npossibility of collusion or improper management override of controls, material misstatements due to error or fraud may occur and not \\nbe detected. Also, projections of any evaluation of the internal financial controls with reference to Consolidated Financial Statements to \\nfuture periods are subject to the risk that the internal financial control with reference to Consolidated Financial Statements may become \\ninadequate because of changes in conditions, or that the degree of compliance with the policies or procedures may deteriorate.\\nOpinion\\nIn our opinion and to the best of our information and according to the explanations given to us, the Company and its subsidiary \\ncompanies, which are companies incorporated in India, have, in all material respects, an adequate internal financial controls with \\nreference to Consolidated Financial Statements and such internal financial controls with reference to Consolidated Financial Statements \\nwere operating effectively as at March 31, 2023, based on the criteria for internal financial control with reference to Consolidated \\nFinancial Statements established by the respective companies considering the essential components of internal control stated in the \\nGuidance Note on Audit of Internal Financial Controls Over Financial Reporting issued by the ICAI.\"),\n",
       " Document(metadata={'page': 337, 'source': '/nfs/kundeshwar/surajKuralGPT/infosys-ar-23.pdf'}, page_content='Other income, net 2.19  2,701  2,295\\nFinance cost   284  200\\nProfit before tax  33,322 30,110Consolidated Financial Statements'),\n",
       " Document(metadata={'page': 281, 'source': '/nfs/kundeshwar/surajKuralGPT/infosys-ar-23.pdf'}, page_content=\"quarters might not always add up to the year-end figures \\nreported in this statement.\\n1.3 Basis of consolidation\\nInfosys consolidates entities which it owns or controls. \\nThe\\xa0 Consolidated financial statements  comprise the financial \\nstatements of the Company, its controlled trusts and its \\nsubsidiaries. Control exists when the parent has power over \\nthe entity, is exposed, or has rights to variable returns from its \\ninvolvement with the entity and has the ability to affect those \\nreturns by using its power over the entity. Power is demonstrated \\nthrough existing rights that give the ability to direct relevant \\nactivities, those which significantly affect the entity's returns. \\nSubsidiaries are consolidated from the date control commences \\nuntil the date control ceases.The financial statements of the Group companies are \\nconsolidated on a line-by-line basis and intra-group balances \\nand transactions including unrealized gain / loss from such \\ntransactions are eliminated upon consolidation. These financial \\nstatements are prepared by applying uniform accounting policies \\nin use at the Group. Non-controlling interests which represent \\npart of the net profit or loss and net assets of subsidiaries \\nthat are not, directly or indirectly, owned or controlled by the \\nCompany, are excluded.\\n1.4 Use of estimates and judgments\\nThe preparation of the financial statements in conformity \\nwith Ind AS requires the Management to make estimates, \\njudgments and assumptions. These estimates, judgments and \\nassumptions affect the application of accounting policies and \\nthe reported amounts of assets and liabilities, the disclosures \\nof contingent assets and liabilities at the date of the financial \\nstatements and reported amounts of revenues and expenses \\nduring the period. The application of accounting policies that \\nrequire critical accounting estimates, which involve complex \\nand subjective judgments and the use of assumptions in \\nthese financial statements, have been disclosed in Note 1.5. \\nAccounting estimates could change from period to period. \\nActual results could differ from those estimates. Appropriate \\nchanges in estimates are made as the Management becomes \\naware of changes in circumstances surrounding the estimates. \\nChanges in estimates and judgments are reflected in the \\nfinancial statements in the period in which changes are made \\nand, if material, their effects are disclosed in the notes to the\")]"
      ]
     },
     "execution_count": 4,
     "metadata": {},
     "output_type": "execute_result"
    }
   ],
   "source": [
    "docs"
   ]
  },
  {
   "cell_type": "code",
   "execution_count": 8,
   "metadata": {},
   "outputs": [
    {
     "data": {
      "text/plain": [
       "[Document(metadata={'source': '/nfs/kundeshwar/surajKuralGPT/infosys-ar-23.pdf', 'page': 0}, page_content='Integrated Annual Report 2022-23'),\n",
       " Document(metadata={'source': '/nfs/kundeshwar/surajKuralGPT/infosys-ar-23.pdf', 'page': 1}, page_content='The context surrounding \\nan enterprise, created, \\nand influenced by multiple \\ninherently uncertain forces, can \\nsignificantly impact the fortunes \\nof a business. While this volatility \\nhas come to be expected as normal, \\nnot every business emerges from it having \\ntackled the situation with the same resilience. \\nThose that get a head start in preparing and taking \\non the challenges are also the ones that come out of the \\nuncertainty with the ability to outperform in the recovery.\\nThat does not necessarily mean rethinking one’s business \\nstrategy, but rather rearticulating it to adapt. It’s really about being judicious where to lean in and where to pull back. In essence, it’s about protecting one’s capability to innovate and propel forward while being deeply disciplined when it comes to operations. Digitally transformed companies have a distinct advantage here. They can drive frictionless business throughout the supply chain, serve customers at lower costs, and avoid resource-intensive IT upgrades, unlike the digitally disadvantaged who may have to wait for economic conditions to improve before they can make progress.\\nAdvanced technologies – especially AI in tandem with \\ncloud – are creating performance opportunities that are reshaping these dynamics in significant ways. They are helping companies to amplify human potential to take on higher value work, boost people productivity and rapidly create business value. From unlocking efficiencies at scale and empowering the ecosystem to accelerating growth, cognitively capable companies are unshackling intelligence from data for experimentation as well as the scale-out of AI to power greater efficacy and create disruptive revenue streams. \\nInfosys is taking the AI-first approach to its own \\ntransformation. We are bringing the power of AI, analytics, and cloud to accelerate our own enterprise transformation, even as we build incremental value from micro-changes, to improve client service, reimagine business processes, and boost productivity. Nearly 50,000 reusable intelligent services, applied in over 25,000 instances, are amplifying our employees to boost their productivity.\\nIt is Infosys Topaz\\nTM – our AI-first services using generative \\nAI – that’s making it all possible. Both for us and our clients. \\nToday, 12,000+ AI use cases and 150+ pre-trained AI models delivered by AI-first specialists and data strategists are accelerating business value for enterprises the world over. All this, while ensuring uncompromising ethics, trust, privacy and compliance, and security of data and AI.\\nYou’ll no doubt catch interesting glimpses of these exciting \\npossibilities and progress in this Integrated Annual Report. It’s the same potential we see too, to help our clients navigate change and move into a future filled with more potential, and more shared advances.NAVIGATING CHANGE AT THE PACE OF AI\\nInfosys Integrated Annual Report 2022-23 3'),\n",
       " Document(metadata={'source': '/nfs/kundeshwar/surajKuralGPT/infosys-ar-23.pdf', 'page': 2}, page_content='Infosys Integrated Annual Report 2022-234\\nACCELERATING THE AI-FIRST \\nJOURNEY FOR YOUR ENTERPRISEE-commerce fraud has evolved and increased with \\nthe surge in online commerce since the pandemic. Bad actors are launching more sophisticated attacks. E-commerce losses to online payment fraud were estimated at US$41 billion globally in 2022, making cybersecurity an utmost priority for all digital companies.\\nBooking Holdings is the world’s leading provider \\nof online travel and related services, offered to consumers and local partners in more than 220 countries and territories through six primary consumer-facing brands: Booking.com, Priceline, Agoda, Rentalcars.com, KAYAK and OpenTable. Booking Holdings’ mission is to make it easier for everyone to experience the world.\\nAcross their operations, Booking Holdings’ brands \\nhave always been keen to ensure comprehensive security powered by next-gen technology. To realize this, the company teamed up with Infosys to ramp BOOKING HOLDINGS: BOOSTING THE RISK-RESILIENCE OF \\nBUSINESS\\n‘’Modern enterprises, with their digital footprint expanding past \\ntraditional perimeters, are increasingly susceptible to cybersecurity attacks. To be cyber-resilient, enterprises must embed security by design and operational measures to adequately protect products and services. To do this, they need to embrace AI-first threat management solutions. We have successfully adopted this approach at Booking Holdings and for our brands working collaboratively with\\xa0Infosys. ’’\\nSpencer Mott\\nChief Security Officer – Booking Holdings & Booking.comup a Center of Excellence in Bucharest, Romania. \\nThe Center delivers services across critical business functions in cybersecurity, fraud management and analytics and TRAC (Trust, Risk, Assurance and Compliance). It also delivers services for financial systems development and support, IT development and support, application security, risk management, audit management and account security consultancy. Infosys Topaz\\nTM AI-first solution plays a key role here \\nin making these services truly cognitive. This initiative is driving improved speed to market, more innovative thinking and consistently rewarding business outcomes for brands like Booking.com.\\nEfforts at Infosys strengthen this collaboration to \\nbuild innovative solutions in the travel domain. Infosys is also looking to continuously upskill its project team to build exceptional skill sets that can be leveraged to build these focused\\xa0solutions.\\nInfosys Integrated Annual Report 2022-23 5'),\n",
       " Document(metadata={'source': '/nfs/kundeshwar/surajKuralGPT/infosys-ar-23.pdf', 'page': 3}, page_content='Infosys Integrated Annual Report 2022-236\\nACCELERATING THE AI-FIRST \\nJOURNEY FOR YOUR ENTERPRISEDigital transformation of enterprises today is also \\nleading to data and AI transformation of businesses bringing powerful capabilities to non-technical users in the world of healthcare. Cloud remains a key foundational capability necessary to accelerate value generation on this journey. \\nMolina Healthcare, a FORTUNE 500 company, \\nprovides managed healthcare services under the Medicaid and Medicare programs and through the state insurance marketplace. Through locally operated health plans, Molina Healthcare serves approximately 5.1 million Americans.\\nFrom first starting their cloud journey to enable \\nexponential efficiencies, Molina Healthcare has long since evolved it to become a key driver of revenue for businesses through the creation of cognitive capabilities. That’s why, leveraging Infosys Cobalt\\nTM – \\ncloud services and solutions, for Molina Healthcare, has also meant creating a foundation with ready \\naccess for business users. Molina Healthcare is committed to providing a wide \\nrange of quality healthcare services to families and individuals who qualify for government-sponsored programs. Today, running business operations, including their mission critical systems, with data- and AI-powered capabilities on the cloud, has given Molina Healthcare a first-mover advantage that few others enjoy. Better business scalability and resilience have improved the experience for their members. Growth, for the business, is accelerated by adding more participants from new untapped states. Time to onboard these participants and costs to provide them care have significantly reduced, thereby boosting profitability.\\nBut perhaps, most significantly, this cloud-first \\njourney that Molina Healthcare is on has reinforced the company’s ability to realize its purpose – to improve the lives and well-being of its members, while making a positive impact in the communities they serve.MOLINA HEAL THCARE: MAXIMIZING VALUE FROM CLOUD \\nINVESTMENTS\\n‘’Growing our cloud capabilities has been integral to our digital \\ntransformation. We also know that continuing to strengthen these \\ncapabilities is the way for us to become an AI-first enterprise that will \\nenable to service our members seamlessly. Infosys is a trusted partner \\nfor us on this journey. ’’\\nAmir Desai \\nCIO, Molina Healthcare\\nInfosys Integrated Annual Report 2022-23 7'),\n",
       " Document(metadata={'source': '/nfs/kundeshwar/surajKuralGPT/infosys-ar-23.pdf', 'page': 4}, page_content='Infosys Integrated Annual Report 2022-238\\nACCELERATING THE AI-FIRST \\nJOURNEY FOR YOUR ENTERPRISEAs companies seek to extend market leadership, skills \\nfor their employees, especially in new technology \\ncapabilities like generative AI, IoT, cybersecurity and additive manufacturing, are becoming vital for long-term success. Building efficiencies into the learning path for organization-wide upskilling and reskilling is high on the list of focus areas for business leadership.\\nWith a rich history spanning over 175 years, Siemens \\nis a German multinational technology company and one of the largest engineering companies in the world. Staying ahead of the technology curve is critical for Siemens to retain its leadership. This makes rapid and effective upskilling of its large, diverse and geographically spread workforce imperative.\\nPartnering with Infosys and leveraging Infosys \\nWingspan, AI-first learning and talent transformation platform, Siemens has reimagined its approach to upskilling and learning. Infosys Wingspan draws on Infosys Topaz\\nTM to bring in robust AI, including \\ngenerative AI capabilities. With Infosys, Siemens’ enterprise learning has stepped firmly into the digital age – leading to the inception of My Learning World harnessing Infosys Wingspan. It is the single entry point into digital learning and the gateway to personal upskilling and reskilling at scale for Siemens employees, with AI to monitor and predict learning, simultaneously acting as the digital brain of\\xa0the\\xa0company.My Learning World is amplified with AI-powered algorithms that deliver a strong nudge framework to integrate learning actively into the performance culture of the organization. AI is also helping deeply personalize the upskilling journey for learners. The cognitive core of My Learning World also allows leaders to track the progress that learners make and continuously refocus efforts and content to deliver improved outcomes.\\nAs the exploration of generative AI tools for the \\nplatform intensifies, the promise to make the learning journey richer and more engaging is becoming real. Some key generative AI-driven features include automatic content generation, automatic creation of learning objectives and AI-powered learning assistants. Applying AI to the data from this platform gives Siemens key insights into the learning habits and skill trends, enhances search quality and learning experience. And the results are encouraging – My\\xa0Learning World is the fourth most used platform across Siemens, recording six million hours of learning in total in fiscal 2022.\\nThis AI-first journey to efficiently enhance their \\ndigital skill quotient is helping Siemens foster a culture of lifelong learning. It is enabling them to build a resilient workforce that can adapt to rapid technological changes in the industry.SIEMENS: BOOSTING THE EFFICIENCIES OF WORKFORCE \\nLEARNING\\n‘At Siemens, we want to support our people in staying relevant in \\na permanently changing environment by continuously evolving \\nfunctional and technical skills. Digitalization, with an AI-first approach, \\nis at the core of our strategy for the future. We are excited to have found \\nan effective partner in Infosys who can support us to bring greater \\nefficiencies to our employees’ learning and growth journey with My \\nLearning World. This is an important partnership for Siemens, and we \\nlook forward to continuing to build on these learning experiences for our employees. ”\\nDaniela Proust \\nSenior Vice President, Head of Global Learning and Growth at Siemens\\nInfosys Integrated Annual Report 2022-23 9'),\n",
       " Document(metadata={'source': '/nfs/kundeshwar/surajKuralGPT/infosys-ar-23.pdf', 'page': 5}, page_content='Infosys Integrated Annual Report 2022-2310\\nMAKING \\nBUSINESSES SMARTER\\nACCELERATING THE AI-FIRST \\nJOURNEY FOR YOUR ENTERPRISEDigitalization is both the force and the force \\nmultiplier for the engineering sector to navigate their next while planning, designing, managing, and engineering communities to thrive.\\nWSP is one of world’s leading engineering and \\nprofessional services firms, developing creative, comprehensive, and sustainable solutions for the future. Equipped with an intimate understanding of local intricacies, world-class talent and proactive leadership, the company plans, designs, and engineers solutions to uniquely complex problems.\\nTheir partnership with Infosys will be enabling WSP’s \\nenterprise-wide internal digital transformation across all core processes including project and portfolio management, sales, procurement, finance, and human capital management. The outcome WSP aspires to, is the creation of an agile, responsive, and unified organization that works synergistically across their various entities and markets. The goal is \\nto continue to improve win ratios, cash flows, drive \\nefficient project management, talent management, book closures and help onboard seamless integration of new entities. This will require undertaking large-scale business process transformation with underlying agile cloud-led technologies to equip various personas, including the project manager, with\\xa0better insights for informed decision making. \\nThe project commenced by implementing a global \\nblueprint to addresses challenges around unique industry-specific business processes, providing for a robust business architecture and delivering intuitive user experiences for all key stakeholders. Oracle ERP cloud was chosen as the underlying cloud platform with bolt-on extensions and intelligent automation to support insights-led business redesign. The solution drew support from a strong automation, and embedded analytics backbone to deliver a unified system with deep visibility and control. \\nWSP , in partnership with Infosys, has completed the \\nfirst deployment in Canada, one of the key regions. Plans are now afoot to implement in the US, UK and ultimately all global regions. This will enable WSP to continue to drive strong project management \\nwith trackable schedule and budget adherence, \\nstreamlined flow of talent, effective management of the sales pipeline, optimized pricing techniques along with excellent risk management and controls.\\nWSP: REDESIGNING BUSINESS OPERATIONS WITH INSIGHTS\\n“From improving planning, to impacting operational efficiency and \\npersonnel training, insights-driven digital transformation is key to our strategy to smoothly solve complex engineering challenges. This also offers a way to continuously improve and prepare for a wide range of business scenarios. We are glad to have Infosys partner with us in these endeavors. ’’\\nChadi Habib \\nChief Technology Officer and Head of Business Solutions, WSP\\nInfosys Integrated Annual Report 2022-23 11'),\n",
       " Document(metadata={'source': '/nfs/kundeshwar/surajKuralGPT/infosys-ar-23.pdf', 'page': 6}, page_content='Infosys Integrated Annual Report 2022-2312\\nACCELERATING THE AI-FIRST \\nJOURNEY FOR YOUR ENTERPRISEOrganizations in the insurance industry have recently \\nbeen severely targeted by threat actors due to the huge volume of personally identifiable information and sensitive customer financial data. To date, more than 100 million users have had their personally identifiable information compromised in this sector, making cybersecurity an utmost priority.\\nMS Amlin is a leading insurer and reinsurer and is part \\nof the global top-10 insurance group MS&AD, with three main legal entities’ operating in the Lloyd’s, UK, Continental European and Bermudian markets. With a 300-year record, MS Amlin delivers quality service for businesses facing the most complex and demanding risks. Their areas of operation are mostly property & casualty, marine and reinsurance markets.\\nMS Amlin has chosen Infosys as their cybersecurity \\nservice provider to ensure comprehensive security services powered by cognitive next-gen security\\xa0operations.\\nInfosys offers enterprise-wide security controls \\nto secure MS Amlin’s IT estate, including identity protection, network security, workplace and workload security, vulnerability management and governance, along with risk and compliance management. The platform-centric approach for security tools and controls are embedded with cognitive AI-modeled use cases and playbooks for advanced threat detection and response.\\nIdentity is now a crucial aspect of cybersecurity; \\nif compromised, it can trigger many lethal server attacks. Infosys has, for MS Amlin, mitigated the risk of identify management by implementing SSO – single sign-on and reconciliation of privileged accounts. Infosys has also helped implement multi-factor authentication and privilege access management with industry-leading and best-of-breed products and solutions.\\nNetwork detection and response has also been \\noperationalized for MS Amlin to get deep and detailed insights on the anomalies in their environment.\\xa0\\nWorking in collaboration with MS Amlin, Infosys has \\nbeen able to protect the business from evolving threats and elevate their security posture. MS AMLIN: INSIGHTS TO NAVIGATE FROM RISK MANAGEMENT \\nTO STRATEGIC RESILIENCE\\n“Modern enterprises, with their digital footprint growing beyond \\ntraditional perimeters, are becoming soft targets for cybersecurity \\nattacks. To be risk-resilient, enterprises must embed security by \\ndesign and embrace next-gen cognitive threat management \\nsolutions. MS Amlin and Infosys Cybersecurity are working \\ncollaboratively to establish next-gen security operations for \\nthreat monitoring and incident response orchestration based on \\nAI hypothesis. ”\\nAndy Hodgson \\nCISO, MS Amlin\\nInfosys Integrated Annual Report 2022-23 13\\n'),\n",
       " Document(metadata={'source': '/nfs/kundeshwar/surajKuralGPT/infosys-ar-23.pdf', 'page': 7}, page_content='Infosys Integrated Annual Report 2022-23 Infosys Integrated Annual Report 2022-2314 15\\nContents\\nFor an interactive digital experience of the report, visit:  \\nhttps://www.infosys.com/content/dam/infosys-web/en/investors/reports-filings/\\nannual-report/annual/documents/integrated-annual-report2022-23/index.html16 About this report\\nCorporate overview\\n18 About Infosys\\n19 Global presence\\n20 The Infosys Board of Directors\\n26 The Infosys leadership team\\nPerformance overview\\n28 \\n30 \\n32 \\n34 Business highlights  \\nChairman ’\\ns message \\nLetter to the Shareholder\\n \\nAwards and recognitions\\nApproaching value creation\\n38 Our business context\\n40 Strategy\\n42 Value creation model\\nDelivering value\\n44 Financial Capital\\n46 Human Capital\\n48 Intellectual Capital\\n50 Natural Capital\\n52 Manufactured Capital\\n54 Social and Relationship Capital \\nStatutory reports\\n58 Board’s report\\n70 Annexures to the Board’s report\\n100  Management’s discussion and analysis\\n117  Corporate governance report\\n155  Investor contacts\\n157  Risk management report\\n161  Business Responsibility and Sustainabilit y Report\\n205  CEO and CFO certifica tion\\nFinancial statements\\n206  Standalone\\n290  Consolidated'),\n",
       " Document(metadata={'source': '/nfs/kundeshwar/surajKuralGPT/infosys-ar-23.pdf', 'page': 8}, page_content='Infosys Integrated Annual Report 2022-23 Infosys Integrated Annual Report 2022-2316 17About this report\\nInfosys adopted the Global Reporting Initiative (GRI) \\nprinciples to disclose performance on non-financial aspects of the business 15 years ago and became the first IT company to publish sustainability performance in accordance with the GRI G4 (comprehensive) criteria in\\xa02014. \\nThis is the second Integrated Annual Report of Infosys \\nLimited. Our Integrated Annual Report provides a comprehensive overview of our company’s performance and progress over the past year. It includes quantitative and qualitative disclosures on material topics, such as financial performance, environmental sustainability, social responsibility, and our relationship with our stakeholders. It also describes our strategy, leadership commitment and culture that celebrates people, performance and purpose. \\nThe Infosys Integrated Annual Report 2022-23 has been \\nprepared in accordance with the International Integrated Reporting Framework, developed by the International Integrated Reporting Council (IIRC), the GRI Standard and SASB Standard. This report also includes the Business Responsibility and Sustainability Report (BRSR), prepared in accordance with the guidelines issued by the Securities and Exchange Board of India (SEBI). We have also mapped our contribution to the Sustainable Development Goals (SDGs) through the Infosys ESG Vision and ambitions. \\nThe financial and statutory data disclosed in the \\nstatutory sections of this report meet the requirements of the Companies Act, 2013 (including the rules made thereunder) and applicable SEBI Regulations.An introduction to the report\\nAuditors’ reports\\nThe Auditors’ Report for fiscal 2023 from Deloitte Haskins & Sells LLP , Chartered Accountants (ICAI Firm Registration Number 117366W/ W-100018) does not contain any qualification, reservation or adverse remark. The Report is enclosed with the financial statements in this Integrated Annual Report. \\nThe Secretarial Auditors’ Report for fiscal 2023 from \\nMakarand M. Joshi of Makarand M. Joshi & Co., Company Secretaries, does not contain any qualification, reservation or adverse remark. The Secretarial Auditors’ Report is enclosed as Annexure 5 to the Board’s report. \\nIndependent assurance \\nSelect non-financial sustainability disclosures in this Integrated Annual Report are verified by KPMG Assurance and Consulting Services LLP . The Independent Assurance Statement for our BRSR disclosures is available as part of this Integrated Annual Report.\\nManagement’s review\\nThis Integrated Annual Report has been reviewed and approved, for publication, by the Management of the Company.\\nFeedback\\nShare your feedback about the report to  investors@infosys.comOur capitals\\nFinancial Capital \\nWe obtain our Financial Capital through \\nthe funds generated from our business operations and financing activities. Our strong performance on the back of meticulous execution over the years, as reflected in the combination of high growth and profitability, has led to building a strong, debt-free, and liquid Balance Sheet. Our focus is on \\nensuring a sustainable and profitable \\nfinancial\\xa0position.Intellectual Capital \\nOur Intellectual Capital is driven by \\nagility, flexibility, and innovation. \\nWe are committed to working \\nwith experts, academia, and other \\nstakeholders to develop new products and services that meet the needs \\nof our customers and communities. \\nWith iCETS, the Living Labs, and the \\nInfosys Innovation Network, we have \\na broad portfolio of solutions across \\nindustry segments. The Infosys Prize \\nand Aarohan Social Innovation awards \\nrecognize outstanding achievements \\nby researchers and scholars and provide \\na platform for innovators and social \\nentrepreneurs, respectively. \\nManufactured Capital\\nAs strong advocates of environmental \\nstewardship extending beyond our boundaries, our Manufactured Capital includes our energy efficient offices, data centers, innovation hubs, digital studios, and our technology infrastructure across the globe. With the highest-rated green buildings on our campuses and investments in collaborative tech infrastructure, we offer productive, safe and healthy workplaces for employees, clients and contractors.Social and Relationship Capital\\nOur Social and Relationship Capital guides us as we bring the interests of our stakeholders to the fore. As enterprises focus on reshaping their businesses to prepare for the digital era, we are helping our clients drive transformation and sustain gain from their large-scale business transformation efforts. Our Foundations focus on CSR efforts globally across the domains of education, healthcare, women empowerment, sustainability, rural development, art and culture, and disaster relief. Our social ambition focuses on serving the development of people by shaping a future with meaningful opportunities for all. Human Capital\\nNurturing talent for the future is essential for our continued success. Our 5C model for Engagement – Connect, Collaborate, Celebrate, Care, and Culture, is designed to strengthen and reinforce our culture so that it is experienced uniformly and positively by employees – remote or in office. We have long-established paths for employee upskilling and reskilling, and our efforts have been well rewarded, providing value to our people and us. \\nNatural Capital\\nClimate action has been a key focus area for our Natural Capital. We have been at the forefront of the ESG movement and became carbon-neutral in 2020 – 30 years ahead of the timeline set by the Paris Agreement. Today, we incorporate environmental considerations into everything that we do, as we power the journey towards a sustainable world for all.The capitals, as described below, provide a holistic\\xa0perspective of how short, medium and long-term value\\xa0is created and preserved at Infosys. The capitals are simultaneously inter-dependent and mutually beneficial as they create synergy across the organization. Our strategy and ESG framework\\xa0 help to channel all inputs through the capitals to manifest into the most impactful outputs and outcomes for all stakeholders.'),\n",
       " Document(metadata={'source': '/nfs/kundeshwar/surajKuralGPT/infosys-ar-23.pdf', 'page': 9}, page_content='Infosys Integrated Annual Report 2022-23 Infosys Integrated Annual Report 2022-2318 19About InfosysCorporate overview\\nInfosys is a global leader in next-\\ngeneration digital services and consulting. We enable clients in more than 56 countries to navigate their digital transformation. \\nWith over four decades of experience \\nin managing the systems and workings of global enterprises, we expertly steer clients, as they navigate their digital transformation powered by the cloud. We enable them with an AI-powered core, empower the business with agile digital at scale and drive continuous improvement with always-on learning through the transfer of digital skills, expertise, and ideas from our innovation ecosystem. We are deeply committed to being a well-governed, environmentally sustainable organization where diverse talent thrives in an inclusive workplace. \\nEstablished in 1981, from a capital of \\nUS$250, we have grown to become a company with a market capitalization of approximately US$72.35 billion.\\nIn our journey of over 40 years, we \\nhave catalyzed India’s transformation into the global destination for software services talent. We \\n3,43,234\\nEmployees\\n1,872\\nActive clients \\n`1,46,767 cr \\nTotal revenues in fiscal 2023pioneered the Global Delivery Model \\nand became the first IT company from India to be listed on NASDAQ. \\nEven as Infosys first turned carbon \\nneutral in 2020 – 30 years ahead of the 2050 timeline set by the Paris Agreement, we articulated our ESG Vision 2030, stating our commitment to shape and share solutions that serve the development of businesses and communities. This reaffirms our long-standing commitments focused across core areas including climate change, technology for good, diversity and inclusion, energizing local communities, ethics and transparency, data privacy and information management.Our Values \\nOur Company’s Code of Conduct \\nstands on the strong foundation set by our values, encapsulated in the acronym C-LIFE. \\nClient value\\nTo surpass client expectations consistently\\nLeadership by example\\nTo set standards in our business and transactions and be an exemplar for the industry and ourselves\\nIntegrity and transparency \\nTo be ethical, sincere and open in all our transactions \\nFairness\\nTo be objective and transaction-oriented, and thereby earn trust and respect\\nExcellence\\nTo strive relentlessly, constantly improve ourselves, our teams, our services and products to become the bestOur Purpose \\nTo amplify human potential and create the next opportunity for people, businesses and communities\\nRevenue by geography\\nRegions 2022-23\\nNorth America 61.8%\\nEurope 25.7%\\nRest of the World 9.9%\\nIndia 2.6%274\\nNo. of offices\\n56\\nNo. of countriesFor details of our global locations, visit\\xa0  \\nhttps://www.infosys.com/investors/reports-filings/documents/global-presence2023.pdfGlobal presence*Corporate overview\\nInfosys began its operations in a small apartment office in Pune, India, in 1981. Today, we have offices across six continents.\\nArgentina BrazilUSA\\nCosta RicaCanada\\nChilePeruMexico \\nPuerto Rico\\nAustralia \\nNew ZealandChina\\nSaudi ArabiaUAEQatarTurkey\\nIsrael\\nIndia\\nSouth AfricaMauritius Armenia\\nBulgariaBelgium\\nLuxembourgIrelandUKNetherlands\\nGermany\\nFrance\\nSpainPortugal \\nLiechtenstein\\nHungary\\nSlovakia\\nSwitzerland\\nSerbiaItalyMaltaDenmark Finland\\nSweden\\nHong Kong Taiwan \\nPhilippines\\nMalaysiaSingapore Japan\\nSouth Korea AustriaCzech Republic\\nPoland LithuaniaLatvia\\nCroatia\\nRomaniaNorway\\nCountries where we operate\\n*as of May 29, 2023'),\n",
       " Document(metadata={'source': '/nfs/kundeshwar/surajKuralGPT/infosys-ar-23.pdf', 'page': 10}, page_content='Infosys Integrated Annual Report 2022-23 Infosys Integrated Annual Report 2022-2320 21The Infosys Board of DirectorsCorporate overview\\nNandan M. Nilekani\\nChairmanSalil Parekh\\nChief Executive Officer and Managing Director\\nChairperson\\nMemberD. Sundaram\\nLead Independent Director\\nNomination and Remuneration Committee\\nRisk Management Committee\\nAudit Committee\\nStakeholders Relationship CommitteeCybersecurity Risk Sub-committee\\nMichael Gibbs\\nIndependent Director\\nChairperson\\nMemberStakeholders Relationship Committee\\nCybersecurity Risk Sub-committee\\nAudit Committee\\nNomination and Remuneration Committee\\nRisk Management Committee\\nBobby Parikh\\nIndependent Director\\nMember\\nRisk Management Committee\\nStakeholders Relationship Committee\\nUri Levine\\nIndependent Director*\\nMember\\nCorporate Social Responsibility CommitteeEnvironmental, Social and Governance CommitteeRisk Management CommitteeCybersecurity Risk Sub-committee\\n* Retired on April 19, 2023\\nChitra Nayak\\nIndependent Director\\nMember\\nCorporate Social Responsibility CommitteeRisk Management CommitteeStakeholders Relationship CommitteeNote: The Board and Committee composition is as of March 31, 2023.\\nGovind Iyer\\nIndependent Director\\nChairperson\\nMemberCorporate Social Responsibility Committee\\nChairperson Chairperson\\nAudit Committee Environmental, Social and Governance Committee\\nNomination and Remuneration Committee\\nEnvironmental, Social and Governance CommitteeRisk Management CommitteeCybersecurity Risk Sub-committee'),\n",
       " Document(metadata={'source': '/nfs/kundeshwar/surajKuralGPT/infosys-ar-23.pdf', 'page': 11}, page_content='Infosys Integrated Annual Report 2022-23 Infosys Integrated Annual Report 2022-2322 23The Infosys Board of Directors\\nSalil Parekh\\nChief Executive Officer and \\nManaging Director\\nAge: 58\\nNationality: IndianCommittee details (1)(2)\\nCommittee details (1)(2)Tenure on Board\\nTenure on BoardShareholding\\nShareholdingBoard memberships – Indian listed companies\\nBoard memberships – Indian listed companies Date of appointmentDate of appointment\\nDate of reappointmentTerm ending date\\nTerm ending dateAreas of expertise\\nAreas of expertiseMember: NilChairperson: Nil\\nMember: Nil\\nChairperson: Nil5.6 years\\n5.2 years4,07,83,162 shares (0.98%)\\n7,86,658 shares (0.02%)Infosys Limited: Non-Executive and  \\nNon-Independent Director\\nInfosys Limited: Executive Director January 02, 2018August 24, 2017\\nJuly 01, 2022NA\\nMarch 31, 2027• Financial\\n• Diversity\\n• Global business\\n• Leadership\\n• Information Technology\\n• Cybersecurity\\n• Board service & governance\\n• Sales & marketing\\n• Sustainability & ESG\\n• Risk management\\n• Mergers & Acquisitions\\n• Financial\\n• Diversity\\n• Global business\\n• Leadership\\n• Information Technology\\n• Cybersecurity\\n• Board service & governance\\n• Sales & marketing\\n• Sustainability & ESG\\n• Risk management\\n• Mergers & AcquisitionsRead full profile at: https://www.infosys.com/about/management-profiles/nandan-nilekani.html\\nRead full profile at: https://www.infosys.com/about/management-profiles/salil-parekh.html\\nNandan M. Nilekani\\nChairman and Non-Executive and  \\nNon-Independent Director (Promoter)\\nAge: 67\\nNationality: Indian\\n1. In the committee details provided, every chairpersonship is also considered as a membership.\\n2. For the purposes of determination of committee details as per Regulation 26 of SEBI (Listing Obligations and Disclosure Requirements) Regulations, 2015  \\n(“Listing Regulations”), membership and chairpersonship of only the audit committee and the stakeholders relationship committee across all public companies are \\nconsidered.\\n3. Details are as of March 31, 2023.1. In the committee details provided, every chairpersonship is also considered as a membership.\\n2. For the purposes of determination of committee details as per Regulation 26 of SEBI (Listing Obligations and Disclosure Requirements) Regulations, 2015  \\n(“Listing Regulations”), membership and chairpersonship of only the audit committee and the stakeholders relationship committee across all public companies are considered.\\n3. Details are as of March 31, 2023.D. Sundaram\\nLead Independent Director\\nAge: 70\\nNationality: Indian\\nCommittee details (1)(2)Tenure on Board\\nShareholdingBoard memberships – Indian listed companies\\nDate of reappointmentDate of appointment\\nTerm ending dateAreas of expertise\\nMember: 5Chairperson: 25.7 years\\nNilInfosys Limited: Independent Director\\nCrompton Greaves Consumer Electricals Limited: Independent Director\\nGlaxoSmithKline Pharmaceuticals Limited: \\nIndependent DirectorJuly 14, 2022July 14, 2017\\nJuly 13, 2027• Financial\\n• Diversity\\n• Global business\\n• Leadership\\n• Information Technology\\n• Cybersecurity\\n• Board service & governance\\n• Sustainability & ESG\\n• Risk management\\n• Mergers & Acquisitions\\nRead full profile at: https://www.infosys.com/about/management-profiles/d-sundaram.html\\nMichael Gibbs\\nIndependent Director\\nAge: 65\\nNationality: American\\nCommittee details (1)(2)\\nTenure on Board\\nShareholdingBoard memberships – Indian listed \\ncompaniesDate of appointment\\nDate of reappointment\\nTerm ending dateAreas of expertise\\nMember: 2Chairperson: 14.7 years\\nNilInfosys Limited: Independent DirectorJuly 13, 2018\\nJuly 13, 2021\\nJuly 12, 2026• Financial\\n• Diversity\\n• Global business\\n• Leadership\\n• Information Technology\\n• Cybersecurity\\n• Board service & governance\\n• Sales & marketing\\n• Sustainability & ESG\\n• Risk management\\n• Mergers & Acquisitions\\nRead full profile at: https://www.infosys.com/about/management-profiles/michael-gibbs.html\\n'),\n",
       " Document(metadata={'source': '/nfs/kundeshwar/surajKuralGPT/infosys-ar-23.pdf', 'page': 12}, page_content='Infosys Integrated Annual Report 2022-23 Infosys Integrated Annual Report 2022-2324 25The Infosys Board of Directors\\nChitra Nayak\\nIndependent Director\\nAge: 60\\nNationality: American\\nTenure on Board\\nShareholdingDate of appointment\\nTerm ending dateAreas of expertise\\n2 years\\nNilMarch 25, 2021\\nMarch 24, 2024• Diversity\\n• Global business\\n• Leadership\\n• Information Technology\\n• Cybersecurity\\n• Board service & governance\\n• Sales & marketing\\n• Sustainability & ESG\\n• Risk management\\n• Mergers & Acquisitions\\nRead full profile at: https://www.infosys.com/about/management-profiles/chitra-nayak.html Read full profile at: https://www.infosys.com/campaigns/profile-uri-levine.html\\nCommittee details (1)(2)Board memberships – Indian listed companies\\nMember: 1\\nChairperson: NilInfosys Limited: Independent DirectorBobby Parikh\\nIndependent Director\\nAge: 59\\nNationality: Indian\\nTenure on Board\\nShareholdingDate of appointment\\nTerm ending dateAreas of expertise\\n2.7 years\\n6,887 shares (0.00%)July 15, 2020\\nJuly 14, 2023• Financial\\n• Diversity\\n• Global business\\n• Leadership\\n• Information Technology\\n• Board service & governance\\n• Sales & marketing\\n• Sustainability & ESG\\n• Risk management\\n• Mergers & Acquisitions\\nRead full profile at: https://www.infosys.com/about/management-profiles/bobby-parikh.html\\nCommittee details (1)(2)Board memberships – Indian listed companies\\nMember: 7\\nChairperson: 4Infosys Limited: Independent Director\\nBiocon Limited: Independent DirectorIndostar Capital Finance Limited: Independent \\nDirector\\nCommittee details (1)(2)Tenure on Board\\nShareholdingBoard memberships – Indian listed companies Date of appointment\\nTerm ending dateAreas of expertise\\nMember: NilChairperson: Nil2.9 years\\nNilInfosys Limited: Independent Director April 20, 2020April 19, 2023• Diversity\\n• Global business\\n• Leadership\\n• Information Technology\\n• Cybersecurity\\n• Board service & governance\\n• Sales & marketing\\n• Sustainability & ESG\\n• Risk management\\n• Mergers & AcquisitionsUri Levine\\nIndependent Director\\nAge: 58\\nNationality: Israeli\\nGovind Iyer\\nIndependent Director\\nAge: 60\\nNationality: Indian\\nCommittee details (1)(2)Tenure on Board\\nShareholdingBoard memberships – Indian listed companies Date of appointment\\nTerm ending dateAreas of expertise\\nMember: NilChairperson: Nil0.2 years\\n991 shares (0.00%)Infosys Limited: Independent Director January 12, 2023\\nJanuary 11, 2028• Diversity\\n• Global business\\n• Leadership\\n• Cybersecurity\\n• Board service & governance\\n• Sales & marketing\\n• Sustainability & ESG\\n• Risk management\\nRead full profile at: https://www.infosys.com/about/management-profiles/govind-iyer.html\\n1. In the committee details provided, every chairpersonship is also considered as a membership.\\n2. For the purposes of determination of committee details as per Regulation 26 of SEBI (Listing Obligations and Disclosure Requirements) Regulations, 2015  \\n(“Listing Regulations”), membership and chairpersonship of only the audit committee and the stakeholders relationship committee across all public companies are \\nconsidered.\\n3. Details are as of March 31, 2023.1. In the committee details provided, every chairpersonship is also considered as a membership.\\n2. For the purposes of determination of committee details as per Regulation 26 of SEBI (Listing Obligations and Disclosure Requirements) Regulations, 2015  \\n(“Listing Regulations”), membership and chairpersonship of only the audit committee and the stakeholders relationship committee across all public companies are considered.\\n3. Details are as of March 31, 2023.'),\n",
       " Document(metadata={'source': '/nfs/kundeshwar/surajKuralGPT/infosys-ar-23.pdf', 'page': 13}, page_content='Infosys Integrated Annual Report 2022-23 Infosys Integrated Annual Report 2022-2326 27The Infosys leadership team*Corporate overview\\nSalil Parekh\\nChief Executive Officer and Managing \\nDirectorNilanjan Roy\\nChief Financial Officer\\nAnand Swaminathan\\nSegment Head – Communication, Media and TechnologyAnant Raghavendra Adya\\nGroup Practice Engagement Manager – Cloud Services\\nAshiss Kumar Dash\\nSegment Head – Energy, Utilities, Resources and Services\\nDinesh R.\\nCo-Head of Delivery, InfosysAndrew Groth\\nIndustry Head – Financial Services, Healthcare, Insurance and \\nLife\\xa0Sciences\\nBalakrishna D.R.\\nService Offering Head – Energy, \\nUtilities, Communications, Resources \\n& Services, AI and Automation\\nHemant Lamba\\nHead – Strategic Global SourcingAnup Kapoor\\nGlobal Head Operations – IBPM\\nDeepak Bhalla\\nChief Risk Officer & Global Head – \\nBusiness Finance and Operations \\nPlanning\\nInderpreet Sawhney\\nGroup General Counsel and  \\nChief Compliance OfficerArun Kumar H.R.\\nHead – Business Strategy, Planning and Operations\\nDennis Kantilal Gada\\nIndustry Head, Financial Services\\nJasmeet Singh\\nSegment Head – ManufacturingJayesh Sanghrajka\\nDeputy Chief Financial OfficerKarmesh Gul Vaswani\\nSegment Head – CPG, Logistics  & Retail\\nMohammed Rafee Tarafdar\\nChief Technology Officer,  \\nGlobal Delivery\\nRajesh Varrier\\nService Offering Head and Head – Americas Operations\\nShaji Mathew\\nGroup Head – Human ResourcesUmashankar Lakshmipathy\\nGroup Practice Engagement Manager, Cloud and Infrastructure \\nServicesNarsimha Rao Mannepalli\\nCo-Head of Delivery, Infosys\\nRichard Lobo\\nHead, HR – Infosys LimitedRuchir Budhwar\\nIndustry Head, Manufacturing\\nSumit Virmani\\nChief Marketing OfficerSatish H.C.\\nCo-Head of Delivery, InfosysMartha King\\nChief Client Officer\\nSunil Kumar Dhareshwar\\nGlobal Head – Corporate Accounting \\n& Taxation and Group Head – \\nFacilities, Infrastructure and SecurityRajeev Ranjan\\nService Offering Head – \\nManufacturing, India & Japan \\nBusiness Units\\nAnantharaman Radhakrishnan\\nChief Executive Officer &  \\nManaging Director – IBPM\\n*List as of May 29, 2023')]"
      ]
     },
     "execution_count": 8,
     "metadata": {},
     "output_type": "execute_result"
    }
   ],
   "source": [
    "pages"
   ]
  },
  {
   "cell_type": "code",
   "execution_count": 5,
   "metadata": {},
   "outputs": [],
   "source": [
    "\n",
    "llmRoute= ChatOllama(model='llama3:70b',temperature=0)"
   ]
  },
  {
   "cell_type": "code",
   "execution_count": 6,
   "metadata": {},
   "outputs": [],
   "source": [
    "question=f\"Look at these pages and check for the Contents Section and output the start and end page number for the financial statements. Here are the pages{page}\"\n",
    "response=llmRoute.invoke(question)"
   ]
  },
  {
   "cell_type": "code",
   "execution_count": 7,
   "metadata": {},
   "outputs": [
    {
     "data": {
      "text/plain": [
       "AIMessage(content='After reviewing the provided pages, I found that there is no explicit \"Contents Section\" that lists the financial statements with their corresponding page numbers. However, I can help you identify the start and end page numbers for the financial statements based on the content.\\n\\nThe financial statements appear to start from page 15 (not provided in the given pages) and likely continue until around page 200-220 (a typical range for an annual report). Since the exact page numbers are not available, I\\'ll provide a rough estimate based on the content:\\n\\n* Start page: 15 (approximate)\\n* End page: 220 (approximate)\\n\\nPlease note that these page numbers are estimates and may vary depending on the actual document. If you have access to the complete annual report, you can verify the exact page numbers for the financial statements.', additional_kwargs={}, response_metadata={'model': 'llama3:70b', 'created_at': '2024-10-21T17:38:56.601159001Z', 'message': {'role': 'assistant', 'content': ''}, 'done_reason': 'stop', 'done': True, 'total_duration': 19574871604, 'load_duration': 8318910872, 'prompt_eval_count': 924, 'prompt_eval_duration': 839520000, 'eval_count': 167, 'eval_duration': 10374011000}, id='run-329bbda6-0b3b-4d24-b9b5-a6c0b17223d1-0', usage_metadata={'input_tokens': 924, 'output_tokens': 167, 'total_tokens': 1091})"
      ]
     },
     "execution_count": 7,
     "metadata": {},
     "output_type": "execute_result"
    }
   ],
   "source": [
    "response"
   ]
  },
  {
   "cell_type": "code",
   "execution_count": null,
   "metadata": {},
   "outputs": [],
   "source": []
  },
  {
   "cell_type": "markdown",
   "metadata": {},
   "source": [
    "## LLM"
   ]
  },
  {
   "cell_type": "markdown",
   "metadata": {},
   "source": [
    "#### Question Router"
   ]
  },
  {
   "cell_type": "code",
   "execution_count": 10,
   "metadata": {},
   "outputs": [],
   "source": [
    "### Router\n",
    "\n",
    "from langchain_cohere import ChatCohere\n",
    "from langchain_core.prompts import ChatPromptTemplate\n",
    "from langchain_core.pydantic_v1 import BaseModel, Field\n",
    "\n",
    "\n",
    "# Data model\n",
    "class web_search(BaseModel):\n",
    "    \"\"\"\n",
    "    The internet. Use web_search for questions that are related to anything else than agents, prompt engineering, and adversarial attacks.\n",
    "    \"\"\"\n",
    "\n",
    "    query: str = Field(description=\"The query to use when searching the internet.\")\n",
    "\n",
    "\n",
    "class vectorstore(BaseModel):\n",
    "    \"\"\"\n",
    "    A vectorstore containing documents related to Thirukural Spirituality. It talks about love,affection and detachement. Use the vectorstore for questions on these topics.\n",
    "    \"\"\"\n",
    "\n",
    "    query: str = Field(description=\"The query to use when searching the vectorstore.\")\n",
    "\n",
    "\n",
    "\n",
    "# Preamble\n",
    "preambleRoute = \"\"\"You are an expert at routing a user question to a vectorstore or web search.\n",
    "The vectorstore contains documents of translation of Kural to English Translation and talks about  Love,Affection and Detachement. It talks about love,affection and detachement.\n",
    "Use the vectorstore for questions on these topics. Otherwise, use web-search.\"\"\"\n",
    "\n",
    "\n",
    "\n",
    "\n",
    "# LLM with tool use and preamble\n",
    "llmRoute= ChatOllama(model='llama3:70b',temperature=0)\n",
    "\n",
    "# structured_llm_routerRoute = llmRoute.bind_tools(\n",
    "#     tools=[vectorstore]\n",
    "# )\n",
    "\n",
    "\n",
    "\n",
    "# Prompt\n",
    "route_prompt = ChatPromptTemplate.from_messages(\n",
    "    [\n",
    "        (\"human\", \"{question}\"),\n",
    "    ]\n",
    ")\n",
    "\n",
    "\n",
    "\n",
    "\n",
    "# question_router = route_prompt | structured_llm_routerRoute\n",
    "\n",
    "# response=question_router.invoke(\n",
    "#     {\"question\":\"What are Cash Flow Hedges of the boeing company?\"}\n",
    "# )"
   ]
  },
  {
   "cell_type": "code",
   "execution_count": 11,
   "metadata": {},
   "outputs": [
    {
     "data": {
      "text/plain": [
       "[Document(metadata={'page': 2, 'source': '/nfs/kundeshwar/surajKuralGPT/fd2a8c99-afc6-4472-ae18-4f1ee024a274.pdf'}, page_content='Table of Contents\\nPart I. Financial Information\\nItem 1. Financial Statements\\nThe Boeing Company and Subsidiaries\\nCondensed Consolidated Statements of Operations\\n(Unaudited)\\n(Dollars in millions, except per share data)Nine months ended\\nSeptember 30Three months ended\\nSeptember 30\\n2023 2022 2023 2022\\nSales of products $46,661 $38,767 $15,060 $13,331 \\nSales of services 9,115 7,861 3,044 2,625 \\nTotal revenues 55,776 46,628 18,104 15,956 \\nCost of products (43,140) (38,237) (14,464) (14,541)\\nCost of services (7,609) (6,725) (2,475) (2,230)\\nTotal costs and expenses (50,749) (44,962) (16,939) (16,771)\\n5,027 1,666 1,165 (815)\\nIncome/(loss) from operating investments, net 45 (27) 28 (24)\\nGeneral and administrative expense (3,633) (2,757) (1,043) (1,226)\\nResearch and development expense, net (2,496) (2,058) (958) (727)\\nGain on dispositions, net 1 2  \\nLoss from operations (1,056) (3,174) (808) (2,792)\\nOther income, net 919 722 297 288 \\nInterest and debt expense (1,859) (1,921) (589) (628)\\nLoss before income taxes (1,996) (4,373) (1,100) (3,132)\\nIncome tax expense (216) (17) (538) (176)\\nNet loss (2,212) (4,390) (1,638) (3,308)\\nLess: net loss attributable to noncontrolling interest (13) (89) (2) (33)\\nNet loss attributable to Boeing Shareholders ($2,199) ($4,301) ($1,636) ($3,275)\\nBasic loss per share ($3.64) ($7.24) ($2.70) ($5.49)'),\n",
       " Document(metadata={'page': 27, 'source': '/nfs/kundeshwar/surajKuralGPT/fd2a8c99-afc6-4472-ae18-4f1ee024a274.pdf'}, page_content=\"Table of Contents\\nBGS provides parts, maintenance, modifications, logistics support, training, data analytics and information-based services to commercial and\\ngovernment customers worldwide. BGS segment revenue and costs include certain products and services provided to other segments. Revenue\\non commercial spare parts contracts is recognized at the point in time when a spare part is delivered to the customer. Revenue on other\\ncontracts is generally recognized over the contract term (over time) as costs are incurred.\\nThe following tables present BCA, BDS and BGS revenues from contracts with customers disaggregated in a number of ways, such as\\ngeographic location, contract type and the method of revenue recognition. We believe these best depict how the nature, amount, timing and\\nuncertainty of our revenues and cash flows are affected by economic factors.\\nBCA revenues by customer location consisted of the following:\\n(Dollars in millions) Nine months ended September 30Three months ended September\\n30\\n2023 2022 2023 2022\\nRevenue from contracts with customers:\\nEurope $4,443 $2,869 $1,050 $615 \\nLatin America and Caribbean 629 1,586 425 450 \\nAsia 3,978 3,318 1,623 1,291 \\nMiddle East 2,723 1,297 1,257 209 \\nOther non-U.S. 1,090 918 212 350 \\nTotal non-U.S. revenues 12,863 9,988 4,567 2,915 \\nUnited States 10,435 6,680 3,260 3,317 \\nEstimated potential concessions and other considerations to 737\\nMAX customers, net 54 16 28 33 \\nTotal revenues from contracts with customers 23,352 16,684 7,855 6,265 \\nIntersegment revenues eliminated on consolidation 68 71 21 38 \\nTotal segment revenues $23,420 $16,755 $7,876 $6,303 \\nRevenue recognized on fixed-price contracts 100 % 100 % 100 % 100 %\\nRevenue recognized at a point in time 99 % 99 % 99 % 99 %\\nBDS revenues on contracts with customers, based on the customer's location, consisted of the following:\\n(Dollars in millions) Nine months ended September 30Three months ended September\\n30\\n2023 2022 2023 2022\\nRevenue from contracts with customers:\"),\n",
       " Document(metadata={'page': 45, 'source': '/nfs/kundeshwar/surajKuralGPT/fd2a8c99-afc6-4472-ae18-4f1ee024a274.pdf'}, page_content='Table of Contents\\nreflecting continued labor instability, development technical challenges and supply chain disruption. During the three months ended September\\n30, 2023, we recorded earnings charges of $315 million resulting from a customer agreement. The charge includes estimated customer\\nconsiderations as well as increased costs to enhance the constellation and meet lifecycle commitments.\\nSee further discussion of fixed-price contracts in Note 9 to our Condensed Consolidated Financial Statements.\\nBDS loss from operations includes our share of earnings from equity method investments of $34 million and $24 million for the nine and three\\nmonths ended September 30, 2023 compared with equity earnings of $2 million for the nine months ended September 30, 2022 and equity loss\\nof $38 million for the three months ended September 30, 2022.\\nBacklog\\nBDS backlog increased from $54,373 million as of December 31, 2022 to $57,802 million at September 30, 2023, primarily due to the timing of\\nawards, partially offset by revenue recognized on contracts awarded in prior periods.\\nAdditional Considerations\\nOur BDS business includes a variety of development programs which have complex design and technical challenges. Some of these programs\\nhave cost-type contracting arrangements. In these cases, the associated financial risks are primarily reduced award or incentive fees, lower\\nprofit rates or program cancellation if cost, schedule or technical performance issues arise. Examples of these programs include Ground-based\\nMidcourse Defense, Proprietary and Space Launch System programs.\\nSome of our development programs are contracted on a fixed-price basis. Examples of significant fixed-price development programs include\\nCommercial Crew, KC-46A Tanker, MQ-25, T-7A Red Hawk, VC-25B, and commercial and military satellites. A number of our ongoing fixed-price\\ndevelopment programs have reach-forward losses. New programs could also have risk for reach-forward loss upon contract award and during\\nthe period of contract performance. Many development programs have highly complex designs. As technical or quality issues arise during\\ndevelopment, we may experience schedule delays and cost impacts, which could increase our estimated cost to perform the work or reduce our\\nestimated price, either of which could result in a material charge or otherwise adversely affect our financial condition. These programs are\\nongoing, and while we believe the cost and fee estimates incorporated in the financial statements are appropriate, the technical complexity of\\nthese programs creates financial risk as additional completion costs may become necessary or scheduled delivery dates could be extended,'),\n",
       " Document(metadata={'page': 12, 'source': '/nfs/kundeshwar/surajKuralGPT/fd2a8c99-afc6-4472-ae18-4f1ee024a274.pdf'}, page_content='Table of Contents\\nAt September 30, 2023 and December 31, 2022, commercial aircraft programs inventory included the following amounts related to the 737\\nprogram: deferred production costs of $5,359 and $2,955 and unamortized tooling and other non-recurring costs of $574 and $626. At\\nSeptember 30, 2023, $5,899 of 737 deferred production costs, unamortized tooling and other non-recurring costs are expected to be recovered\\nfrom units included in the program accounting quantity that have firm orders and $34 is expected to be recovered from units included in the\\nprogram accounting quantity that represent expected future orders.\\nAt September 30, 2023 and December 31, 2022, commercial aircraft programs inventory included the following amounts related to the 777X\\nprogram: $1,370 and $1,330 of deferred production costs and $3,956 and $3,774 of unamortized tooling and other non-recurring costs. In April\\n2022, we decided to pause production of the 777X-9 during 2022 and 2023. The production pause is resulting in abnormal production costs that\\nare being expensed as incurred until 777X-9 production resumes. We have been gradually restarting the 777X production system and expect all\\nphases to resume during the fourth quarter of 2023. We expensed abnormal production costs of $442 and $213 during the nine months ended\\nSeptember 30, 2023 and 2022. The 777X program has near break-even margins at September 30, 2023.\\nAt September 30, 2023 and December 31, 2022, commercial aircraft programs inventory included the following amounts related to the 787\\nprogram: deferred production costs of $12,188 and $12,689, $1,734 and $1,831 of supplier advances, and $1,531 and $1,722 of unamortized\\ntooling and other non-recurring costs. At September 30, 2023, $13,024 of 787 deferred production costs, unamortized tooling and other non-\\nrecurring costs are expected to be recovered from units included in the program accounting quantity that have firm orders and $695 is expected\\nto be recovered from units included in the program accounting quantity that represent expected future orders. We are currently producing at')]"
      ]
     },
     "execution_count": 11,
     "metadata": {},
     "output_type": "execute_result"
    }
   ],
   "source": [
    "docs=retriever.invoke(\"Supply chain Finance Program \")\n",
    "docs"
   ]
  },
  {
   "cell_type": "code",
   "execution_count": 12,
   "metadata": {},
   "outputs": [
    {
     "data": {
      "text/plain": [
       "AIMessage(content=\"Here are some concise inferences from the document:\\n\\n**Company Performance**\\n\\n* The company's BDS (Boeing Defense, Space & Security) business has a backlog of $57.8 billion as of September 30, 2023.\\n* The company's share of earnings from equity method investments was $34 million and $24 million for the nine and three months ended September 30, 2023.\\n\\n**Program Risks**\\n\\n* The company faces financial risks in its development programs, including cost-type contracting arrangements and fixed-price contracts.\\n* Examples of complex development programs include Ground-based Midcourse Defense, Proprietary and Space Launch System, Commercial Crew, KC-46A Tanker, MQ-25, T-7A Red Hawk, VC-25B, and commercial and military satellites.\\n\\n**Inventory and Production**\\n\\n* The company's commercial aircraft programs inventory includes deferred production costs and unamortized tooling and other non-recurring costs for the 737, 777X, and 787 programs.\\n* The 777X program has near break-even margins as of September 30, 2023, and the company is gradually restarting production after a pause.\", additional_kwargs={}, response_metadata={'model': 'llama3:70b', 'created_at': '2024-10-21T07:15:40.007782581Z', 'message': {'role': 'assistant', 'content': ''}, 'done_reason': 'stop', 'done': True, 'total_duration': 23622042799, 'load_duration': 7764021104, 'prompt_eval_count': 1036, 'prompt_eval_duration': 988960000, 'eval_count': 238, 'eval_duration': 14822475000}, id='run-a90b7647-cc00-4a7e-9897-a47a4d5a0f41-0', usage_metadata={'input_tokens': 1036, 'output_tokens': 238, 'total_tokens': 1274})"
      ]
     },
     "execution_count": 12,
     "metadata": {},
     "output_type": "execute_result"
    }
   ],
   "source": [
    "question =f\"infer from this document and response concisely :{docs}\"\n",
    "\n",
    "response=llmRoute.invoke(question)\n",
    "response"
   ]
  },
  {
   "cell_type": "code",
   "execution_count": 16,
   "metadata": {},
   "outputs": [],
   "source": [
    "docs= retriever.invoke(\"What are Total Costs and Expenses (“Cost of Sales”) for the year 2023 of the boeing company? Answer in dollars\")\n",
    "question =f\"What are Total Costs and Expenses (“Cost of Sales”) for the year 2023?. Refer to this documentation for the information:{docs}\"\n"
   ]
  },
  {
   "cell_type": "code",
   "execution_count": 17,
   "metadata": {},
   "outputs": [
    {
     "data": {
      "text/plain": [
       "[Document(metadata={'page': 2, 'source': '/nfs/kundeshwar/surajKuralGPT/fd2a8c99-afc6-4472-ae18-4f1ee024a274.pdf'}, page_content='Table of Contents\\nPart I. Financial Information\\nItem 1. Financial Statements\\nThe Boeing Company and Subsidiaries\\nCondensed Consolidated Statements of Operations\\n(Unaudited)\\n(Dollars in millions, except per share data)Nine months ended\\nSeptember 30Three months ended\\nSeptember 30\\n2023 2022 2023 2022\\nSales of products $46,661 $38,767 $15,060 $13,331 \\nSales of services 9,115 7,861 3,044 2,625 \\nTotal revenues 55,776 46,628 18,104 15,956 \\nCost of products (43,140) (38,237) (14,464) (14,541)\\nCost of services (7,609) (6,725) (2,475) (2,230)\\nTotal costs and expenses (50,749) (44,962) (16,939) (16,771)\\n5,027 1,666 1,165 (815)\\nIncome/(loss) from operating investments, net 45 (27) 28 (24)\\nGeneral and administrative expense (3,633) (2,757) (1,043) (1,226)\\nResearch and development expense, net (2,496) (2,058) (958) (727)\\nGain on dispositions, net 1 2  \\nLoss from operations (1,056) (3,174) (808) (2,792)\\nOther income, net 919 722 297 288 \\nInterest and debt expense (1,859) (1,921) (589) (628)\\nLoss before income taxes (1,996) (4,373) (1,100) (3,132)\\nIncome tax expense (216) (17) (538) (176)\\nNet loss (2,212) (4,390) (1,638) (3,308)\\nLess: net loss attributable to noncontrolling interest (13) (89) (2) (33)\\nNet loss attributable to Boeing Shareholders ($2,199) ($4,301) ($1,636) ($3,275)\\nBasic loss per share ($3.64) ($7.24) ($2.70) ($5.49)'),\n",
       " Document(metadata={'page': 8, 'source': '/nfs/kundeshwar/surajKuralGPT/fd2a8c99-afc6-4472-ae18-4f1ee024a274.pdf'}, page_content='Table of Contents\\nThe Boeing Company and Subsidiaries\\nNotes to Condensed Consolidated Financial Statements\\nSummary of Business Segment Data\\n(Unaudited)\\n(Dollars in millions)Nine months ended\\nSeptember 30Three months ended\\nSeptember 30\\n2023 2022 2023 2022\\nRevenues:\\nCommercial Airplanes $23,420 $16,755 $7,876 $6,303 \\nDefense, Space & Security 18,187 16,981 5,481 5,307 \\nGlobal Services 14,278 13,044 4,812 4,432 \\nUnallocated items, eliminations and other (109) (152) (65) (86)\\nTotal revenues $55,776 $46,628 $18,104 $15,956 \\nLoss from operations:\\nCommercial Airplanes ($1,676) ($1,738) ($678) ($622)\\nDefense, Space & Security (1,663) (3,656) (924) (2,798)\\nGlobal Services 2,487 2,093 784 733 \\nSegment operating loss (852) (3,301) (818) (2,687)\\nUnallocated items, eliminations and other (1,067) (719) (271) (384)\\nFAS/CAS service cost adjustment 863 846 281 279 \\nLoss from operations (1,056) (3,174) (808) (2,792)\\nOther income, net 919 722 297 288 \\nInterest and debt expense (1,859) (1,921) (589) (628)\\nLoss before income taxes (1,996) (4,373) (1,100) (3,132)\\nIncome tax expense (216) (17) (538) (176)\\nNet loss (2,212) (4,390) (1,638) (3,308)\\nLess: net loss attributable to noncontrolling interest (13) (89) (2) (33)\\nNet loss attributable to Boeing Shareholders ($2,199) ($4,301) ($1,636) ($3,275)\\nThis information is an integral part of the Notes to the Condensed Consolidated Financial Statements. See Note 18 for further segment results.\\n7'),\n",
       " Document(metadata={'page': 37, 'source': '/nfs/kundeshwar/surajKuralGPT/fd2a8c99-afc6-4472-ae18-4f1ee024a274.pdf'}, page_content='Table of Contents\\nResearch and Development\\nResearch and development expense, net is summarized in the following table:\\n(Dollars in millions)Nine months ended\\nSeptember 30Three months ended\\nSeptember 30\\n2023 2022 2023 2022\\nCommercial Airplanes $1,538 $1,102 $623 $409 \\nDefense, Space & Security 652 706 232 240 \\nGlobal Services 84 89 30 35 \\nOther 222 161 73 43 \\nTotal $2,496 $2,058 $958 $727 \\nResearch and development expense increased by $438 million and $231 million during the nine and three months ended September 30, 2023\\ncompared to the same period in 2022, primarily due to higher research and development expenditures on the 777X program as well as other\\nBCA and enterprise investments in product development.\\nBacklog\\n(Dollars in millions)September 30\\n2023December 31\\n2022\\nCommercial Airplanes $392,105 $329,824 \\nDefense, Space & Security 57,802 54,373 \\nGlobal Services 18,441 19,338 \\nUnallocated items, eliminations and other 830 846 \\nTotal Backlog $469,178 $404,381 \\nContractual backlog $446,199 $381,977 \\nUnobligated backlog 22,979 22,404 \\nTotal Backlog $469,178 $404,381 \\nContractual backlog of unfilled orders excludes purchase options, announced orders for which definitive contracts have not been executed,\\norders where customers have the unilateral right to terminate, and unobligated U.S. and non-U.S. government contract funding. The increase in\\ncontractual backlog during the nine months ended September 30, 2023 was primarily due to increases in BCA and BDS backlog. If we remain\\nunable to deliver 737 aircraft in China for an extended period of time, and/or entry into service of the 777X, 737-7 and/or 737-10 is further\\ndelayed, we may experience reductions to backlog and/or significant order cancellations.\\nUnobligated backlog includes U.S. and non-U.S. government definitive contracts for which funding has not been authorized. Unobligated backlog\\nwas largely unchanged during the nine months ended September 30, 2023.\\nAdditional Considerations'),\n",
       " Document(metadata={'page': 12, 'source': '/nfs/kundeshwar/surajKuralGPT/fd2a8c99-afc6-4472-ae18-4f1ee024a274.pdf'}, page_content='Table of Contents\\nAt September 30, 2023 and December 31, 2022, commercial aircraft programs inventory included the following amounts related to the 737\\nprogram: deferred production costs of $5,359 and $2,955 and unamortized tooling and other non-recurring costs of $574 and $626. At\\nSeptember 30, 2023, $5,899 of 737 deferred production costs, unamortized tooling and other non-recurring costs are expected to be recovered\\nfrom units included in the program accounting quantity that have firm orders and $34 is expected to be recovered from units included in the\\nprogram accounting quantity that represent expected future orders.\\nAt September 30, 2023 and December 31, 2022, commercial aircraft programs inventory included the following amounts related to the 777X\\nprogram: $1,370 and $1,330 of deferred production costs and $3,956 and $3,774 of unamortized tooling and other non-recurring costs. In April\\n2022, we decided to pause production of the 777X-9 during 2022 and 2023. The production pause is resulting in abnormal production costs that\\nare being expensed as incurred until 777X-9 production resumes. We have been gradually restarting the 777X production system and expect all\\nphases to resume during the fourth quarter of 2023. We expensed abnormal production costs of $442 and $213 during the nine months ended\\nSeptember 30, 2023 and 2022. The 777X program has near break-even margins at September 30, 2023.\\nAt September 30, 2023 and December 31, 2022, commercial aircraft programs inventory included the following amounts related to the 787\\nprogram: deferred production costs of $12,188 and $12,689, $1,734 and $1,831 of supplier advances, and $1,531 and $1,722 of unamortized\\ntooling and other non-recurring costs. At September 30, 2023, $13,024 of 787 deferred production costs, unamortized tooling and other non-\\nrecurring costs are expected to be recovered from units included in the program accounting quantity that have firm orders and $695 is expected\\nto be recovered from units included in the program accounting quantity that represent expected future orders. We are currently producing at')]"
      ]
     },
     "execution_count": 17,
     "metadata": {},
     "output_type": "execute_result"
    }
   ],
   "source": [
    "docs"
   ]
  },
  {
   "cell_type": "code",
   "execution_count": 18,
   "metadata": {},
   "outputs": [],
   "source": [
    "response=llmRoute.invoke(question)"
   ]
  },
  {
   "cell_type": "code",
   "execution_count": 20,
   "metadata": {},
   "outputs": [
    {
     "name": "stdout",
     "output_type": "stream",
     "text": [
      "According to the provided text, the Total Costs and Expenses (also known as \"Cost of Sales\") for the year 2023 are:\n",
      "\n",
      "$2,496 million\n",
      "\n",
      "This is broken down into:\n",
      "\n",
      "* Commercial Airplanes: $652 million\n",
      "* Defense, Space & Security: $706 million\n",
      "* Global Services: $84 million\n",
      "* Other: $222 million\n"
     ]
    }
   ],
   "source": [
    "for line in response.content.split(\"\\n\"):\n",
    "    print(line)\n",
    "    "
   ]
  },
  {
   "cell_type": "code",
   "execution_count": 26,
   "metadata": {},
   "outputs": [],
   "source": [
    "docs= retriever.invoke(\"What are the backlogs for the year 2023 and 2022 of the comany?\")\n",
    "question =f\"What are backlogs of the company for the year 2023 and 2022 ? Breakdown the answer. Refer to this documentation for the information:{docs}\"\n",
    "response=llmRoute.invoke(question)\n"
   ]
  },
  {
   "cell_type": "code",
   "execution_count": 29,
   "metadata": {},
   "outputs": [
    {
     "name": "stdout",
     "output_type": "stream",
     "text": [
      "Based on the provided text, here are the backlogs of the company for the year 2023 and 2022:\n",
      "\n",
      "**Backlog as of September 30, 2023:**\n",
      "\n",
      "* Total backlog: $469,178\n",
      "* Expected conversion to revenue:\n",
      "\t+ Approximately 21% through 2024\n",
      "\t+ Approximately 71% through 2027\n",
      "\t+ Remainder thereafter\n",
      "\n",
      "**Breakdown of Backlog (not explicitly stated for 2022, but can be inferred from the text):**\n",
      "\n",
      "* Contractual backlog: Increased during the nine months ended September 30, 2023, primarily due to increases in BCA and BDS backlog.\n",
      "* Unobligated backlog: Largely unchanged during the nine months ended September 30, 2023. This includes U.S. and non-U.S. government definitive contracts for which funding has not been authorized.\n",
      "\n",
      "Note that there is significant uncertainty regarding the timing of when backlog will convert into revenue due to factors such as the timing of 737 and 787 deliveries from inventory and the entry into service of the 777X, 737-7, and/or 737-10.\n"
     ]
    }
   ],
   "source": [
    "for line in response.content.split(\"\\n\"):\n",
    "    print(line)\n",
    "\n"
   ]
  },
  {
   "cell_type": "markdown",
   "metadata": {},
   "source": [
    "## Life-Insurance\n"
   ]
  },
  {
   "cell_type": "code",
   "execution_count": 3,
   "metadata": {},
   "outputs": [],
   "source": [
    "llmRoute2= ChatOllama(model='llama3:70b',temperature=0)"
   ]
  },
  {
   "cell_type": "code",
   "execution_count": 4,
   "metadata": {},
   "outputs": [],
   "source": [
    "docs=retriever.invoke(\"What type of life insurance is being offered (term, whole life, universal, etc.)?\")"
   ]
  },
  {
   "cell_type": "code",
   "execution_count": 5,
   "metadata": {},
   "outputs": [
    {
     "data": {
      "text/plain": [
       "[Document(metadata={'page': 7, 'source': '/nfs/kundeshwar/surajKuralGPT/Principal-Sample-Life-Insurance-Policy.pdf'}, page_content='This policy has been updated effective January 1, 2014  \\n \\n \\n \\nGC 6001  TABLE OF CONTENTS, PAGE 3  \\n  \\n \\n Section A - Member Life Insurance  \\n \\n \\n Schedule of Insurance  Article 1  \\n Death Benefits Payable  Article 2  \\n Beneficiary  Article 3  \\n Facility of Payment  Article 4  \\n Settlement of Proceeds  Article 5  \\n Member Life Insurance - Coverage During Disability  Article 6  \\n \\n Accelerated Benefits  Article 7  \\n \\n \\n Section B - Member Accidental Death and Dismemberment Insurance  \\n \\n \\n Schedule of Insurance  Article 1  \\n Benefit Qualification  Article 2  \\n Benefits Payable  Article 3  \\n \\n Seat Belt Benefit  Article 4  \\n Loss of Use or Paralysis Benefit  Article 5  \\n Loss of Speech and/or Hearing Benefit  Article 6  \\n Repatriation Benefit  Article 7  \\n Educational Benefit  Article 8  \\n \\n Limitations  Article 9  \\n \\n \\n Section C - Dependent Life  Insurance  \\n \\n \\n Schedule of Insurance  Article 1  \\n Death Benefits Payable  Article 2  \\n Beneficiary  Article 3  \\n \\n \\n Section D - Claim Procedures  \\n \\n \\n Notice of Claim  Article 1  \\n Claim Forms  Article 2  \\n Proof of Loss  Article 3  \\n Payment, Denial and Review  Article 4 \\n Medical Examinations  Article 5  \\n Autopsy  Article 6  \\n Legal Action  Article 7  \\n Time Limits  Article 8'),\n",
       " Document(metadata={'page': 41, 'source': '/nfs/kundeshwar/surajKuralGPT/Principal-Sample-Life-Insurance-Policy.pdf'}, page_content=\"This policy has been updated effective  January 1, 2014  \\n \\nPART III - INDIVIDUAL REQUIREMENTS AND RIGHTS  \\nGC 6011  Section F - Individual Purchase Rights, Page 1  \\n Section F - Individual Purchase Rights  \\n \\n Article 1 - Member Life Insurance \\n a. Individual Policy  \\n \\nIf a Member qualifies and makes timely application, he or she may convert the group coverage by purchasing an individual policy of life insurance under these terms:  \\n \\n(1) The Member will not be required to submit Proof of Good Health. \\n(2) The policy will be for life insurance only.  No disabilit y or other benefits will be \\nincluded. \\n(3) The policy will be on one of the forms, other than term insurance, then issued by The \\nPrincipal to persons in the risk class to which the Member belongs on the individual policy's effective date.  \\n(4) Premium will be based on the Member's age and the standard rate of The Principal for \\nthe policy form to be issued. \\n \\nb. Purchase Qualification  \\n \\nA Member will qualify for individual purchase if insurance under this Group Policy \\nterminates and:  \\n \\n(1) the Member's total Lif e Insurance, or any portion of it, terminates because he or she \\nends Active Work or ceases to be in a class eligible for insurance; or  \\n(2) after the Member has been continuously insured under this Group Policy for at least \\nfive years, his or her total Memb er Life Insurance terminates because this Group \\nPolicy terminates or is amended to exclude the Member's insurance class; or  \\n(3) the Member's Coverage During Disability as described in PART IV, Section A, \\nceases because Total Disability ends and he or she d oes not return to Active Work \\nwithin 31 days; or  \\n(4) the Member's Accelerated Benefits Premium Waiver Period as described in PART \\nIV, Section A, ceases and he or she does not qualify for Coverage During Disability .  \\n \\nc. Application/Effective Date  \\n \\nNotice of the individual purchase right must be given to the Member by the Policyholder\"),\n",
       " Document(metadata={'page': 35, 'source': '/nfs/kundeshwar/surajKuralGPT/Principal-Sample-Life-Insurance-Policy.pdf'}, page_content='may choose to continue his or her insurance, subject to premium payment for a period of six months or less for one of the following reasons:  \\n a. travel; or'),\n",
       " Document(metadata={'page': 12, 'source': '/nfs/kundeshwar/surajKuralGPT/Principal-Sample-Life-Insurance-Policy.pdf'}, page_content=\"This policy has been updated effective  January 1, 2014  \\n \\n \\n \\nGC 6002  PART I - DEFINITIONS, PAGE 5   \\n  \\na. A licensed Doctor of Medicine (M.D.) or Osteopathy (D.O.); or  \\n \\nb. any other licensed health care practitioner that state law requires be recognized as a Physician under this Group Policy.  \\n The term Physician does not include the Member, an employee of the Member, a business  or \\nprofessional partner or associate of the Member, any person who has a financial affiliation or business interest with the Member, anyone related to the Member by blood or marriage, or anyone living in the Member's household.  \\n \\nPolicy Anniversary  \\n \\nNovember 1, 2014 and the same day of each following year.  \\n \\nPolicyholder  \\n \\nThe entity to whom this Group Policy is issued (see Title Page).  \\n \\nPrior Policy  \\n \\nThe Group Term Life coverage of either:  \\n \\na. the Policyholder; or  \\n \\nb. a business entity which has been obtained by the Policyholder through a merger or acquisition;  \\n for which this Group Policy is a replacement.  \\n \\nProof of Good Health  \\n \\nWritten evidence that a person is insurable under the underwriting standards of The Principal.  \\nThis proof must be provided in a form satisfactory to The Principal.  \\n \\nQualifying Event  \\n \\nA Qualifying Event for Accelerated Benefits is a medical condition, which would, in the absence \\nof extensive or extraordinary medical treatment; result in a dramatically limited life span.  Such conditions may include, BUT ARE NOT LIMITED TO, one or more of the following:  \\n a. coronary artery disease resulting in an acute infarction or requiring surgery;  \\n b. permanent neurological deficit resulting from cerebral vascular accident;\")]"
      ]
     },
     "execution_count": 5,
     "metadata": {},
     "output_type": "execute_result"
    }
   ],
   "source": [
    "docs"
   ]
  },
  {
   "cell_type": "code",
   "execution_count": 6,
   "metadata": {},
   "outputs": [],
   "source": [
    "question =f\"What type of life insurance is being offered (term, whole life,universal, etc.)? refer to this doc: {docs}\"\n",
    "response2=llmRoute2.invoke(question)"
   ]
  },
  {
   "cell_type": "code",
   "execution_count": 7,
   "metadata": {},
   "outputs": [
    {
     "name": "stdout",
     "output_type": "stream",
     "text": [
      "Based on the provided document, the type of life insurance being offered is Whole Life Insurance.\n",
      "\n",
      "\n",
      "\n",
      "Here's why:\n",
      "\n",
      "\n",
      "\n",
      "1. In Section F - Individual Purchase Rights (Page 41), it mentions that the policy will be for \"life insurance only\" and that no disability or other benefits will be included.\n",
      "\n",
      "2. It also states that the policy will be on one of the forms, other than term insurance, then issued by The Principal to persons in the risk class to which the Member belongs on the individual policy's effective date. This suggests that the policy is a permanent life insurance policy, rather than a term life insurance policy.\n",
      "\n",
      "3. Additionally, there is no mention of a specific term or duration for the coverage, which is consistent with whole life insurance policies.\n",
      "\n",
      "\n",
      "\n",
      "It's worth noting that the document does not explicitly state that it's a whole life insurance policy, but based on the language and structure of the policy, it appears to be a type of permanent life insurance.\n"
     ]
    }
   ],
   "source": [
    "for line in response2.content.splitlines(\"\\n\"):\n",
    "    print(line)"
   ]
  },
  {
   "cell_type": "markdown",
   "metadata": {},
   "source": [
    "## RAG CHAIN"
   ]
  },
  {
   "cell_type": "code",
   "execution_count": 10,
   "metadata": {},
   "outputs": [],
   "source": [
    "### Generate\n",
    "\n",
    "from langchain_core.messages import HumanMessage\n",
    "from langchain_core.output_parsers import StrOutputParser\n",
    "\n",
    "\n",
    "# Preamble\n",
    "preambleRAG = \"\"\"You are an assistant for question-answering tasks. Use the following pieces of retrieved context to answer the question. If you don't know the answer, just say that you don't know. Use three sentences maximum and keep the answer concise.\"\"\"\n",
    "\n",
    "# LLM\n",
    "llmRAG= ChatOllama(model='llama3.1',temperature=0).bind(preamble=preambleRAG)\n",
    "\n",
    "\n",
    "# Prompt\n",
    "def prompt(x):\n",
    "    return ChatPromptTemplate.from_messages(\n",
    "        [\n",
    "            HumanMessage(\n",
    "                f\"Question: {x['question']} \\nAnswer: \",\n",
    "                additional_kwargs={\"documents\": x[\"documents\"]},\n",
    "            )\n",
    "        ]\n",
    "    )\n",
    "\n",
    "\n",
    "# Chain\n",
    "rag_chain = prompt | llmRAG | StrOutputParser()\n",
    "\n",
    "# Run\n",
    "# generation = rag_chain.invoke({\"documents\": docs, \"question\": question})\n",
    "# print(generation)"
   ]
  },
  {
   "cell_type": "markdown",
   "metadata": {},
   "source": [
    "## Retrieval Grader"
   ]
  },
  {
   "cell_type": "code",
   "execution_count": 11,
   "metadata": {},
   "outputs": [],
   "source": [
    "### Retrieval Grader\n",
    "from typing import Optional\n",
    "\n",
    "\n",
    "# Data Model\n",
    "\n",
    "class GradeDocuments(BaseModel):\n",
    "    \"\"\"Binary score for relevance check on retrieved documents.\"\"\"\n",
    "    \n",
    "    binary_score:str=Field(\n",
    "        description=\"Documents are relevant to the question, 'yes' or 'no\"\n",
    "    )\n",
    "\n",
    "# Prompt\n",
    "preambleRetriever = \"\"\"You are a grader assessing relevance of a retrieved document to a user question. \n",
    "If the document contains keyword(s) or semantic meaning related to the user question, grade it as relevant. \n",
    "Give a binary score 'yes' or 'no' score to indicate whether the document is relevant to the question.\"\"\"\n",
    "\n",
    "\n",
    "\n",
    "\n",
    "# LLM with function call\n",
    "llmRetrieval= ChatOllama(model='llama3.1',temperature=0).bind(preamble=preambleRetriever)\n",
    "structured_llm_graderRetrieval = llmRetrieval.with_structured_output(GradeDocuments)\n",
    "\n",
    "grade_prompt = ChatPromptTemplate.from_messages(\n",
    "    [\n",
    "\n",
    "        \n",
    "        (\"human\", \"Retrieved document: \\n\\n {document} \\n\\n User question: {question}\"),\n",
    "    ]\n",
    ")\n",
    "\n",
    "\n",
    "retrieval_grader = grade_prompt | structured_llm_graderRetrieval\n",
    "\n"
   ]
  },
  {
   "cell_type": "markdown",
   "metadata": {},
   "source": [
    "### LLM Fallback"
   ]
  },
  {
   "cell_type": "code",
   "execution_count": 12,
   "metadata": {},
   "outputs": [],
   "source": [
    "### LLM fallback\n",
    "from langchain_core.messages import HumanMessage\n",
    "from langchain_core.output_parsers import StrOutputParser\n",
    "\n",
    "# Preamble\n",
    "preambleFall = \"\"\"You are an assistant for question-answering tasks. Answer the question based upon your knowledge. Use three sentences maximum and keep the answer concise.\"\"\"\n",
    "\n",
    "# LLM\n",
    "llmFall= ChatOllama(model='llama3.1',temperature=0).bind(preamble=preambleFall)\n",
    "\n",
    "\n",
    "# Prompt\n",
    "def prompt(x):\n",
    "    return ChatPromptTemplate.from_messages(\n",
    "        [HumanMessage(f\"Question: {x['question']} \\nAnswer: \")]\n",
    "    )\n",
    "\n",
    "\n",
    "# Chain\n",
    "llm_chain = prompt | llmFall | StrOutputParser()\n",
    "\n",
    "# Run\n",
    "# question = \"Hi how are you?\"\n",
    "# generation = llm_chain.invoke({\"question\": question})\n",
    "# print(generation)"
   ]
  },
  {
   "cell_type": "markdown",
   "metadata": {},
   "source": [
    "## Answer Grader"
   ]
  },
  {
   "cell_type": "code",
   "execution_count": 13,
   "metadata": {},
   "outputs": [],
   "source": [
    "### Answer Grader\n",
    "\n",
    "\n",
    "# Data model\n",
    "class GradeAnswer(BaseModel):\n",
    "    \"\"\"Binary score to assess answer addresses question.\"\"\"\n",
    "\n",
    "    binary_score: str = Field(\n",
    "        description=\"Answer addresses the question, 'yes' or 'no'\"\n",
    "    )\n",
    "\n",
    "\n",
    "# Preamble\n",
    "preambleGrader = \"\"\"You are a grader assessing whether an answer addresses / resolves a question \\n\n",
    "Give a binary score 'yes' or 'no'. Yes' means that the answer resolves the question.\"\"\"\n",
    "\n",
    "# LLM with function call\n",
    "llmGraderAnswer= ChatOllama(model='llama3.1',temperature=0).bind(preamble=preambleGrader)\n",
    "structured_llm_graderAnswer= llmGraderAnswer.with_structured_output(GradeAnswer)\n",
    "\n",
    "# Prompt\n",
    "answer_prompt = ChatPromptTemplate.from_messages(\n",
    "    [\n",
    "        (\"human\", \"User question: \\n\\n {question} \\n\\n LLM generation: {generation}\"),\n",
    "    ]\n",
    ")\n",
    "\n",
    "answer_grader = answer_prompt | structured_llm_graderAnswer\n",
    "\n",
    "# answer_grader.invoke({\"question\": question, \"generation\": generation})"
   ]
  },
  {
   "cell_type": "markdown",
   "metadata": {},
   "source": [
    "## Hallucination Grader"
   ]
  },
  {
   "cell_type": "code",
   "execution_count": 14,
   "metadata": {},
   "outputs": [],
   "source": [
    "### Hallucination Grader\n",
    "\n",
    "\n",
    "# Data model\n",
    "class GradeHallucinations(BaseModel):\n",
    "    \"\"\"Binary score for hallucination present in generation answer.\"\"\"\n",
    "\n",
    "    binary_score: str = Field(\n",
    "        description=\"Answer is grounded in the facts, 'yes' or 'no'\"\n",
    "    )\n",
    "\n",
    "\n",
    "# Preamble\n",
    "preambleHallucination = \"\"\"You are a grader assessing whether an LLM generation is grounded in / supported by a set of retrieved facts. \\n\n",
    "Give a binary score 'yes' or 'no'. 'Yes' means that the answer is grounded in / supported by the set of facts.\"\"\"\n",
    "\n",
    "\n",
    "# LLM with function call\n",
    "llmHallucination= ChatOllama(model='llama3.1',temperature=0).bind(preamble=preambleHallucination)\n",
    "\n",
    "structured_llm_graderHallucination = llmHallucination.with_structured_output(GradeHallucinations)\n",
    "\n",
    "# Prompt\n",
    "hallucination_prompt = ChatPromptTemplate.from_messages(\n",
    "    [\n",
    "        # (\"system\", system),\n",
    "        (\"human\", \"Set of facts: \\n\\n {documents} \\n\\n LLM generation: {generation}\"),\n",
    "    ]\n",
    ")\n",
    "\n",
    "hallucination_grader = hallucination_prompt | structured_llm_graderHallucination\n",
    "# response=hallucination_grader.invoke({\"documents\": docs, \"generation\": generation})"
   ]
  },
  {
   "cell_type": "markdown",
   "metadata": {},
   "source": [
    "## WebSearchTool"
   ]
  },
  {
   "cell_type": "code",
   "execution_count": 9,
   "metadata": {},
   "outputs": [],
   "source": [
    "# ### Working With Tools\n",
    "# from langchain_community.utilities import ArxivAPIWrapper,WikipediaAPIWrapper\n",
    "# from langchain_community.tools import ArxivQueryRun,WikipediaQueryRun\n",
    "\n",
    "# ## Arxiv and wikipedia Tools\n",
    "# # arxiv_wrapper=ArxivAPIWrapper(top_k_results=1, doc_content_chars_max=200)\n",
    "# # arxiv=ArxivQueryRun(api_wrapper=arxiv_wrapper)\n",
    "\n",
    "# api_wrapper=WikipediaAPIWrapper(top_k_results=1,doc_content_chars_max=200)\n",
    "# wiki=WikipediaQueryRun(api_wrapper=api_wrapper)"
   ]
  },
  {
   "cell_type": "code",
   "execution_count": 15,
   "metadata": {},
   "outputs": [],
   "source": [
    "### Search\n",
    "import os\n",
    "os.environ['TAVILY_API_KEY'] ='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'\n",
    "\n",
    "from langchain_community.tools.tavily_search import TavilySearchResults\n",
    "\n",
    "web_search_tool = TavilySearchResults()"
   ]
  },
  {
   "cell_type": "code",
   "execution_count": 16,
   "metadata": {},
   "outputs": [],
   "source": [
    "from typing import List\n",
    "\n",
    "from typing_extensions import TypedDict\n",
    "\n",
    "\n",
    "class GraphState(TypedDict):\n",
    "    \"\"\"|\n",
    "    Represents the state of our graph.\n",
    "\n",
    "    Attributes:\n",
    "        question: question\n",
    "        generation: LLM generation\n",
    "        documents: list of documents\n",
    "    \"\"\"\n",
    "\n",
    "    question: str\n",
    "    generation: str\n",
    "    documents: List[str]"
   ]
  },
  {
   "cell_type": "code",
   "execution_count": 17,
   "metadata": {},
   "outputs": [],
   "source": [
    "from langchain.schema import Document\n",
    "\n",
    "\n",
    "def retrieve(state):\n",
    "    \"\"\"\n",
    "    Retrieve documents\n",
    "\n",
    "    Args:\n",
    "        state (dict): The current graph state\n",
    "\n",
    "    Returns:\n",
    "        state (dict): New key added to state, documents, that contains retrieved documents\n",
    "    \"\"\"\n",
    "    print(\"---RETRIEVE---\")\n",
    "    question = state[\"question\"]\n",
    "\n",
    "    # Retrieval\n",
    "    documents = retriever.invoke(question)\n",
    "    print(\"Retrieve karne Jaa rahen hain\")\n",
    "    return {\"documents\": documents, \"question\": question}\n",
    "\n",
    "\n",
    "def llm_fallback(state):\n",
    "    \"\"\"\n",
    "    Generate answer using the LLM w/o vectorstore\n",
    "\n",
    "    Args:\n",
    "        state (dict): The current graph state\n",
    "\n",
    "    Returns:\n",
    "        state (dict): New key added to state, generation, that contains LLM generation\n",
    "    \"\"\"\n",
    "    print(\"---LLM Fallback---\")\n",
    "    question = state[\"question\"]\n",
    "    generation = llm_chain.invoke({\"question\": question})\n",
    "    return {\"question\": question, \"generation\": generation}\n",
    "\n",
    "\n",
    "def generate(state):\n",
    "    \"\"\"\n",
    "    Generate answer using the vectorstore\n",
    "\n",
    "    Args:\n",
    "        state (dict): The current graph state\n",
    "\n",
    "    Returns:\n",
    "        state (dict): New key added to state, generation, that contains LLM generation\n",
    "    \"\"\"\n",
    "    print(\"---GENERATE---\")\n",
    "    question = state[\"question\"]\n",
    "    documents = state[\"documents\"]\n",
    "    if not isinstance(documents, list):\n",
    "        documents = [documents]\n",
    "\n",
    "    # RAG generation\n",
    "    generation = rag_chain.invoke({\"documents\": documents, \"question\": question})\n",
    "    return {\"documents\": documents, \"question\": question, \"generation\": generation}\n",
    "\n",
    "\n",
    "def grade_documents(state):\n",
    "    \"\"\"\n",
    "    Determines whether the retrieved documents are relevant to the question.\n",
    "\n",
    "    Args:\n",
    "        state (dict): The current graph state\n",
    "\n",
    "    Returns:\n",
    "        state (dict): Updates documents key with only filtered relevant documents\n",
    "    \"\"\"\n",
    "\n",
    "    print(\"---CHECK DOCUMENT RELEVANCE TO QUESTION---\")\n",
    "    question = state[\"question\"]\n",
    "    documents = state[\"documents\"]\n",
    "\n",
    "    # Score each doc\n",
    "    filtered_docs = []\n",
    "    for d in documents:\n",
    "        try:\n",
    "            score = retrieval_grader.invoke(\n",
    "                {\"question\": question, \"document\": d.page_content}\n",
    "            )\n",
    "            grade = score.binary_score\n",
    "            if grade == \"yes\":\n",
    "                print(\"---GRADE: DOCUMENT RELEVANT---\")\n",
    "                filtered_docs.append(d)\n",
    "            else:\n",
    "                print(\"---GRADE: DOCUMENT NOT RELEVANT---\")\n",
    "        except Exception as e:\n",
    "            print(f\"Error while grading document: {e}\")\n",
    "            continue\n",
    "\n",
    "    print(\"Documents Graded Sahi se hogayen\")\n",
    "    return {\"documents\": filtered_docs, \"question\": question}\n",
    "\n",
    "\n",
    "def web_search(state):\n",
    "    \"\"\"\n",
    "    Web search based on the re-phrased question.\n",
    "\n",
    "    Args:\n",
    "        state (dict): The current graph state\n",
    "\n",
    "    Returns:\n",
    "        state (dict): Updates documents key with appended web results\n",
    "    \"\"\"\n",
    "\n",
    "    print(\"---WEB SEARCH---\")\n",
    "    question = state[\"question\"]\n",
    "\n",
    "    # Web search\n",
    "    docs = web_search_tool.invoke({\"query\": question})\n",
    "    web_results = \"\\n\".join([d[\"content\"] for d in docs])\n",
    "    web_results = Document(page_content=web_results)\n",
    "\n",
    "    return {\"documents\": web_results, \"question\": question}\n",
    "\n",
    "\n",
    "### Edges ###\n",
    "\n",
    "\n",
    "def route_question(state):\n",
    "    \"\"\"\n",
    "    Route question to web search or RAG.\n",
    "\n",
    "    Args:\n",
    "        state (dict): The current graph state\n",
    "\n",
    "    Returns:\n",
    "        str: Next node to call\n",
    "    \"\"\"\n",
    "\n",
    "    print(\"---ROUTE QUESTION---\")\n",
    "    question = state[\"question\"]\n",
    "    source = question_router.invoke({\"question\": question})\n",
    "\n",
    "    # Fallback to LLM or raise error if no decision\n",
    "    if \"tool_calls\" not in source.response_metadata['message']:\n",
    "        print(\"---ROUTE QUESTION TO LLM---\")\n",
    "        return \"llm_fallback\"\n",
    "    if len(source.response_metadata['message']['tool_calls']) == 0:\n",
    "        raise \"Router could not decide source\"\n",
    "\n",
    "    # Choose datasource\n",
    "    datasource = source.response_metadata['message']['tool_calls'][0]['function']['name']\n",
    "    if datasource == \"web_search\":\n",
    "        print(\"---ROUTE QUESTION TO WEB SEARCH---\")\n",
    "        return \"web_search\"\n",
    "    elif datasource == \"vectorstore\":\n",
    "        print(\"---ROUTE QUESTION TO RAG---\")\n",
    "        return \"vectorstore\"\n",
    "    else:\n",
    "        print(\"---ROUTE QUESTION TO LLM---\")\n",
    "        return \"vectorstore\"\n",
    "\n",
    "\n",
    "def decide_to_generate(state):\n",
    "    \"\"\"\n",
    "    Determines whether to generate an answer, or re-generate a question.\n",
    "\n",
    "    Args:\n",
    "        state (dict): The current graph state\n",
    "\n",
    "    Returns:\n",
    "        str: Binary decision for next node to call\n",
    "    \"\"\"\n",
    "\n",
    "    print(\"---ASSESS GRADED DOCUMENTS---\")\n",
    "    state[\"question\"]\n",
    "    filtered_documents = state[\"documents\"]\n",
    "    \n",
    "    print(\"Decide kar rahen hain Generate through retrieval or wiki\")\n",
    "\n",
    "    if not filtered_documents:\n",
    "        # All documents have been filtered check_relevance\n",
    "        # We will re-generate a new query\n",
    "        print(\"---DECISION: ALL DOCUMENTS ARE NOT RELEVANT TO QUESTION, WEB SEARCH---\")\n",
    "        return \"web_search\"\n",
    "    else:\n",
    "        # We have relevant documents, so generate answer\n",
    "        print(\"---DECISION: GENERATE---\")\n",
    "        return \"generate\"\n",
    "\n",
    "\n",
    "def grade_generation_v_documents_and_question(state):\n",
    "    \"\"\"\n",
    "    Determines whether the generation is grounded in the document and answers question.\n",
    "\n",
    "    Args:\n",
    "        state (dict): The current graph state\n",
    "\n",
    "    Returns:\n",
    "        str: Decision for next node to call\n",
    "    \"\"\"\n",
    "\n",
    "    print(\"---CHECK HALLUCINATIONS---\")\n",
    "    question = state[\"question\"]\n",
    "    documents = state[\"documents\"]\n",
    "    generation = state[\"generation\"]\n",
    "\n",
    "    score = hallucination_grader.invoke(\n",
    "        {\"documents\": documents, \"generation\": generation}\n",
    "    )\n",
    "    \n",
    "    grade=None\n",
    "    if score is None:\n",
    "        print(\"Initially Score is None\")\n",
    "        grade=\"yes\"\n",
    "    else:\n",
    "        \n",
    "        grade = score.binary_score\n",
    "\n",
    "    # Check hallucination\n",
    "    if grade == \"yes\":\n",
    "        print(\"---DECISION: GENERATION IS GROUNDED IN DOCUMENTS---\")\n",
    "        # Check question-answering\n",
    "        print(\"---GRADE GENERATION vs QUESTION---\")\n",
    "        score = answer_grader.invoke({\"question\": question, \"generation\": generation})\n",
    "        grade = score.binary_score\n",
    "        if grade == \"yes\":\n",
    "            print(\"---DECISION: GENERATION ADDRESSES QUESTION---\")\n",
    "            return \"useful\"\n",
    "        else:\n",
    "            print(\"---DECISION: GENERATION DOES NOT ADDRESS QUESTION---\")\n",
    "            return \"not useful\"\n",
    "    else:\n",
    "        print(\"---DECISION: GENERATION IS NOT GROUNDED IN DOCUMENTS, RE-TRY---\")\n",
    "        return \"not supported\""
   ]
  },
  {
   "cell_type": "code",
   "execution_count": 18,
   "metadata": {},
   "outputs": [],
   "source": [
    "\n",
    "import pprint\n",
    "\n",
    "from langgraph.graph import END, StateGraph, START\n",
    "from langgraph.checkpoint.memory import MemorySaver\n",
    "\n",
    "workflow = StateGraph(GraphState)\n",
    "\n",
    "# Define the nodes\n",
    "# workflow.add_node(\"web_search\", web_search)  # web search\n",
    "workflow.add_node(\"retrieve\", retrieve)  # retrieve\n",
    "workflow.add_node(\"grade_documents\", grade_documents)  # grade documents\n",
    "workflow.add_node(\"generate\", generate)  # rag\n",
    "workflow.add_node(\"llm_fallback\", llm_fallback)  # llm\n",
    "\n",
    "# Build graph\n",
    "workflow.add_conditional_edges(\n",
    "    START,\n",
    "    route_question,\n",
    "    {\n",
    "        # \"web_search\": \"web_search\",\n",
    "        \"vectorstore\": \"retrieve\",\n",
    "        \"llm_fallback\": \"llm_fallback\",\n",
    "    },\n",
    ")\n",
    "\n",
    "#retrieve sahi se chal raha hain\n",
    "#Documents Graded Sahi se hogayen\n",
    "\n",
    "# workflow.add_edge(\"web_search\", \"generate\")\n",
    "workflow.add_edge(\"retrieve\", \"grade_documents\")\n",
    "workflow.add_conditional_edges(\n",
    "    \"grade_documents\",\n",
    "    decide_to_generate,\n",
    "    {\n",
    "        # \"web_search\": \"web_search\",\n",
    "        \"generate\": \"generate\",\n",
    "    },\n",
    ")\n",
    "\n",
    "workflow.add_conditional_edges(\n",
    "    \"generate\",\n",
    "    grade_generation_v_documents_and_question,\n",
    "    {\n",
    "        \"not supported\": \"generate\",  # Hallucinations: re-generate\n",
    "        # \"not useful\": \"web_search\",  # Fails to answer question: fall-back to web-search\n",
    "        \"useful\": END,\n",
    "    },\n",
    ")\n",
    "workflow.add_edge(\"llm_fallback\", END)\n",
    "\n",
    "memory=MemorySaver()\n",
    "# Compile\n",
    "app = workflow.compile(checkpointer=memory)"
   ]
  },
  {
   "cell_type": "code",
   "execution_count": 19,
   "metadata": {},
   "outputs": [
    {
     "data": {
      "image/jpeg": "[encoded data removed]",
      "text/plain": [
       "<IPython.core.display.Image object>"
      ]
     },
     "metadata": {},
     "output_type": "display_data"
    }
   ],
   "source": [
    "# View\n",
    "from IPython.display import Image,display\n",
    "\n",
    "display(Image(app.get_graph().draw_mermaid_png()))"
   ]
  },
  {
   "cell_type": "code",
   "execution_count": 15,
   "metadata": {},
   "outputs": [],
   "source": [
    "# inputs = {\n",
    "#     \"question\": \"Who is shahrukh Khan?\"\n",
    "# }"
   ]
  },
  {
   "cell_type": "code",
   "execution_count": 16,
   "metadata": {},
   "outputs": [],
   "source": [
    "# output=app.invoke(inputs)"
   ]
  },
  {
   "cell_type": "code",
   "execution_count": 17,
   "metadata": {},
   "outputs": [],
   "source": [
    "# output"
   ]
  },
  {
   "cell_type": "code",
   "execution_count": 18,
   "metadata": {},
   "outputs": [],
   "source": [
    "# inputs = {\n",
    "#     \"question\": \"What are Agents?\"\n",
    "# }\n",
    "\n",
    "\n",
    "# output=app.invoke(inputs)"
   ]
  },
  {
   "cell_type": "code",
   "execution_count": 19,
   "metadata": {},
   "outputs": [],
   "source": [
    "# output"
   ]
  },
  {
   "cell_type": "code",
   "execution_count": 22,
   "metadata": {},
   "outputs": [],
   "source": [
    "config={\"configurable\":{\"thread_id\":\"1\"}}\n",
    "\n",
    "inputs = {\"question\": \"What are Total Costs and Expenses (“Cost of Sales”) for the year 2023 for the boeing company,answer in dollar?\"}"
   ]
  },
  {
   "cell_type": "code",
   "execution_count": 23,
   "metadata": {},
   "outputs": [
    {
     "name": "stdout",
     "output_type": "stream",
     "text": [
      "---ROUTE QUESTION---\n",
      "---ROUTE QUESTION TO RAG---\n",
      "---RETRIEVE---\n",
      "Retrieve karne Jaa rahen hain\n",
      "\"Node 'retrieve':\"\n",
      "'\\n---\\n'\n",
      "---CHECK DOCUMENT RELEVANCE TO QUESTION---\n",
      "---GRADE: DOCUMENT RELEVANT---\n",
      "---GRADE: DOCUMENT RELEVANT---\n",
      "---GRADE: DOCUMENT RELEVANT---\n",
      "---GRADE: DOCUMENT NOT RELEVANT---\n",
      "Documents Graded Sahi se hogayen\n",
      "---ASSESS GRADED DOCUMENTS---\n",
      "Decide kar rahen hain Generate through retrieval or wiki\n",
      "---DECISION: GENERATE---\n",
      "\"Node 'grade_documents':\"\n",
      "'\\n---\\n'\n",
      "---GENERATE---\n",
      "---CHECK HALLUCINATIONS---\n",
      "Initially Score is None\n",
      "---DECISION: GENERATION IS GROUNDED IN DOCUMENTS---\n",
      "---GRADE GENERATION vs QUESTION---\n",
      "---DECISION: GENERATION DOES NOT ADDRESS QUESTION---\n"
     ]
    },
    {
     "ename": "KeyError",
     "evalue": "'not useful'",
     "output_type": "error",
     "traceback": [
      "\u001b[0;31m---------------------------------------------------------------------------\u001b[0m",
      "\u001b[0;31mKeyError\u001b[0m                                  Traceback (most recent call last)",
      "Cell \u001b[0;32mIn[23], line 4\u001b[0m\n\u001b[1;32m      1\u001b[0m \u001b[38;5;66;03m# Run\u001b[39;00m\n\u001b[0;32m----> 4\u001b[0m \u001b[38;5;28;43;01mfor\u001b[39;49;00m\u001b[43m \u001b[49m\u001b[43moutput\u001b[49m\u001b[43m \u001b[49m\u001b[38;5;129;43;01min\u001b[39;49;00m\u001b[43m \u001b[49m\u001b[43mapp\u001b[49m\u001b[38;5;241;43m.\u001b[39;49m\u001b[43mstream\u001b[49m\u001b[43m(\u001b[49m\u001b[43minputs\u001b[49m\u001b[43m,\u001b[49m\u001b[43mconfig\u001b[49m\u001b[43m)\u001b[49m\u001b[43m:\u001b[49m\n\u001b[1;32m      5\u001b[0m \u001b[43m    \u001b[49m\u001b[38;5;28;43;01mfor\u001b[39;49;00m\u001b[43m \u001b[49m\u001b[43mkey\u001b[49m\u001b[43m,\u001b[49m\u001b[43m \u001b[49m\u001b[43mvalue\u001b[49m\u001b[43m \u001b[49m\u001b[38;5;129;43;01min\u001b[39;49;00m\u001b[43m \u001b[49m\u001b[43moutput\u001b[49m\u001b[38;5;241;43m.\u001b[39;49m\u001b[43mitems\u001b[49m\u001b[43m(\u001b[49m\u001b[43m)\u001b[49m\u001b[43m:\u001b[49m\n\u001b[1;32m      6\u001b[0m \u001b[43m        \u001b[49m\u001b[38;5;66;43;03m# Node\u001b[39;49;00m\n\u001b[1;32m      7\u001b[0m \u001b[43m        \u001b[49m\u001b[43mpprint\u001b[49m\u001b[38;5;241;43m.\u001b[39;49m\u001b[43mpprint\u001b[49m\u001b[43m(\u001b[49m\u001b[38;5;124;43mf\u001b[39;49m\u001b[38;5;124;43m\"\u001b[39;49m\u001b[38;5;124;43mNode \u001b[39;49m\u001b[38;5;124;43m'\u001b[39;49m\u001b[38;5;132;43;01m{\u001b[39;49;00m\u001b[43mkey\u001b[49m\u001b[38;5;132;43;01m}\u001b[39;49;00m\u001b[38;5;124;43m'\u001b[39;49m\u001b[38;5;124;43m:\u001b[39;49m\u001b[38;5;124;43m\"\u001b[39;49m\u001b[43m)\u001b[49m\n",
      "File \u001b[0;32m~/miniconda3/envs/kuralGPT/lib/python3.12/site-packages/langgraph/pregel/__init__.py:1315\u001b[0m, in \u001b[0;36mPregel.stream\u001b[0;34m(self, input, config, stream_mode, output_keys, interrupt_before, interrupt_after, debug, subgraphs)\u001b[0m\n\u001b[1;32m   1304\u001b[0m     \u001b[38;5;66;03m# Similarly to Bulk Synchronous Parallel / Pregel model\u001b[39;00m\n\u001b[1;32m   1305\u001b[0m     \u001b[38;5;66;03m# computation proceeds in steps, while there are channel updates\u001b[39;00m\n\u001b[1;32m   1306\u001b[0m     \u001b[38;5;66;03m# channel updates from step N are only visible in step N+1\u001b[39;00m\n\u001b[1;32m   1307\u001b[0m     \u001b[38;5;66;03m# channels are guaranteed to be immutable for the duration of the step,\u001b[39;00m\n\u001b[1;32m   1308\u001b[0m     \u001b[38;5;66;03m# with channel updates applied only at the transition between steps\u001b[39;00m\n\u001b[1;32m   1309\u001b[0m     \u001b[38;5;28;01mwhile\u001b[39;00m loop\u001b[38;5;241m.\u001b[39mtick(\n\u001b[1;32m   1310\u001b[0m         input_keys\u001b[38;5;241m=\u001b[39m\u001b[38;5;28mself\u001b[39m\u001b[38;5;241m.\u001b[39minput_channels,\n\u001b[1;32m   1311\u001b[0m         interrupt_before\u001b[38;5;241m=\u001b[39minterrupt_before_,\n\u001b[1;32m   1312\u001b[0m         interrupt_after\u001b[38;5;241m=\u001b[39minterrupt_after_,\n\u001b[1;32m   1313\u001b[0m         manager\u001b[38;5;241m=\u001b[39mrun_manager,\n\u001b[1;32m   1314\u001b[0m     ):\n\u001b[0;32m-> 1315\u001b[0m \u001b[43m        \u001b[49m\u001b[38;5;28;43;01mfor\u001b[39;49;00m\u001b[43m \u001b[49m\u001b[43m_\u001b[49m\u001b[43m \u001b[49m\u001b[38;5;129;43;01min\u001b[39;49;00m\u001b[43m \u001b[49m\u001b[43mrunner\u001b[49m\u001b[38;5;241;43m.\u001b[39;49m\u001b[43mtick\u001b[49m\u001b[43m(\u001b[49m\n\u001b[1;32m   1316\u001b[0m \u001b[43m            \u001b[49m\u001b[43mloop\u001b[49m\u001b[38;5;241;43m.\u001b[39;49m\u001b[43mtasks\u001b[49m\u001b[38;5;241;43m.\u001b[39;49m\u001b[43mvalues\u001b[49m\u001b[43m(\u001b[49m\u001b[43m)\u001b[49m\u001b[43m,\u001b[49m\n\u001b[1;32m   1317\u001b[0m \u001b[43m            \u001b[49m\u001b[43mtimeout\u001b[49m\u001b[38;5;241;43m=\u001b[39;49m\u001b[38;5;28;43mself\u001b[39;49m\u001b[38;5;241;43m.\u001b[39;49m\u001b[43mstep_timeout\u001b[49m\u001b[43m,\u001b[49m\n\u001b[1;32m   1318\u001b[0m \u001b[43m            \u001b[49m\u001b[43mretry_policy\u001b[49m\u001b[38;5;241;43m=\u001b[39;49m\u001b[38;5;28;43mself\u001b[39;49m\u001b[38;5;241;43m.\u001b[39;49m\u001b[43mretry_policy\u001b[49m\u001b[43m,\u001b[49m\n\u001b[1;32m   1319\u001b[0m \u001b[43m            \u001b[49m\u001b[43mget_waiter\u001b[49m\u001b[38;5;241;43m=\u001b[39;49m\u001b[43mget_waiter\u001b[49m\u001b[43m,\u001b[49m\n\u001b[1;32m   1320\u001b[0m \u001b[43m        \u001b[49m\u001b[43m)\u001b[49m\u001b[43m:\u001b[49m\n\u001b[1;32m   1321\u001b[0m \u001b[43m            \u001b[49m\u001b[38;5;66;43;03m# emit output\u001b[39;49;00m\n\u001b[1;32m   1322\u001b[0m \u001b[43m            \u001b[49m\u001b[38;5;28;43;01myield from\u001b[39;49;00m\u001b[43m \u001b[49m\u001b[43moutput\u001b[49m\u001b[43m(\u001b[49m\u001b[43m)\u001b[49m\n\u001b[1;32m   1323\u001b[0m \u001b[38;5;66;03m# emit output\u001b[39;00m\n",
      "File \u001b[0;32m~/miniconda3/envs/kuralGPT/lib/python3.12/site-packages/langgraph/pregel/runner.py:56\u001b[0m, in \u001b[0;36mPregelRunner.tick\u001b[0;34m(self, tasks, reraise, timeout, retry_policy, get_waiter)\u001b[0m\n\u001b[1;32m     54\u001b[0m t \u001b[38;5;241m=\u001b[39m tasks[\u001b[38;5;241m0\u001b[39m]\n\u001b[1;32m     55\u001b[0m \u001b[38;5;28;01mtry\u001b[39;00m:\n\u001b[0;32m---> 56\u001b[0m     \u001b[43mrun_with_retry\u001b[49m\u001b[43m(\u001b[49m\u001b[43mt\u001b[49m\u001b[43m,\u001b[49m\u001b[43m \u001b[49m\u001b[43mretry_policy\u001b[49m\u001b[43m)\u001b[49m\n\u001b[1;32m     57\u001b[0m     \u001b[38;5;28mself\u001b[39m\u001b[38;5;241m.\u001b[39mcommit(t, \u001b[38;5;28;01mNone\u001b[39;00m)\n\u001b[1;32m     58\u001b[0m \u001b[38;5;28;01mexcept\u001b[39;00m \u001b[38;5;167;01mException\u001b[39;00m \u001b[38;5;28;01mas\u001b[39;00m exc:\n",
      "File \u001b[0;32m~/miniconda3/envs/kuralGPT/lib/python3.12/site-packages/langgraph/pregel/retry.py:29\u001b[0m, in \u001b[0;36mrun_with_retry\u001b[0;34m(task, retry_policy)\u001b[0m\n\u001b[1;32m     27\u001b[0m task\u001b[38;5;241m.\u001b[39mwrites\u001b[38;5;241m.\u001b[39mclear()\n\u001b[1;32m     28\u001b[0m \u001b[38;5;66;03m# run the task\u001b[39;00m\n\u001b[0;32m---> 29\u001b[0m \u001b[43mtask\u001b[49m\u001b[38;5;241;43m.\u001b[39;49m\u001b[43mproc\u001b[49m\u001b[38;5;241;43m.\u001b[39;49m\u001b[43minvoke\u001b[49m\u001b[43m(\u001b[49m\u001b[43mtask\u001b[49m\u001b[38;5;241;43m.\u001b[39;49m\u001b[43minput\u001b[49m\u001b[43m,\u001b[49m\u001b[43m \u001b[49m\u001b[43mconfig\u001b[49m\u001b[43m)\u001b[49m\n\u001b[1;32m     30\u001b[0m \u001b[38;5;66;03m# if successful, end\u001b[39;00m\n\u001b[1;32m     31\u001b[0m \u001b[38;5;28;01mbreak\u001b[39;00m\n",
      "File \u001b[0;32m~/miniconda3/envs/kuralGPT/lib/python3.12/site-packages/langgraph/utils/runnable.py:412\u001b[0m, in \u001b[0;36mRunnableSeq.invoke\u001b[0;34m(self, input, config, **kwargs)\u001b[0m\n\u001b[1;32m    410\u001b[0m             \u001b[38;5;28minput\u001b[39m \u001b[38;5;241m=\u001b[39m context\u001b[38;5;241m.\u001b[39mrun(step\u001b[38;5;241m.\u001b[39minvoke, \u001b[38;5;28minput\u001b[39m, config, \u001b[38;5;241m*\u001b[39m\u001b[38;5;241m*\u001b[39mkwargs)\n\u001b[1;32m    411\u001b[0m         \u001b[38;5;28;01melse\u001b[39;00m:\n\u001b[0;32m--> 412\u001b[0m             \u001b[38;5;28minput\u001b[39m \u001b[38;5;241m=\u001b[39m \u001b[43mcontext\u001b[49m\u001b[38;5;241;43m.\u001b[39;49m\u001b[43mrun\u001b[49m\u001b[43m(\u001b[49m\u001b[43mstep\u001b[49m\u001b[38;5;241;43m.\u001b[39;49m\u001b[43minvoke\u001b[49m\u001b[43m,\u001b[49m\u001b[43m \u001b[49m\u001b[38;5;28;43minput\u001b[39;49m\u001b[43m,\u001b[49m\u001b[43m \u001b[49m\u001b[43mconfig\u001b[49m\u001b[43m)\u001b[49m\n\u001b[1;32m    413\u001b[0m \u001b[38;5;66;03m# finish the root run\u001b[39;00m\n\u001b[1;32m    414\u001b[0m \u001b[38;5;28;01mexcept\u001b[39;00m \u001b[38;5;167;01mBaseException\u001b[39;00m \u001b[38;5;28;01mas\u001b[39;00m e:\n",
      "File \u001b[0;32m~/miniconda3/envs/kuralGPT/lib/python3.12/site-packages/langgraph/utils/runnable.py:184\u001b[0m, in \u001b[0;36mRunnableCallable.invoke\u001b[0;34m(self, input, config, **kwargs)\u001b[0m\n\u001b[1;32m    182\u001b[0m \u001b[38;5;28;01melse\u001b[39;00m:\n\u001b[1;32m    183\u001b[0m     context\u001b[38;5;241m.\u001b[39mrun(_set_config_context, config)\n\u001b[0;32m--> 184\u001b[0m     ret \u001b[38;5;241m=\u001b[39m \u001b[43mcontext\u001b[49m\u001b[38;5;241;43m.\u001b[39;49m\u001b[43mrun\u001b[49m\u001b[43m(\u001b[49m\u001b[38;5;28;43mself\u001b[39;49m\u001b[38;5;241;43m.\u001b[39;49m\u001b[43mfunc\u001b[49m\u001b[43m,\u001b[49m\u001b[43m \u001b[49m\u001b[38;5;28;43minput\u001b[39;49m\u001b[43m,\u001b[49m\u001b[43m \u001b[49m\u001b[38;5;241;43m*\u001b[39;49m\u001b[38;5;241;43m*\u001b[39;49m\u001b[43mkwargs\u001b[49m\u001b[43m)\u001b[49m\n\u001b[1;32m    185\u001b[0m \u001b[38;5;28;01mif\u001b[39;00m \u001b[38;5;28misinstance\u001b[39m(ret, Runnable) \u001b[38;5;129;01mand\u001b[39;00m \u001b[38;5;28mself\u001b[39m\u001b[38;5;241m.\u001b[39mrecurse:\n\u001b[1;32m    186\u001b[0m     \u001b[38;5;28;01mreturn\u001b[39;00m ret\u001b[38;5;241m.\u001b[39minvoke(\u001b[38;5;28minput\u001b[39m, config)\n",
      "File \u001b[0;32m~/miniconda3/envs/kuralGPT/lib/python3.12/site-packages/langgraph/graph/graph.py:94\u001b[0m, in \u001b[0;36mBranch._route\u001b[0;34m(self, input, config, reader, writer)\u001b[0m\n\u001b[1;32m     92\u001b[0m     value \u001b[38;5;241m=\u001b[39m \u001b[38;5;28minput\u001b[39m\n\u001b[1;32m     93\u001b[0m result \u001b[38;5;241m=\u001b[39m \u001b[38;5;28mself\u001b[39m\u001b[38;5;241m.\u001b[39mpath\u001b[38;5;241m.\u001b[39minvoke(value, config)\n\u001b[0;32m---> 94\u001b[0m \u001b[38;5;28;01mreturn\u001b[39;00m \u001b[38;5;28;43mself\u001b[39;49m\u001b[38;5;241;43m.\u001b[39;49m\u001b[43m_finish\u001b[49m\u001b[43m(\u001b[49m\u001b[43mwriter\u001b[49m\u001b[43m,\u001b[49m\u001b[43m \u001b[49m\u001b[38;5;28;43minput\u001b[39;49m\u001b[43m,\u001b[49m\u001b[43m \u001b[49m\u001b[43mresult\u001b[49m\u001b[43m,\u001b[49m\u001b[43m \u001b[49m\u001b[43mconfig\u001b[49m\u001b[43m)\u001b[49m\n",
      "File \u001b[0;32m~/miniconda3/envs/kuralGPT/lib/python3.12/site-packages/langgraph/graph/graph.py:130\u001b[0m, in \u001b[0;36mBranch._finish\u001b[0;34m(self, writer, input, result, config)\u001b[0m\n\u001b[1;32m    127\u001b[0m     result \u001b[38;5;241m=\u001b[39m [result]\n\u001b[1;32m    128\u001b[0m \u001b[38;5;28;01mif\u001b[39;00m \u001b[38;5;28mself\u001b[39m\u001b[38;5;241m.\u001b[39mends:\n\u001b[1;32m    129\u001b[0m     destinations: Sequence[Union[Send, \u001b[38;5;28mstr\u001b[39m]] \u001b[38;5;241m=\u001b[39m [\n\u001b[0;32m--> 130\u001b[0m         r \u001b[38;5;28;01mif\u001b[39;00m \u001b[38;5;28misinstance\u001b[39m(r, Send) \u001b[38;5;28;01melse\u001b[39;00m \u001b[38;5;28;43mself\u001b[39;49m\u001b[38;5;241;43m.\u001b[39;49m\u001b[43mends\u001b[49m\u001b[43m[\u001b[49m\u001b[43mr\u001b[49m\u001b[43m]\u001b[49m \u001b[38;5;28;01mfor\u001b[39;00m r \u001b[38;5;129;01min\u001b[39;00m result\n\u001b[1;32m    131\u001b[0m     ]\n\u001b[1;32m    132\u001b[0m \u001b[38;5;28;01melse\u001b[39;00m:\n\u001b[1;32m    133\u001b[0m     destinations \u001b[38;5;241m=\u001b[39m cast(Sequence[Union[Send, \u001b[38;5;28mstr\u001b[39m]], result)\n",
      "\u001b[0;31mKeyError\u001b[0m: 'not useful'"
     ]
    }
   ],
   "source": [
    "# Run\n",
    "\n",
    "\n",
    "for output in app.stream(inputs,config):\n",
    "    for key, value in output.items():\n",
    "        # Node\n",
    "        pprint.pprint(f\"Node '{key}':\")\n",
    "        # Optional: print full state at each node\n",
    "    pprint.pprint(\"\\n---\\n\")\n",
    "\n",
    "\n",
    "# Final generation\n",
    "pprint.pprint(value[\"generation\"])"
   ]
  },
  {
   "cell_type": "code",
   "execution_count": null,
   "metadata": {},
   "outputs": [],
   "source": []
  },
  {
   "cell_type": "code",
   "execution_count": null,
   "metadata": {},
   "outputs": [],
   "source": []
  },
  {
   "cell_type": "code",
   "execution_count": null,
   "metadata": {},
   "outputs": [],
   "source": []
  },
  {
   "cell_type": "code",
   "execution_count": null,
   "metadata": {},
   "outputs": [],
   "source": []
  },
  {
   "cell_type": "code",
   "execution_count": null,
   "metadata": {},
   "outputs": [],
   "source": []
  }
 ],
 "metadata": {
  "kernelspec": {
   "display_name": "kuralGPT",
   "language": "python",
   "name": "python3"
  },
  "language_info": {
   "codemirror_mode": {
    "name": "ipython",
    "version": 3
   },
   "file_extension": ".py",
   "mimetype": "text/x-python",
   "name": "python",
   "nbconvert_exporter": "python",
   "pygments_lexer": "ipython3",
   "version": "3.12.0"
  }
 },
 "nbformat": 4,
 "nbformat_minor": 2
}
